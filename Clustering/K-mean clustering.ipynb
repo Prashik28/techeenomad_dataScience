{
 "cells": [
  {
   "cell_type": "markdown",
   "id": "0b93038d",
   "metadata": {},
   "source": [
    " ### Data preparation steps:\n",
    "     1. Importing datasets\n",
    "     2. Removing missing values\n",
    "     3. Aggregating RFM values\n",
    "         - R : Recency -> How recent customer purchased any of the item.\n",
    "         - F : Frequency -> How frequent?\n",
    "         - M : Monetory -> Value of last purchase\n",
    "     4. Outlier treatment"
   ]
  },
  {
   "cell_type": "code",
   "execution_count": 1,
   "id": "e5ec8db2",
   "metadata": {},
   "outputs": [],
   "source": [
    "# Import libraries\n",
    "import pandas as pd\n",
    "import numpy as np\n",
    "import matplotlib.pyplot as plt\n",
    "import seaborn as sns"
   ]
  },
  {
   "cell_type": "code",
   "execution_count": 2,
   "id": "6912b193",
   "metadata": {},
   "outputs": [],
   "source": [
    "retail_df = pd.read_csv('Online+Retail.csv', sep=',', encoding=\"ISO-8859-1\", header=0)"
   ]
  },
  {
   "cell_type": "code",
   "execution_count": 3,
   "id": "255343ee",
   "metadata": {},
   "outputs": [
    {
     "data": {
      "text/html": [
       "<div>\n",
       "<style scoped>\n",
       "    .dataframe tbody tr th:only-of-type {\n",
       "        vertical-align: middle;\n",
       "    }\n",
       "\n",
       "    .dataframe tbody tr th {\n",
       "        vertical-align: top;\n",
       "    }\n",
       "\n",
       "    .dataframe thead th {\n",
       "        text-align: right;\n",
       "    }\n",
       "</style>\n",
       "<table border=\"1\" class=\"dataframe\">\n",
       "  <thead>\n",
       "    <tr style=\"text-align: right;\">\n",
       "      <th></th>\n",
       "      <th>InvoiceNo</th>\n",
       "      <th>StockCode</th>\n",
       "      <th>Description</th>\n",
       "      <th>Quantity</th>\n",
       "      <th>InvoiceDate</th>\n",
       "      <th>UnitPrice</th>\n",
       "      <th>CustomerID</th>\n",
       "      <th>Country</th>\n",
       "    </tr>\n",
       "  </thead>\n",
       "  <tbody>\n",
       "    <tr>\n",
       "      <th>0</th>\n",
       "      <td>536365</td>\n",
       "      <td>85123A</td>\n",
       "      <td>WHITE HANGING HEART T-LIGHT HOLDER</td>\n",
       "      <td>6</td>\n",
       "      <td>01-12-2010 08:26</td>\n",
       "      <td>2.55</td>\n",
       "      <td>17850.0</td>\n",
       "      <td>United Kingdom</td>\n",
       "    </tr>\n",
       "    <tr>\n",
       "      <th>1</th>\n",
       "      <td>536365</td>\n",
       "      <td>71053</td>\n",
       "      <td>WHITE METAL LANTERN</td>\n",
       "      <td>6</td>\n",
       "      <td>01-12-2010 08:26</td>\n",
       "      <td>3.39</td>\n",
       "      <td>17850.0</td>\n",
       "      <td>United Kingdom</td>\n",
       "    </tr>\n",
       "    <tr>\n",
       "      <th>2</th>\n",
       "      <td>536365</td>\n",
       "      <td>84406B</td>\n",
       "      <td>CREAM CUPID HEARTS COAT HANGER</td>\n",
       "      <td>8</td>\n",
       "      <td>01-12-2010 08:26</td>\n",
       "      <td>2.75</td>\n",
       "      <td>17850.0</td>\n",
       "      <td>United Kingdom</td>\n",
       "    </tr>\n",
       "    <tr>\n",
       "      <th>3</th>\n",
       "      <td>536365</td>\n",
       "      <td>84029G</td>\n",
       "      <td>KNITTED UNION FLAG HOT WATER BOTTLE</td>\n",
       "      <td>6</td>\n",
       "      <td>01-12-2010 08:26</td>\n",
       "      <td>3.39</td>\n",
       "      <td>17850.0</td>\n",
       "      <td>United Kingdom</td>\n",
       "    </tr>\n",
       "    <tr>\n",
       "      <th>4</th>\n",
       "      <td>536365</td>\n",
       "      <td>84029E</td>\n",
       "      <td>RED WOOLLY HOTTIE WHITE HEART.</td>\n",
       "      <td>6</td>\n",
       "      <td>01-12-2010 08:26</td>\n",
       "      <td>3.39</td>\n",
       "      <td>17850.0</td>\n",
       "      <td>United Kingdom</td>\n",
       "    </tr>\n",
       "  </tbody>\n",
       "</table>\n",
       "</div>"
      ],
      "text/plain": [
       "  InvoiceNo StockCode                          Description  Quantity  \\\n",
       "0    536365    85123A   WHITE HANGING HEART T-LIGHT HOLDER         6   \n",
       "1    536365     71053                  WHITE METAL LANTERN         6   \n",
       "2    536365    84406B       CREAM CUPID HEARTS COAT HANGER         8   \n",
       "3    536365    84029G  KNITTED UNION FLAG HOT WATER BOTTLE         6   \n",
       "4    536365    84029E       RED WOOLLY HOTTIE WHITE HEART.         6   \n",
       "\n",
       "        InvoiceDate  UnitPrice  CustomerID         Country  \n",
       "0  01-12-2010 08:26       2.55     17850.0  United Kingdom  \n",
       "1  01-12-2010 08:26       3.39     17850.0  United Kingdom  \n",
       "2  01-12-2010 08:26       2.75     17850.0  United Kingdom  \n",
       "3  01-12-2010 08:26       3.39     17850.0  United Kingdom  \n",
       "4  01-12-2010 08:26       3.39     17850.0  United Kingdom  "
      ]
     },
     "execution_count": 3,
     "metadata": {},
     "output_type": "execute_result"
    }
   ],
   "source": [
    "retail_df.head()"
   ]
  },
  {
   "cell_type": "code",
   "execution_count": 4,
   "id": "2a75b3e9",
   "metadata": {},
   "outputs": [
    {
     "data": {
      "text/plain": [
       "(541909, 8)"
      ]
     },
     "execution_count": 4,
     "metadata": {},
     "output_type": "execute_result"
    }
   ],
   "source": [
    "retail_df.shape"
   ]
  },
  {
   "cell_type": "code",
   "execution_count": 5,
   "id": "7232b039",
   "metadata": {},
   "outputs": [
    {
     "name": "stdout",
     "output_type": "stream",
     "text": [
      "<class 'pandas.core.frame.DataFrame'>\n",
      "RangeIndex: 541909 entries, 0 to 541908\n",
      "Data columns (total 8 columns):\n",
      " #   Column       Non-Null Count   Dtype  \n",
      "---  ------       --------------   -----  \n",
      " 0   InvoiceNo    541909 non-null  object \n",
      " 1   StockCode    541909 non-null  object \n",
      " 2   Description  540455 non-null  object \n",
      " 3   Quantity     541909 non-null  int64  \n",
      " 4   InvoiceDate  541909 non-null  object \n",
      " 5   UnitPrice    541909 non-null  float64\n",
      " 6   CustomerID   406829 non-null  float64\n",
      " 7   Country      541909 non-null  object \n",
      "dtypes: float64(2), int64(1), object(5)\n",
      "memory usage: 33.1+ MB\n"
     ]
    }
   ],
   "source": [
    "retail_df.info()"
   ]
  },
  {
   "cell_type": "markdown",
   "id": "8de62691",
   "metadata": {},
   "source": [
    "##### Cleaning the data"
   ]
  },
  {
   "cell_type": "code",
   "execution_count": 6,
   "id": "3f025d78",
   "metadata": {},
   "outputs": [
    {
     "data": {
      "text/plain": [
       "InvoiceNo       0.00\n",
       "StockCode       0.00\n",
       "Description     0.27\n",
       "Quantity        0.00\n",
       "InvoiceDate     0.00\n",
       "UnitPrice       0.00\n",
       "CustomerID     24.93\n",
       "Country         0.00\n",
       "dtype: float64"
      ]
     },
     "execution_count": 6,
     "metadata": {},
     "output_type": "execute_result"
    }
   ],
   "source": [
    "round((retail_df.isnull().sum()/len(retail_df))*100,2)"
   ]
  },
  {
   "cell_type": "code",
   "execution_count": 7,
   "id": "5c8ee36f",
   "metadata": {},
   "outputs": [],
   "source": [
    "# drop all rows having missing values\n",
    "## Even though 25% is more to be dropped, however of business analysis, customer ID is mandatory "
   ]
  },
  {
   "cell_type": "code",
   "execution_count": 8,
   "id": "38d1c157",
   "metadata": {},
   "outputs": [],
   "source": [
    "retail_df=retail_df.dropna()"
   ]
  },
  {
   "cell_type": "code",
   "execution_count": 9,
   "id": "bf90ab83",
   "metadata": {},
   "outputs": [
    {
     "data": {
      "text/plain": [
       "(406829, 8)"
      ]
     },
     "execution_count": 9,
     "metadata": {},
     "output_type": "execute_result"
    }
   ],
   "source": [
    "retail_df.shape"
   ]
  },
  {
   "cell_type": "code",
   "execution_count": 10,
   "id": "f909ee23",
   "metadata": {},
   "outputs": [
    {
     "name": "stdout",
     "output_type": "stream",
     "text": [
      "<class 'pandas.core.frame.DataFrame'>\n",
      "Int64Index: 406829 entries, 0 to 541908\n",
      "Data columns (total 8 columns):\n",
      " #   Column       Non-Null Count   Dtype  \n",
      "---  ------       --------------   -----  \n",
      " 0   InvoiceNo    406829 non-null  object \n",
      " 1   StockCode    406829 non-null  object \n",
      " 2   Description  406829 non-null  object \n",
      " 3   Quantity     406829 non-null  int64  \n",
      " 4   InvoiceDate  406829 non-null  object \n",
      " 5   UnitPrice    406829 non-null  float64\n",
      " 6   CustomerID   406829 non-null  float64\n",
      " 7   Country      406829 non-null  object \n",
      "dtypes: float64(2), int64(1), object(5)\n",
      "memory usage: 27.9+ MB\n"
     ]
    }
   ],
   "source": [
    "retail_df.info()"
   ]
  },
  {
   "cell_type": "code",
   "execution_count": 11,
   "id": "f74482fb",
   "metadata": {},
   "outputs": [
    {
     "data": {
      "text/plain": [
       "InvoiceNo      0.0\n",
       "StockCode      0.0\n",
       "Description    0.0\n",
       "Quantity       0.0\n",
       "InvoiceDate    0.0\n",
       "UnitPrice      0.0\n",
       "CustomerID     0.0\n",
       "Country        0.0\n",
       "dtype: float64"
      ]
     },
     "execution_count": 11,
     "metadata": {},
     "output_type": "execute_result"
    }
   ],
   "source": [
    "round((retail_df.isnull().sum()/len(retail_df))*100,2)"
   ]
  },
  {
   "cell_type": "code",
   "execution_count": 12,
   "id": "81e9d75b",
   "metadata": {},
   "outputs": [],
   "source": [
    "# Add new column as amount\n",
    "retail_df['amount'] = retail_df['Quantity'] * retail_df['UnitPrice']"
   ]
  },
  {
   "cell_type": "code",
   "execution_count": 13,
   "id": "48cb7a95",
   "metadata": {},
   "outputs": [
    {
     "data": {
      "text/html": [
       "<div>\n",
       "<style scoped>\n",
       "    .dataframe tbody tr th:only-of-type {\n",
       "        vertical-align: middle;\n",
       "    }\n",
       "\n",
       "    .dataframe tbody tr th {\n",
       "        vertical-align: top;\n",
       "    }\n",
       "\n",
       "    .dataframe thead th {\n",
       "        text-align: right;\n",
       "    }\n",
       "</style>\n",
       "<table border=\"1\" class=\"dataframe\">\n",
       "  <thead>\n",
       "    <tr style=\"text-align: right;\">\n",
       "      <th></th>\n",
       "      <th>InvoiceNo</th>\n",
       "      <th>StockCode</th>\n",
       "      <th>Description</th>\n",
       "      <th>Quantity</th>\n",
       "      <th>InvoiceDate</th>\n",
       "      <th>UnitPrice</th>\n",
       "      <th>CustomerID</th>\n",
       "      <th>Country</th>\n",
       "      <th>amount</th>\n",
       "    </tr>\n",
       "  </thead>\n",
       "  <tbody>\n",
       "    <tr>\n",
       "      <th>0</th>\n",
       "      <td>536365</td>\n",
       "      <td>85123A</td>\n",
       "      <td>WHITE HANGING HEART T-LIGHT HOLDER</td>\n",
       "      <td>6</td>\n",
       "      <td>01-12-2010 08:26</td>\n",
       "      <td>2.55</td>\n",
       "      <td>17850.0</td>\n",
       "      <td>United Kingdom</td>\n",
       "      <td>15.30</td>\n",
       "    </tr>\n",
       "    <tr>\n",
       "      <th>1</th>\n",
       "      <td>536365</td>\n",
       "      <td>71053</td>\n",
       "      <td>WHITE METAL LANTERN</td>\n",
       "      <td>6</td>\n",
       "      <td>01-12-2010 08:26</td>\n",
       "      <td>3.39</td>\n",
       "      <td>17850.0</td>\n",
       "      <td>United Kingdom</td>\n",
       "      <td>20.34</td>\n",
       "    </tr>\n",
       "    <tr>\n",
       "      <th>2</th>\n",
       "      <td>536365</td>\n",
       "      <td>84406B</td>\n",
       "      <td>CREAM CUPID HEARTS COAT HANGER</td>\n",
       "      <td>8</td>\n",
       "      <td>01-12-2010 08:26</td>\n",
       "      <td>2.75</td>\n",
       "      <td>17850.0</td>\n",
       "      <td>United Kingdom</td>\n",
       "      <td>22.00</td>\n",
       "    </tr>\n",
       "    <tr>\n",
       "      <th>3</th>\n",
       "      <td>536365</td>\n",
       "      <td>84029G</td>\n",
       "      <td>KNITTED UNION FLAG HOT WATER BOTTLE</td>\n",
       "      <td>6</td>\n",
       "      <td>01-12-2010 08:26</td>\n",
       "      <td>3.39</td>\n",
       "      <td>17850.0</td>\n",
       "      <td>United Kingdom</td>\n",
       "      <td>20.34</td>\n",
       "    </tr>\n",
       "    <tr>\n",
       "      <th>4</th>\n",
       "      <td>536365</td>\n",
       "      <td>84029E</td>\n",
       "      <td>RED WOOLLY HOTTIE WHITE HEART.</td>\n",
       "      <td>6</td>\n",
       "      <td>01-12-2010 08:26</td>\n",
       "      <td>3.39</td>\n",
       "      <td>17850.0</td>\n",
       "      <td>United Kingdom</td>\n",
       "      <td>20.34</td>\n",
       "    </tr>\n",
       "  </tbody>\n",
       "</table>\n",
       "</div>"
      ],
      "text/plain": [
       "  InvoiceNo StockCode                          Description  Quantity  \\\n",
       "0    536365    85123A   WHITE HANGING HEART T-LIGHT HOLDER         6   \n",
       "1    536365     71053                  WHITE METAL LANTERN         6   \n",
       "2    536365    84406B       CREAM CUPID HEARTS COAT HANGER         8   \n",
       "3    536365    84029G  KNITTED UNION FLAG HOT WATER BOTTLE         6   \n",
       "4    536365    84029E       RED WOOLLY HOTTIE WHITE HEART.         6   \n",
       "\n",
       "        InvoiceDate  UnitPrice  CustomerID         Country  amount  \n",
       "0  01-12-2010 08:26       2.55     17850.0  United Kingdom   15.30  \n",
       "1  01-12-2010 08:26       3.39     17850.0  United Kingdom   20.34  \n",
       "2  01-12-2010 08:26       2.75     17850.0  United Kingdom   22.00  \n",
       "3  01-12-2010 08:26       3.39     17850.0  United Kingdom   20.34  \n",
       "4  01-12-2010 08:26       3.39     17850.0  United Kingdom   20.34  "
      ]
     },
     "execution_count": 13,
     "metadata": {},
     "output_type": "execute_result"
    }
   ],
   "source": [
    "retail_df.head()"
   ]
  },
  {
   "cell_type": "code",
   "execution_count": null,
   "id": "5b15f5a5",
   "metadata": {},
   "outputs": [],
   "source": []
  },
  {
   "cell_type": "markdown",
   "id": "e5148858",
   "metadata": {},
   "source": [
    "##### Data preparation for modelling"
   ]
  },
  {
   "cell_type": "code",
   "execution_count": 14,
   "id": "7d1aebf1",
   "metadata": {},
   "outputs": [],
   "source": [
    "#Based on use case, the final data frame should have below mentioned columns:\n",
    "# cust_id, Recency, Frequency, Monetory"
   ]
  },
  {
   "cell_type": "code",
   "execution_count": 15,
   "id": "2598064f",
   "metadata": {},
   "outputs": [],
   "source": [
    "# Monetory\n",
    "groupeddf = retail_df.groupby('CustomerID')['amount'].sum()"
   ]
  },
  {
   "cell_type": "code",
   "execution_count": 16,
   "id": "c4a634af",
   "metadata": {},
   "outputs": [],
   "source": [
    "groupeddf = groupeddf.reset_index()\n",
    "groupeddf.columns = ['CustomerID','monetory']"
   ]
  },
  {
   "cell_type": "code",
   "execution_count": 17,
   "id": "a5acc5b8",
   "metadata": {},
   "outputs": [
    {
     "data": {
      "text/html": [
       "<div>\n",
       "<style scoped>\n",
       "    .dataframe tbody tr th:only-of-type {\n",
       "        vertical-align: middle;\n",
       "    }\n",
       "\n",
       "    .dataframe tbody tr th {\n",
       "        vertical-align: top;\n",
       "    }\n",
       "\n",
       "    .dataframe thead th {\n",
       "        text-align: right;\n",
       "    }\n",
       "</style>\n",
       "<table border=\"1\" class=\"dataframe\">\n",
       "  <thead>\n",
       "    <tr style=\"text-align: right;\">\n",
       "      <th></th>\n",
       "      <th>CustomerID</th>\n",
       "      <th>monetory</th>\n",
       "    </tr>\n",
       "  </thead>\n",
       "  <tbody>\n",
       "    <tr>\n",
       "      <th>0</th>\n",
       "      <td>12346.0</td>\n",
       "      <td>0.00</td>\n",
       "    </tr>\n",
       "    <tr>\n",
       "      <th>1</th>\n",
       "      <td>12347.0</td>\n",
       "      <td>4310.00</td>\n",
       "    </tr>\n",
       "    <tr>\n",
       "      <th>2</th>\n",
       "      <td>12348.0</td>\n",
       "      <td>1797.24</td>\n",
       "    </tr>\n",
       "    <tr>\n",
       "      <th>3</th>\n",
       "      <td>12349.0</td>\n",
       "      <td>1757.55</td>\n",
       "    </tr>\n",
       "    <tr>\n",
       "      <th>4</th>\n",
       "      <td>12350.0</td>\n",
       "      <td>334.40</td>\n",
       "    </tr>\n",
       "  </tbody>\n",
       "</table>\n",
       "</div>"
      ],
      "text/plain": [
       "   CustomerID  monetory\n",
       "0     12346.0      0.00\n",
       "1     12347.0   4310.00\n",
       "2     12348.0   1797.24\n",
       "3     12349.0   1757.55\n",
       "4     12350.0    334.40"
      ]
     },
     "execution_count": 17,
     "metadata": {},
     "output_type": "execute_result"
    }
   ],
   "source": [
    "groupeddf.head()"
   ]
  },
  {
   "cell_type": "code",
   "execution_count": 18,
   "id": "1a714f93",
   "metadata": {},
   "outputs": [],
   "source": [
    "# Frequency\n",
    "frequencydf = retail_df.groupby('CustomerID')['InvoiceNo'].count()\n",
    "frequencydf = frequencydf.reset_index()\n",
    "frequencydf.columns = ['CustomerID','frequency']"
   ]
  },
  {
   "cell_type": "code",
   "execution_count": 19,
   "id": "6d2b0e30",
   "metadata": {},
   "outputs": [
    {
     "data": {
      "text/html": [
       "<div>\n",
       "<style scoped>\n",
       "    .dataframe tbody tr th:only-of-type {\n",
       "        vertical-align: middle;\n",
       "    }\n",
       "\n",
       "    .dataframe tbody tr th {\n",
       "        vertical-align: top;\n",
       "    }\n",
       "\n",
       "    .dataframe thead th {\n",
       "        text-align: right;\n",
       "    }\n",
       "</style>\n",
       "<table border=\"1\" class=\"dataframe\">\n",
       "  <thead>\n",
       "    <tr style=\"text-align: right;\">\n",
       "      <th></th>\n",
       "      <th>CustomerID</th>\n",
       "      <th>frequency</th>\n",
       "    </tr>\n",
       "  </thead>\n",
       "  <tbody>\n",
       "    <tr>\n",
       "      <th>0</th>\n",
       "      <td>12346.0</td>\n",
       "      <td>2</td>\n",
       "    </tr>\n",
       "    <tr>\n",
       "      <th>1</th>\n",
       "      <td>12347.0</td>\n",
       "      <td>182</td>\n",
       "    </tr>\n",
       "    <tr>\n",
       "      <th>2</th>\n",
       "      <td>12348.0</td>\n",
       "      <td>31</td>\n",
       "    </tr>\n",
       "    <tr>\n",
       "      <th>3</th>\n",
       "      <td>12349.0</td>\n",
       "      <td>73</td>\n",
       "    </tr>\n",
       "    <tr>\n",
       "      <th>4</th>\n",
       "      <td>12350.0</td>\n",
       "      <td>17</td>\n",
       "    </tr>\n",
       "  </tbody>\n",
       "</table>\n",
       "</div>"
      ],
      "text/plain": [
       "   CustomerID  frequency\n",
       "0     12346.0          2\n",
       "1     12347.0        182\n",
       "2     12348.0         31\n",
       "3     12349.0         73\n",
       "4     12350.0         17"
      ]
     },
     "execution_count": 19,
     "metadata": {},
     "output_type": "execute_result"
    }
   ],
   "source": [
    "frequencydf.head()"
   ]
  },
  {
   "cell_type": "code",
   "execution_count": 20,
   "id": "d2bc9607",
   "metadata": {},
   "outputs": [],
   "source": [
    "#merge two dataframe\n",
    "groupeddf = pd.merge(groupeddf, frequencydf,on='CustomerID', how='inner')"
   ]
  },
  {
   "cell_type": "code",
   "execution_count": 21,
   "id": "9d7a41e0",
   "metadata": {},
   "outputs": [
    {
     "data": {
      "text/html": [
       "<div>\n",
       "<style scoped>\n",
       "    .dataframe tbody tr th:only-of-type {\n",
       "        vertical-align: middle;\n",
       "    }\n",
       "\n",
       "    .dataframe tbody tr th {\n",
       "        vertical-align: top;\n",
       "    }\n",
       "\n",
       "    .dataframe thead th {\n",
       "        text-align: right;\n",
       "    }\n",
       "</style>\n",
       "<table border=\"1\" class=\"dataframe\">\n",
       "  <thead>\n",
       "    <tr style=\"text-align: right;\">\n",
       "      <th></th>\n",
       "      <th>CustomerID</th>\n",
       "      <th>monetory</th>\n",
       "      <th>frequency</th>\n",
       "    </tr>\n",
       "  </thead>\n",
       "  <tbody>\n",
       "    <tr>\n",
       "      <th>0</th>\n",
       "      <td>12346.0</td>\n",
       "      <td>0.00</td>\n",
       "      <td>2</td>\n",
       "    </tr>\n",
       "    <tr>\n",
       "      <th>1</th>\n",
       "      <td>12347.0</td>\n",
       "      <td>4310.00</td>\n",
       "      <td>182</td>\n",
       "    </tr>\n",
       "    <tr>\n",
       "      <th>2</th>\n",
       "      <td>12348.0</td>\n",
       "      <td>1797.24</td>\n",
       "      <td>31</td>\n",
       "    </tr>\n",
       "    <tr>\n",
       "      <th>3</th>\n",
       "      <td>12349.0</td>\n",
       "      <td>1757.55</td>\n",
       "      <td>73</td>\n",
       "    </tr>\n",
       "    <tr>\n",
       "      <th>4</th>\n",
       "      <td>12350.0</td>\n",
       "      <td>334.40</td>\n",
       "      <td>17</td>\n",
       "    </tr>\n",
       "  </tbody>\n",
       "</table>\n",
       "</div>"
      ],
      "text/plain": [
       "   CustomerID  monetory  frequency\n",
       "0     12346.0      0.00          2\n",
       "1     12347.0   4310.00        182\n",
       "2     12348.0   1797.24         31\n",
       "3     12349.0   1757.55         73\n",
       "4     12350.0    334.40         17"
      ]
     },
     "execution_count": 21,
     "metadata": {},
     "output_type": "execute_result"
    }
   ],
   "source": [
    "groupeddf.head()"
   ]
  },
  {
   "cell_type": "code",
   "execution_count": 22,
   "id": "72ce403f",
   "metadata": {},
   "outputs": [],
   "source": [
    "#Recency\n",
    "## First we need to convert datatime in number format. Take reference date and calculate min "
   ]
  },
  {
   "cell_type": "code",
   "execution_count": 23,
   "id": "82a7161a",
   "metadata": {},
   "outputs": [
    {
     "name": "stdout",
     "output_type": "stream",
     "text": [
      "<class 'pandas.core.frame.DataFrame'>\n",
      "Int64Index: 406829 entries, 0 to 541908\n",
      "Data columns (total 9 columns):\n",
      " #   Column       Non-Null Count   Dtype  \n",
      "---  ------       --------------   -----  \n",
      " 0   InvoiceNo    406829 non-null  object \n",
      " 1   StockCode    406829 non-null  object \n",
      " 2   Description  406829 non-null  object \n",
      " 3   Quantity     406829 non-null  int64  \n",
      " 4   InvoiceDate  406829 non-null  object \n",
      " 5   UnitPrice    406829 non-null  float64\n",
      " 6   CustomerID   406829 non-null  float64\n",
      " 7   Country      406829 non-null  object \n",
      " 8   amount       406829 non-null  float64\n",
      "dtypes: float64(3), int64(1), object(5)\n",
      "memory usage: 31.0+ MB\n"
     ]
    }
   ],
   "source": [
    "retail_df.info()"
   ]
  },
  {
   "cell_type": "code",
   "execution_count": 24,
   "id": "35750231",
   "metadata": {},
   "outputs": [],
   "source": [
    "retail_df['InvoiceDate'] = pd.to_datetime(retail_df['InvoiceDate'], format='%d-%m-%Y %H:%M')"
   ]
  },
  {
   "cell_type": "code",
   "execution_count": 25,
   "id": "4a4c0a46",
   "metadata": {},
   "outputs": [
    {
     "data": {
      "text/html": [
       "<div>\n",
       "<style scoped>\n",
       "    .dataframe tbody tr th:only-of-type {\n",
       "        vertical-align: middle;\n",
       "    }\n",
       "\n",
       "    .dataframe tbody tr th {\n",
       "        vertical-align: top;\n",
       "    }\n",
       "\n",
       "    .dataframe thead th {\n",
       "        text-align: right;\n",
       "    }\n",
       "</style>\n",
       "<table border=\"1\" class=\"dataframe\">\n",
       "  <thead>\n",
       "    <tr style=\"text-align: right;\">\n",
       "      <th></th>\n",
       "      <th>InvoiceNo</th>\n",
       "      <th>StockCode</th>\n",
       "      <th>Description</th>\n",
       "      <th>Quantity</th>\n",
       "      <th>InvoiceDate</th>\n",
       "      <th>UnitPrice</th>\n",
       "      <th>CustomerID</th>\n",
       "      <th>Country</th>\n",
       "      <th>amount</th>\n",
       "    </tr>\n",
       "  </thead>\n",
       "  <tbody>\n",
       "    <tr>\n",
       "      <th>0</th>\n",
       "      <td>536365</td>\n",
       "      <td>85123A</td>\n",
       "      <td>WHITE HANGING HEART T-LIGHT HOLDER</td>\n",
       "      <td>6</td>\n",
       "      <td>2010-12-01 08:26:00</td>\n",
       "      <td>2.55</td>\n",
       "      <td>17850.0</td>\n",
       "      <td>United Kingdom</td>\n",
       "      <td>15.30</td>\n",
       "    </tr>\n",
       "    <tr>\n",
       "      <th>1</th>\n",
       "      <td>536365</td>\n",
       "      <td>71053</td>\n",
       "      <td>WHITE METAL LANTERN</td>\n",
       "      <td>6</td>\n",
       "      <td>2010-12-01 08:26:00</td>\n",
       "      <td>3.39</td>\n",
       "      <td>17850.0</td>\n",
       "      <td>United Kingdom</td>\n",
       "      <td>20.34</td>\n",
       "    </tr>\n",
       "    <tr>\n",
       "      <th>2</th>\n",
       "      <td>536365</td>\n",
       "      <td>84406B</td>\n",
       "      <td>CREAM CUPID HEARTS COAT HANGER</td>\n",
       "      <td>8</td>\n",
       "      <td>2010-12-01 08:26:00</td>\n",
       "      <td>2.75</td>\n",
       "      <td>17850.0</td>\n",
       "      <td>United Kingdom</td>\n",
       "      <td>22.00</td>\n",
       "    </tr>\n",
       "    <tr>\n",
       "      <th>3</th>\n",
       "      <td>536365</td>\n",
       "      <td>84029G</td>\n",
       "      <td>KNITTED UNION FLAG HOT WATER BOTTLE</td>\n",
       "      <td>6</td>\n",
       "      <td>2010-12-01 08:26:00</td>\n",
       "      <td>3.39</td>\n",
       "      <td>17850.0</td>\n",
       "      <td>United Kingdom</td>\n",
       "      <td>20.34</td>\n",
       "    </tr>\n",
       "    <tr>\n",
       "      <th>4</th>\n",
       "      <td>536365</td>\n",
       "      <td>84029E</td>\n",
       "      <td>RED WOOLLY HOTTIE WHITE HEART.</td>\n",
       "      <td>6</td>\n",
       "      <td>2010-12-01 08:26:00</td>\n",
       "      <td>3.39</td>\n",
       "      <td>17850.0</td>\n",
       "      <td>United Kingdom</td>\n",
       "      <td>20.34</td>\n",
       "    </tr>\n",
       "  </tbody>\n",
       "</table>\n",
       "</div>"
      ],
      "text/plain": [
       "  InvoiceNo StockCode                          Description  Quantity  \\\n",
       "0    536365    85123A   WHITE HANGING HEART T-LIGHT HOLDER         6   \n",
       "1    536365     71053                  WHITE METAL LANTERN         6   \n",
       "2    536365    84406B       CREAM CUPID HEARTS COAT HANGER         8   \n",
       "3    536365    84029G  KNITTED UNION FLAG HOT WATER BOTTLE         6   \n",
       "4    536365    84029E       RED WOOLLY HOTTIE WHITE HEART.         6   \n",
       "\n",
       "          InvoiceDate  UnitPrice  CustomerID         Country  amount  \n",
       "0 2010-12-01 08:26:00       2.55     17850.0  United Kingdom   15.30  \n",
       "1 2010-12-01 08:26:00       3.39     17850.0  United Kingdom   20.34  \n",
       "2 2010-12-01 08:26:00       2.75     17850.0  United Kingdom   22.00  \n",
       "3 2010-12-01 08:26:00       3.39     17850.0  United Kingdom   20.34  \n",
       "4 2010-12-01 08:26:00       3.39     17850.0  United Kingdom   20.34  "
      ]
     },
     "execution_count": 25,
     "metadata": {},
     "output_type": "execute_result"
    }
   ],
   "source": [
    "retail_df.head()"
   ]
  },
  {
   "cell_type": "code",
   "execution_count": 26,
   "id": "75cbe572",
   "metadata": {},
   "outputs": [
    {
     "name": "stdout",
     "output_type": "stream",
     "text": [
      "<class 'pandas.core.frame.DataFrame'>\n",
      "Int64Index: 406829 entries, 0 to 541908\n",
      "Data columns (total 9 columns):\n",
      " #   Column       Non-Null Count   Dtype         \n",
      "---  ------       --------------   -----         \n",
      " 0   InvoiceNo    406829 non-null  object        \n",
      " 1   StockCode    406829 non-null  object        \n",
      " 2   Description  406829 non-null  object        \n",
      " 3   Quantity     406829 non-null  int64         \n",
      " 4   InvoiceDate  406829 non-null  datetime64[ns]\n",
      " 5   UnitPrice    406829 non-null  float64       \n",
      " 6   CustomerID   406829 non-null  float64       \n",
      " 7   Country      406829 non-null  object        \n",
      " 8   amount       406829 non-null  float64       \n",
      "dtypes: datetime64[ns](1), float64(3), int64(1), object(4)\n",
      "memory usage: 31.0+ MB\n"
     ]
    }
   ],
   "source": [
    "retail_df.info()"
   ]
  },
  {
   "cell_type": "code",
   "execution_count": 27,
   "id": "2bfae0b0",
   "metadata": {},
   "outputs": [],
   "source": [
    "#compute the max date\n",
    "max_date = max(retail_df['InvoiceDate'])"
   ]
  },
  {
   "cell_type": "code",
   "execution_count": 28,
   "id": "8ca3e3e2",
   "metadata": {},
   "outputs": [
    {
     "data": {
      "text/plain": [
       "Timestamp('2011-12-09 12:50:00')"
      ]
     },
     "execution_count": 28,
     "metadata": {},
     "output_type": "execute_result"
    }
   ],
   "source": [
    "max_date"
   ]
  },
  {
   "cell_type": "code",
   "execution_count": 29,
   "id": "90a5fa7e",
   "metadata": {},
   "outputs": [],
   "source": [
    "#compute the difference "
   ]
  },
  {
   "cell_type": "code",
   "execution_count": 30,
   "id": "062596e9",
   "metadata": {},
   "outputs": [],
   "source": [
    "retail_df['diff'] = max_date - retail_df['InvoiceDate']"
   ]
  },
  {
   "cell_type": "code",
   "execution_count": 31,
   "id": "6db3bd4c",
   "metadata": {},
   "outputs": [
    {
     "data": {
      "text/html": [
       "<div>\n",
       "<style scoped>\n",
       "    .dataframe tbody tr th:only-of-type {\n",
       "        vertical-align: middle;\n",
       "    }\n",
       "\n",
       "    .dataframe tbody tr th {\n",
       "        vertical-align: top;\n",
       "    }\n",
       "\n",
       "    .dataframe thead th {\n",
       "        text-align: right;\n",
       "    }\n",
       "</style>\n",
       "<table border=\"1\" class=\"dataframe\">\n",
       "  <thead>\n",
       "    <tr style=\"text-align: right;\">\n",
       "      <th></th>\n",
       "      <th>InvoiceNo</th>\n",
       "      <th>StockCode</th>\n",
       "      <th>Description</th>\n",
       "      <th>Quantity</th>\n",
       "      <th>InvoiceDate</th>\n",
       "      <th>UnitPrice</th>\n",
       "      <th>CustomerID</th>\n",
       "      <th>Country</th>\n",
       "      <th>amount</th>\n",
       "      <th>diff</th>\n",
       "    </tr>\n",
       "  </thead>\n",
       "  <tbody>\n",
       "    <tr>\n",
       "      <th>0</th>\n",
       "      <td>536365</td>\n",
       "      <td>85123A</td>\n",
       "      <td>WHITE HANGING HEART T-LIGHT HOLDER</td>\n",
       "      <td>6</td>\n",
       "      <td>2010-12-01 08:26:00</td>\n",
       "      <td>2.55</td>\n",
       "      <td>17850.0</td>\n",
       "      <td>United Kingdom</td>\n",
       "      <td>15.30</td>\n",
       "      <td>373 days 04:24:00</td>\n",
       "    </tr>\n",
       "    <tr>\n",
       "      <th>1</th>\n",
       "      <td>536365</td>\n",
       "      <td>71053</td>\n",
       "      <td>WHITE METAL LANTERN</td>\n",
       "      <td>6</td>\n",
       "      <td>2010-12-01 08:26:00</td>\n",
       "      <td>3.39</td>\n",
       "      <td>17850.0</td>\n",
       "      <td>United Kingdom</td>\n",
       "      <td>20.34</td>\n",
       "      <td>373 days 04:24:00</td>\n",
       "    </tr>\n",
       "    <tr>\n",
       "      <th>2</th>\n",
       "      <td>536365</td>\n",
       "      <td>84406B</td>\n",
       "      <td>CREAM CUPID HEARTS COAT HANGER</td>\n",
       "      <td>8</td>\n",
       "      <td>2010-12-01 08:26:00</td>\n",
       "      <td>2.75</td>\n",
       "      <td>17850.0</td>\n",
       "      <td>United Kingdom</td>\n",
       "      <td>22.00</td>\n",
       "      <td>373 days 04:24:00</td>\n",
       "    </tr>\n",
       "    <tr>\n",
       "      <th>3</th>\n",
       "      <td>536365</td>\n",
       "      <td>84029G</td>\n",
       "      <td>KNITTED UNION FLAG HOT WATER BOTTLE</td>\n",
       "      <td>6</td>\n",
       "      <td>2010-12-01 08:26:00</td>\n",
       "      <td>3.39</td>\n",
       "      <td>17850.0</td>\n",
       "      <td>United Kingdom</td>\n",
       "      <td>20.34</td>\n",
       "      <td>373 days 04:24:00</td>\n",
       "    </tr>\n",
       "    <tr>\n",
       "      <th>4</th>\n",
       "      <td>536365</td>\n",
       "      <td>84029E</td>\n",
       "      <td>RED WOOLLY HOTTIE WHITE HEART.</td>\n",
       "      <td>6</td>\n",
       "      <td>2010-12-01 08:26:00</td>\n",
       "      <td>3.39</td>\n",
       "      <td>17850.0</td>\n",
       "      <td>United Kingdom</td>\n",
       "      <td>20.34</td>\n",
       "      <td>373 days 04:24:00</td>\n",
       "    </tr>\n",
       "  </tbody>\n",
       "</table>\n",
       "</div>"
      ],
      "text/plain": [
       "  InvoiceNo StockCode                          Description  Quantity  \\\n",
       "0    536365    85123A   WHITE HANGING HEART T-LIGHT HOLDER         6   \n",
       "1    536365     71053                  WHITE METAL LANTERN         6   \n",
       "2    536365    84406B       CREAM CUPID HEARTS COAT HANGER         8   \n",
       "3    536365    84029G  KNITTED UNION FLAG HOT WATER BOTTLE         6   \n",
       "4    536365    84029E       RED WOOLLY HOTTIE WHITE HEART.         6   \n",
       "\n",
       "          InvoiceDate  UnitPrice  CustomerID         Country  amount  \\\n",
       "0 2010-12-01 08:26:00       2.55     17850.0  United Kingdom   15.30   \n",
       "1 2010-12-01 08:26:00       3.39     17850.0  United Kingdom   20.34   \n",
       "2 2010-12-01 08:26:00       2.75     17850.0  United Kingdom   22.00   \n",
       "3 2010-12-01 08:26:00       3.39     17850.0  United Kingdom   20.34   \n",
       "4 2010-12-01 08:26:00       3.39     17850.0  United Kingdom   20.34   \n",
       "\n",
       "               diff  \n",
       "0 373 days 04:24:00  \n",
       "1 373 days 04:24:00  \n",
       "2 373 days 04:24:00  \n",
       "3 373 days 04:24:00  \n",
       "4 373 days 04:24:00  "
      ]
     },
     "execution_count": 31,
     "metadata": {},
     "output_type": "execute_result"
    }
   ],
   "source": [
    "retail_df.head()"
   ]
  },
  {
   "cell_type": "code",
   "execution_count": 32,
   "id": "dd529091",
   "metadata": {},
   "outputs": [],
   "source": [
    "#Recency"
   ]
  },
  {
   "cell_type": "code",
   "execution_count": 33,
   "id": "ae742a9a",
   "metadata": {},
   "outputs": [],
   "source": [
    "recency_df = retail_df.groupby('CustomerID')['diff'].min()"
   ]
  },
  {
   "cell_type": "code",
   "execution_count": 34,
   "id": "8d78d436",
   "metadata": {},
   "outputs": [],
   "source": [
    "last_purchase = recency_df.reset_index()\n",
    "last_purchase.columns = ['CustomerID','recency']"
   ]
  },
  {
   "cell_type": "code",
   "execution_count": 35,
   "id": "eb97bddb",
   "metadata": {},
   "outputs": [
    {
     "data": {
      "text/html": [
       "<div>\n",
       "<style scoped>\n",
       "    .dataframe tbody tr th:only-of-type {\n",
       "        vertical-align: middle;\n",
       "    }\n",
       "\n",
       "    .dataframe tbody tr th {\n",
       "        vertical-align: top;\n",
       "    }\n",
       "\n",
       "    .dataframe thead th {\n",
       "        text-align: right;\n",
       "    }\n",
       "</style>\n",
       "<table border=\"1\" class=\"dataframe\">\n",
       "  <thead>\n",
       "    <tr style=\"text-align: right;\">\n",
       "      <th></th>\n",
       "      <th>CustomerID</th>\n",
       "      <th>recency</th>\n",
       "    </tr>\n",
       "  </thead>\n",
       "  <tbody>\n",
       "    <tr>\n",
       "      <th>0</th>\n",
       "      <td>12346.0</td>\n",
       "      <td>325 days 02:33:00</td>\n",
       "    </tr>\n",
       "    <tr>\n",
       "      <th>1</th>\n",
       "      <td>12347.0</td>\n",
       "      <td>1 days 20:58:00</td>\n",
       "    </tr>\n",
       "    <tr>\n",
       "      <th>2</th>\n",
       "      <td>12348.0</td>\n",
       "      <td>74 days 23:37:00</td>\n",
       "    </tr>\n",
       "    <tr>\n",
       "      <th>3</th>\n",
       "      <td>12349.0</td>\n",
       "      <td>18 days 02:59:00</td>\n",
       "    </tr>\n",
       "    <tr>\n",
       "      <th>4</th>\n",
       "      <td>12350.0</td>\n",
       "      <td>309 days 20:49:00</td>\n",
       "    </tr>\n",
       "  </tbody>\n",
       "</table>\n",
       "</div>"
      ],
      "text/plain": [
       "   CustomerID           recency\n",
       "0     12346.0 325 days 02:33:00\n",
       "1     12347.0   1 days 20:58:00\n",
       "2     12348.0  74 days 23:37:00\n",
       "3     12349.0  18 days 02:59:00\n",
       "4     12350.0 309 days 20:49:00"
      ]
     },
     "execution_count": 35,
     "metadata": {},
     "output_type": "execute_result"
    }
   ],
   "source": [
    "last_purchase.head()"
   ]
  },
  {
   "cell_type": "code",
   "execution_count": 36,
   "id": "66e93a51",
   "metadata": {},
   "outputs": [
    {
     "data": {
      "text/html": [
       "<div>\n",
       "<style scoped>\n",
       "    .dataframe tbody tr th:only-of-type {\n",
       "        vertical-align: middle;\n",
       "    }\n",
       "\n",
       "    .dataframe tbody tr th {\n",
       "        vertical-align: top;\n",
       "    }\n",
       "\n",
       "    .dataframe thead th {\n",
       "        text-align: right;\n",
       "    }\n",
       "</style>\n",
       "<table border=\"1\" class=\"dataframe\">\n",
       "  <thead>\n",
       "    <tr style=\"text-align: right;\">\n",
       "      <th></th>\n",
       "      <th>CustomerID</th>\n",
       "      <th>monetory</th>\n",
       "      <th>frequency</th>\n",
       "    </tr>\n",
       "  </thead>\n",
       "  <tbody>\n",
       "    <tr>\n",
       "      <th>0</th>\n",
       "      <td>12346.0</td>\n",
       "      <td>0.00</td>\n",
       "      <td>2</td>\n",
       "    </tr>\n",
       "    <tr>\n",
       "      <th>1</th>\n",
       "      <td>12347.0</td>\n",
       "      <td>4310.00</td>\n",
       "      <td>182</td>\n",
       "    </tr>\n",
       "    <tr>\n",
       "      <th>2</th>\n",
       "      <td>12348.0</td>\n",
       "      <td>1797.24</td>\n",
       "      <td>31</td>\n",
       "    </tr>\n",
       "    <tr>\n",
       "      <th>3</th>\n",
       "      <td>12349.0</td>\n",
       "      <td>1757.55</td>\n",
       "      <td>73</td>\n",
       "    </tr>\n",
       "    <tr>\n",
       "      <th>4</th>\n",
       "      <td>12350.0</td>\n",
       "      <td>334.40</td>\n",
       "      <td>17</td>\n",
       "    </tr>\n",
       "  </tbody>\n",
       "</table>\n",
       "</div>"
      ],
      "text/plain": [
       "   CustomerID  monetory  frequency\n",
       "0     12346.0      0.00          2\n",
       "1     12347.0   4310.00        182\n",
       "2     12348.0   1797.24         31\n",
       "3     12349.0   1757.55         73\n",
       "4     12350.0    334.40         17"
      ]
     },
     "execution_count": 36,
     "metadata": {},
     "output_type": "execute_result"
    }
   ],
   "source": [
    "groupeddf.head()"
   ]
  },
  {
   "cell_type": "code",
   "execution_count": 37,
   "id": "65991365",
   "metadata": {},
   "outputs": [],
   "source": [
    "final_df = pd.merge(groupeddf,last_purchase, on='CustomerID', how='inner')"
   ]
  },
  {
   "cell_type": "code",
   "execution_count": 38,
   "id": "ef8e7545",
   "metadata": {},
   "outputs": [
    {
     "data": {
      "text/html": [
       "<div>\n",
       "<style scoped>\n",
       "    .dataframe tbody tr th:only-of-type {\n",
       "        vertical-align: middle;\n",
       "    }\n",
       "\n",
       "    .dataframe tbody tr th {\n",
       "        vertical-align: top;\n",
       "    }\n",
       "\n",
       "    .dataframe thead th {\n",
       "        text-align: right;\n",
       "    }\n",
       "</style>\n",
       "<table border=\"1\" class=\"dataframe\">\n",
       "  <thead>\n",
       "    <tr style=\"text-align: right;\">\n",
       "      <th></th>\n",
       "      <th>CustomerID</th>\n",
       "      <th>monetory</th>\n",
       "      <th>frequency</th>\n",
       "      <th>recency</th>\n",
       "    </tr>\n",
       "  </thead>\n",
       "  <tbody>\n",
       "    <tr>\n",
       "      <th>0</th>\n",
       "      <td>12346.0</td>\n",
       "      <td>0.00</td>\n",
       "      <td>2</td>\n",
       "      <td>325 days 02:33:00</td>\n",
       "    </tr>\n",
       "    <tr>\n",
       "      <th>1</th>\n",
       "      <td>12347.0</td>\n",
       "      <td>4310.00</td>\n",
       "      <td>182</td>\n",
       "      <td>1 days 20:58:00</td>\n",
       "    </tr>\n",
       "    <tr>\n",
       "      <th>2</th>\n",
       "      <td>12348.0</td>\n",
       "      <td>1797.24</td>\n",
       "      <td>31</td>\n",
       "      <td>74 days 23:37:00</td>\n",
       "    </tr>\n",
       "    <tr>\n",
       "      <th>3</th>\n",
       "      <td>12349.0</td>\n",
       "      <td>1757.55</td>\n",
       "      <td>73</td>\n",
       "      <td>18 days 02:59:00</td>\n",
       "    </tr>\n",
       "    <tr>\n",
       "      <th>4</th>\n",
       "      <td>12350.0</td>\n",
       "      <td>334.40</td>\n",
       "      <td>17</td>\n",
       "      <td>309 days 20:49:00</td>\n",
       "    </tr>\n",
       "  </tbody>\n",
       "</table>\n",
       "</div>"
      ],
      "text/plain": [
       "   CustomerID  monetory  frequency           recency\n",
       "0     12346.0      0.00          2 325 days 02:33:00\n",
       "1     12347.0   4310.00        182   1 days 20:58:00\n",
       "2     12348.0   1797.24         31  74 days 23:37:00\n",
       "3     12349.0   1757.55         73  18 days 02:59:00\n",
       "4     12350.0    334.40         17 309 days 20:49:00"
      ]
     },
     "execution_count": 38,
     "metadata": {},
     "output_type": "execute_result"
    }
   ],
   "source": [
    "final_df.head()"
   ]
  },
  {
   "cell_type": "code",
   "execution_count": 39,
   "id": "377a95db",
   "metadata": {},
   "outputs": [],
   "source": [
    "final_df['recency'] = final_df['recency'].apply(lambda x : int(str(x).split(' ')[0]))"
   ]
  },
  {
   "cell_type": "code",
   "execution_count": 40,
   "id": "70dba444",
   "metadata": {},
   "outputs": [
    {
     "data": {
      "text/html": [
       "<div>\n",
       "<style scoped>\n",
       "    .dataframe tbody tr th:only-of-type {\n",
       "        vertical-align: middle;\n",
       "    }\n",
       "\n",
       "    .dataframe tbody tr th {\n",
       "        vertical-align: top;\n",
       "    }\n",
       "\n",
       "    .dataframe thead th {\n",
       "        text-align: right;\n",
       "    }\n",
       "</style>\n",
       "<table border=\"1\" class=\"dataframe\">\n",
       "  <thead>\n",
       "    <tr style=\"text-align: right;\">\n",
       "      <th></th>\n",
       "      <th>CustomerID</th>\n",
       "      <th>monetory</th>\n",
       "      <th>frequency</th>\n",
       "      <th>recency</th>\n",
       "    </tr>\n",
       "  </thead>\n",
       "  <tbody>\n",
       "    <tr>\n",
       "      <th>0</th>\n",
       "      <td>12346.0</td>\n",
       "      <td>0.00</td>\n",
       "      <td>2</td>\n",
       "      <td>325</td>\n",
       "    </tr>\n",
       "    <tr>\n",
       "      <th>1</th>\n",
       "      <td>12347.0</td>\n",
       "      <td>4310.00</td>\n",
       "      <td>182</td>\n",
       "      <td>1</td>\n",
       "    </tr>\n",
       "    <tr>\n",
       "      <th>2</th>\n",
       "      <td>12348.0</td>\n",
       "      <td>1797.24</td>\n",
       "      <td>31</td>\n",
       "      <td>74</td>\n",
       "    </tr>\n",
       "    <tr>\n",
       "      <th>3</th>\n",
       "      <td>12349.0</td>\n",
       "      <td>1757.55</td>\n",
       "      <td>73</td>\n",
       "      <td>18</td>\n",
       "    </tr>\n",
       "    <tr>\n",
       "      <th>4</th>\n",
       "      <td>12350.0</td>\n",
       "      <td>334.40</td>\n",
       "      <td>17</td>\n",
       "      <td>309</td>\n",
       "    </tr>\n",
       "  </tbody>\n",
       "</table>\n",
       "</div>"
      ],
      "text/plain": [
       "   CustomerID  monetory  frequency  recency\n",
       "0     12346.0      0.00          2      325\n",
       "1     12347.0   4310.00        182        1\n",
       "2     12348.0   1797.24         31       74\n",
       "3     12349.0   1757.55         73       18\n",
       "4     12350.0    334.40         17      309"
      ]
     },
     "execution_count": 40,
     "metadata": {},
     "output_type": "execute_result"
    }
   ],
   "source": [
    "final_df.head()"
   ]
  },
  {
   "cell_type": "code",
   "execution_count": 41,
   "id": "1c9de05e",
   "metadata": {},
   "outputs": [],
   "source": [
    "# 1. Outlier treatment\n"
   ]
  },
  {
   "cell_type": "code",
   "execution_count": 42,
   "id": "3bba83f9",
   "metadata": {},
   "outputs": [
    {
     "data": {
      "text/plain": [
       "{'whiskers': [<matplotlib.lines.Line2D at 0x7fda80feffd0>,\n",
       "  <matplotlib.lines.Line2D at 0x7fda81025c70>],\n",
       " 'caps': [<matplotlib.lines.Line2D at 0x7fda810258e0>,\n",
       "  <matplotlib.lines.Line2D at 0x7fda81025550>],\n",
       " 'boxes': [<matplotlib.lines.Line2D at 0x7fda80fefc40>],\n",
       " 'medians': [<matplotlib.lines.Line2D at 0x7fda810251c0>],\n",
       " 'fliers': [<matplotlib.lines.Line2D at 0x7fda81030220>],\n",
       " 'means': []}"
      ]
     },
     "execution_count": 42,
     "metadata": {},
     "output_type": "execute_result"
    },
    {
     "data": {
      "image/png": "[encoded data removed]",
      "text/plain": [
       "<Figure size 432x288 with 1 Axes>"
      ]
     },
     "metadata": {
      "needs_background": "light"
     },
     "output_type": "display_data"
    }
   ],
   "source": [
    "plt.boxplot(final_df.monetory)"
   ]
  },
  {
   "cell_type": "code",
   "execution_count": 43,
   "id": "78f34e7a",
   "metadata": {},
   "outputs": [
    {
     "data": {
      "text/plain": [
       "{'whiskers': [<matplotlib.lines.Line2D at 0x7fda80e82460>,\n",
       "  <matplotlib.lines.Line2D at 0x7fda80e827f0>],\n",
       " 'caps': [<matplotlib.lines.Line2D at 0x7fda80e82b80>,\n",
       "  <matplotlib.lines.Line2D at 0x7fda80e82f10>],\n",
       " 'boxes': [<matplotlib.lines.Line2D at 0x7fda80e820d0>],\n",
       " 'medians': [<matplotlib.lines.Line2D at 0x7fda70ecc2e0>],\n",
       " 'fliers': [<matplotlib.lines.Line2D at 0x7fda70ecc670>],\n",
       " 'means': []}"
      ]
     },
     "execution_count": 43,
     "metadata": {},
     "output_type": "execute_result"
    },
    {
     "data": {
      "image/png": "[encoded data removed]",
      "text/plain": [
       "<Figure size 432x288 with 1 Axes>"
      ]
     },
     "metadata": {
      "needs_background": "light"
     },
     "output_type": "display_data"
    }
   ],
   "source": [
    "plt.boxplot(final_df.frequency)"
   ]
  },
  {
   "cell_type": "code",
   "execution_count": 44,
   "id": "685afa89",
   "metadata": {},
   "outputs": [
    {
     "data": {
      "text/plain": [
       "{'whiskers': [<matplotlib.lines.Line2D at 0x7fda60f80610>,\n",
       "  <matplotlib.lines.Line2D at 0x7fda60f809a0>],\n",
       " 'caps': [<matplotlib.lines.Line2D at 0x7fda60f80d30>,\n",
       "  <matplotlib.lines.Line2D at 0x7fda60f8d100>],\n",
       " 'boxes': [<matplotlib.lines.Line2D at 0x7fda60f80280>],\n",
       " 'medians': [<matplotlib.lines.Line2D at 0x7fda60f8d490>],\n",
       " 'fliers': [<matplotlib.lines.Line2D at 0x7fda60f8d820>],\n",
       " 'means': []}"
      ]
     },
     "execution_count": 44,
     "metadata": {},
     "output_type": "execute_result"
    },
    {
     "data": {
      "image/png": "[encoded data removed]",
      "text/plain": [
       "<Figure size 432x288 with 1 Axes>"
      ]
     },
     "metadata": {
      "needs_background": "light"
     },
     "output_type": "display_data"
    }
   ],
   "source": [
    "plt.boxplot(final_df.recency)"
   ]
  },
  {
   "cell_type": "code",
   "execution_count": 45,
   "id": "f03688f6",
   "metadata": {},
   "outputs": [],
   "source": [
    "# Two types of outliers:\n",
    "# 1. Statistical - based on percentile\n",
    "# 2. Domain specific - "
   ]
  },
  {
   "cell_type": "code",
   "execution_count": 46,
   "id": "bbb77ac2",
   "metadata": {},
   "outputs": [],
   "source": [
    "#imp - Without removal of outliers, we have seen mismatchs in the distribution of datasets into cluster. \n",
    "# Hence, revisitng this stage to remove the outliers first and re-do all the steps with. k=3"
   ]
  },
  {
   "cell_type": "code",
   "execution_count": 47,
   "id": "39d8089a",
   "metadata": {},
   "outputs": [],
   "source": [
    "Q1 = final_df.monetory.quantile(0.05)\n",
    "Q3 = final_df.monetory.quantile(0.95)\n",
    "IQR = Q3 - Q1\n",
    "final_df = final_df[(final_df.monetory >= Q1 - 1.5*IQR) & (final_df.monetory <= Q3 + 1.5*IQR)]\n"
   ]
  },
  {
   "cell_type": "code",
   "execution_count": 48,
   "id": "ed7ed6ea",
   "metadata": {},
   "outputs": [],
   "source": [
    "Q1 = final_df.frequency.quantile(0.05)\n",
    "Q3 = final_df.frequency.quantile(0.95)\n",
    "IQR = Q3 - Q1\n",
    "final_df = final_df[(final_df.frequency >= Q1 - 1.5*IQR) & (final_df.frequency <= Q3 + 1.5*IQR)]"
   ]
  },
  {
   "cell_type": "code",
   "execution_count": 49,
   "id": "b0bc8bcb",
   "metadata": {},
   "outputs": [],
   "source": [
    "Q1 = final_df.recency.quantile(0.05)\n",
    "Q3 = final_df.recency.quantile(0.95)\n",
    "IQR = Q3 - Q1\n",
    "final_df = final_df[(final_df.recency >= Q1 - 1.5*IQR) & (final_df.recency <= Q3 + 1.5*IQR)]"
   ]
  },
  {
   "cell_type": "code",
   "execution_count": 50,
   "id": "32d2ffd1",
   "metadata": {},
   "outputs": [],
   "source": [
    "# 2. rescaling variables"
   ]
  },
  {
   "cell_type": "code",
   "execution_count": 51,
   "id": "c9982034",
   "metadata": {},
   "outputs": [
    {
     "data": {
      "text/html": [
       "<div>\n",
       "<style scoped>\n",
       "    .dataframe tbody tr th:only-of-type {\n",
       "        vertical-align: middle;\n",
       "    }\n",
       "\n",
       "    .dataframe tbody tr th {\n",
       "        vertical-align: top;\n",
       "    }\n",
       "\n",
       "    .dataframe thead th {\n",
       "        text-align: right;\n",
       "    }\n",
       "</style>\n",
       "<table border=\"1\" class=\"dataframe\">\n",
       "  <thead>\n",
       "    <tr style=\"text-align: right;\">\n",
       "      <th></th>\n",
       "      <th>CustomerID</th>\n",
       "      <th>monetory</th>\n",
       "      <th>frequency</th>\n",
       "      <th>recency</th>\n",
       "    </tr>\n",
       "  </thead>\n",
       "  <tbody>\n",
       "    <tr>\n",
       "      <th>0</th>\n",
       "      <td>12346.0</td>\n",
       "      <td>0.00</td>\n",
       "      <td>2</td>\n",
       "      <td>325</td>\n",
       "    </tr>\n",
       "    <tr>\n",
       "      <th>1</th>\n",
       "      <td>12347.0</td>\n",
       "      <td>4310.00</td>\n",
       "      <td>182</td>\n",
       "      <td>1</td>\n",
       "    </tr>\n",
       "    <tr>\n",
       "      <th>2</th>\n",
       "      <td>12348.0</td>\n",
       "      <td>1797.24</td>\n",
       "      <td>31</td>\n",
       "      <td>74</td>\n",
       "    </tr>\n",
       "    <tr>\n",
       "      <th>3</th>\n",
       "      <td>12349.0</td>\n",
       "      <td>1757.55</td>\n",
       "      <td>73</td>\n",
       "      <td>18</td>\n",
       "    </tr>\n",
       "    <tr>\n",
       "      <th>4</th>\n",
       "      <td>12350.0</td>\n",
       "      <td>334.40</td>\n",
       "      <td>17</td>\n",
       "      <td>309</td>\n",
       "    </tr>\n",
       "  </tbody>\n",
       "</table>\n",
       "</div>"
      ],
      "text/plain": [
       "   CustomerID  monetory  frequency  recency\n",
       "0     12346.0      0.00          2      325\n",
       "1     12347.0   4310.00        182        1\n",
       "2     12348.0   1797.24         31       74\n",
       "3     12349.0   1757.55         73       18\n",
       "4     12350.0    334.40         17      309"
      ]
     },
     "execution_count": 51,
     "metadata": {},
     "output_type": "execute_result"
    }
   ],
   "source": [
    "final_df.head()"
   ]
  },
  {
   "cell_type": "code",
   "execution_count": 52,
   "id": "a216aed4",
   "metadata": {},
   "outputs": [],
   "source": [
    "rfm_df = final_df[['monetory','frequency','recency']]"
   ]
  },
  {
   "cell_type": "code",
   "execution_count": 53,
   "id": "800ac1f1",
   "metadata": {},
   "outputs": [
    {
     "data": {
      "text/html": [
       "<div>\n",
       "<style scoped>\n",
       "    .dataframe tbody tr th:only-of-type {\n",
       "        vertical-align: middle;\n",
       "    }\n",
       "\n",
       "    .dataframe tbody tr th {\n",
       "        vertical-align: top;\n",
       "    }\n",
       "\n",
       "    .dataframe thead th {\n",
       "        text-align: right;\n",
       "    }\n",
       "</style>\n",
       "<table border=\"1\" class=\"dataframe\">\n",
       "  <thead>\n",
       "    <tr style=\"text-align: right;\">\n",
       "      <th></th>\n",
       "      <th>monetory</th>\n",
       "      <th>frequency</th>\n",
       "      <th>recency</th>\n",
       "    </tr>\n",
       "  </thead>\n",
       "  <tbody>\n",
       "    <tr>\n",
       "      <th>0</th>\n",
       "      <td>0.00</td>\n",
       "      <td>2</td>\n",
       "      <td>325</td>\n",
       "    </tr>\n",
       "    <tr>\n",
       "      <th>1</th>\n",
       "      <td>4310.00</td>\n",
       "      <td>182</td>\n",
       "      <td>1</td>\n",
       "    </tr>\n",
       "    <tr>\n",
       "      <th>2</th>\n",
       "      <td>1797.24</td>\n",
       "      <td>31</td>\n",
       "      <td>74</td>\n",
       "    </tr>\n",
       "    <tr>\n",
       "      <th>3</th>\n",
       "      <td>1757.55</td>\n",
       "      <td>73</td>\n",
       "      <td>18</td>\n",
       "    </tr>\n",
       "    <tr>\n",
       "      <th>4</th>\n",
       "      <td>334.40</td>\n",
       "      <td>17</td>\n",
       "      <td>309</td>\n",
       "    </tr>\n",
       "  </tbody>\n",
       "</table>\n",
       "</div>"
      ],
      "text/plain": [
       "   monetory  frequency  recency\n",
       "0      0.00          2      325\n",
       "1   4310.00        182        1\n",
       "2   1797.24         31       74\n",
       "3   1757.55         73       18\n",
       "4    334.40         17      309"
      ]
     },
     "execution_count": 53,
     "metadata": {},
     "output_type": "execute_result"
    }
   ],
   "source": [
    "rfm_df.head()"
   ]
  },
  {
   "cell_type": "code",
   "execution_count": 54,
   "id": "aba20691",
   "metadata": {},
   "outputs": [],
   "source": [
    "import sklearn\n",
    "from sklearn.preprocessing import StandardScaler"
   ]
  },
  {
   "cell_type": "code",
   "execution_count": 55,
   "id": "32b7e6de",
   "metadata": {},
   "outputs": [],
   "source": [
    "# instantiate \n",
    "scaler = StandardScaler()\n",
    "\n",
    "# fit_transform \n",
    "rfm_df_scaled = scaler.fit_transform(rfm_df)"
   ]
  },
  {
   "cell_type": "code",
   "execution_count": 56,
   "id": "9191095b",
   "metadata": {},
   "outputs": [
    {
     "data": {
      "text/plain": [
       "(4293, 3)"
      ]
     },
     "execution_count": 56,
     "metadata": {},
     "output_type": "execute_result"
    }
   ],
   "source": [
    "rfm_df_scaled.shape"
   ]
  },
  {
   "cell_type": "code",
   "execution_count": 57,
   "id": "302b41c4",
   "metadata": {},
   "outputs": [],
   "source": [
    "rfm_df_scaled = pd.DataFrame(rfm_df_scaled)\n",
    "rfm_df_scaled.columns = ['monetory','frequency','recency']"
   ]
  },
  {
   "cell_type": "code",
   "execution_count": 58,
   "id": "ceb080ff",
   "metadata": {},
   "outputs": [
    {
     "data": {
      "text/html": [
       "<div>\n",
       "<style scoped>\n",
       "    .dataframe tbody tr th:only-of-type {\n",
       "        vertical-align: middle;\n",
       "    }\n",
       "\n",
       "    .dataframe tbody tr th {\n",
       "        vertical-align: top;\n",
       "    }\n",
       "\n",
       "    .dataframe thead th {\n",
       "        text-align: right;\n",
       "    }\n",
       "</style>\n",
       "<table border=\"1\" class=\"dataframe\">\n",
       "  <thead>\n",
       "    <tr style=\"text-align: right;\">\n",
       "      <th></th>\n",
       "      <th>monetory</th>\n",
       "      <th>frequency</th>\n",
       "      <th>recency</th>\n",
       "    </tr>\n",
       "  </thead>\n",
       "  <tbody>\n",
       "    <tr>\n",
       "      <th>0</th>\n",
       "      <td>-0.723738</td>\n",
       "      <td>-0.752888</td>\n",
       "      <td>2.301611</td>\n",
       "    </tr>\n",
       "    <tr>\n",
       "      <th>1</th>\n",
       "      <td>1.731617</td>\n",
       "      <td>1.042467</td>\n",
       "      <td>-0.906466</td>\n",
       "    </tr>\n",
       "    <tr>\n",
       "      <th>2</th>\n",
       "      <td>0.300128</td>\n",
       "      <td>-0.463636</td>\n",
       "      <td>-0.183658</td>\n",
       "    </tr>\n",
       "    <tr>\n",
       "      <th>3</th>\n",
       "      <td>0.277517</td>\n",
       "      <td>-0.044720</td>\n",
       "      <td>-0.738141</td>\n",
       "    </tr>\n",
       "    <tr>\n",
       "      <th>4</th>\n",
       "      <td>-0.533235</td>\n",
       "      <td>-0.603275</td>\n",
       "      <td>2.143188</td>\n",
       "    </tr>\n",
       "  </tbody>\n",
       "</table>\n",
       "</div>"
      ],
      "text/plain": [
       "   monetory  frequency   recency\n",
       "0 -0.723738  -0.752888  2.301611\n",
       "1  1.731617   1.042467 -0.906466\n",
       "2  0.300128  -0.463636 -0.183658\n",
       "3  0.277517  -0.044720 -0.738141\n",
       "4 -0.533235  -0.603275  2.143188"
      ]
     },
     "execution_count": 58,
     "metadata": {},
     "output_type": "execute_result"
    }
   ],
   "source": [
    "rfm_df_scaled.head()"
   ]
  },
  {
   "cell_type": "code",
   "execution_count": 59,
   "id": "c4098f4d",
   "metadata": {},
   "outputs": [
    {
     "data": {
      "text/html": [
       "<div>\n",
       "<style scoped>\n",
       "    .dataframe tbody tr th:only-of-type {\n",
       "        vertical-align: middle;\n",
       "    }\n",
       "\n",
       "    .dataframe tbody tr th {\n",
       "        vertical-align: top;\n",
       "    }\n",
       "\n",
       "    .dataframe thead th {\n",
       "        text-align: right;\n",
       "    }\n",
       "</style>\n",
       "<table border=\"1\" class=\"dataframe\">\n",
       "  <thead>\n",
       "    <tr style=\"text-align: right;\">\n",
       "      <th></th>\n",
       "      <th>monetory</th>\n",
       "      <th>frequency</th>\n",
       "      <th>recency</th>\n",
       "    </tr>\n",
       "  </thead>\n",
       "  <tbody>\n",
       "    <tr>\n",
       "      <th>count</th>\n",
       "      <td>4.293000e+03</td>\n",
       "      <td>4.293000e+03</td>\n",
       "      <td>4.293000e+03</td>\n",
       "    </tr>\n",
       "    <tr>\n",
       "      <th>mean</th>\n",
       "      <td>4.965358e-17</td>\n",
       "      <td>-4.807281e-17</td>\n",
       "      <td>1.693911e-17</td>\n",
       "    </tr>\n",
       "    <tr>\n",
       "      <th>std</th>\n",
       "      <td>1.000116e+00</td>\n",
       "      <td>1.000116e+00</td>\n",
       "      <td>1.000116e+00</td>\n",
       "    </tr>\n",
       "    <tr>\n",
       "      <th>min</th>\n",
       "      <td>-3.166350e+00</td>\n",
       "      <td>-7.628617e-01</td>\n",
       "      <td>-9.163671e-01</td>\n",
       "    </tr>\n",
       "    <tr>\n",
       "      <th>25%</th>\n",
       "      <td>-5.588933e-01</td>\n",
       "      <td>-6.032747e-01</td>\n",
       "      <td>-7.480421e-01</td>\n",
       "    </tr>\n",
       "    <tr>\n",
       "      <th>50%</th>\n",
       "      <td>-3.631428e-01</td>\n",
       "      <td>-3.738683e-01</td>\n",
       "      <td>-4.212935e-01</td>\n",
       "    </tr>\n",
       "    <tr>\n",
       "      <th>75%</th>\n",
       "      <td>1.412932e-01</td>\n",
       "      <td>1.946605e-01</td>\n",
       "      <td>5.193464e-01</td>\n",
       "    </tr>\n",
       "    <tr>\n",
       "      <th>max</th>\n",
       "      <td>7.068221e+00</td>\n",
       "      <td>6.388632e+00</td>\n",
       "      <td>2.776882e+00</td>\n",
       "    </tr>\n",
       "  </tbody>\n",
       "</table>\n",
       "</div>"
      ],
      "text/plain": [
       "           monetory     frequency       recency\n",
       "count  4.293000e+03  4.293000e+03  4.293000e+03\n",
       "mean   4.965358e-17 -4.807281e-17  1.693911e-17\n",
       "std    1.000116e+00  1.000116e+00  1.000116e+00\n",
       "min   -3.166350e+00 -7.628617e-01 -9.163671e-01\n",
       "25%   -5.588933e-01 -6.032747e-01 -7.480421e-01\n",
       "50%   -3.631428e-01 -3.738683e-01 -4.212935e-01\n",
       "75%    1.412932e-01  1.946605e-01  5.193464e-01\n",
       "max    7.068221e+00  6.388632e+00  2.776882e+00"
      ]
     },
     "execution_count": 59,
     "metadata": {},
     "output_type": "execute_result"
    }
   ],
   "source": [
    "rfm_df_scaled.describe()"
   ]
  },
  {
   "cell_type": "code",
   "execution_count": 60,
   "id": "47527c1c",
   "metadata": {},
   "outputs": [],
   "source": [
    "# Modelling"
   ]
  },
  {
   "cell_type": "code",
   "execution_count": 61,
   "id": "85153455",
   "metadata": {},
   "outputs": [],
   "source": [
    "from sklearn.cluster import KMeans"
   ]
  },
  {
   "cell_type": "code",
   "execution_count": 62,
   "id": "21a08ccb",
   "metadata": {},
   "outputs": [],
   "source": [
    "#k-means with some arbitory k\n",
    "kmeans = KMeans(n_clusters=4, max_iter=50)"
   ]
  },
  {
   "cell_type": "code",
   "execution_count": 63,
   "id": "c33226a4",
   "metadata": {},
   "outputs": [
    {
     "data": {
      "text/plain": [
       "KMeans(max_iter=50, n_clusters=4)"
      ]
     },
     "execution_count": 63,
     "metadata": {},
     "output_type": "execute_result"
    }
   ],
   "source": [
    "kmeans.fit(rfm_df_scaled)"
   ]
  },
  {
   "cell_type": "code",
   "execution_count": 64,
   "id": "694931c8",
   "metadata": {},
   "outputs": [
    {
     "data": {
      "text/plain": [
       "4293"
      ]
     },
     "execution_count": 64,
     "metadata": {},
     "output_type": "execute_result"
    }
   ],
   "source": [
    "len(kmeans.labels_)"
   ]
  },
  {
   "cell_type": "code",
   "execution_count": 65,
   "id": "27134016",
   "metadata": {},
   "outputs": [],
   "source": [
    "## Finding the optimal number of clusters \n",
    "\n",
    "### - elbow curve / SSD (sum of squared distances)\n",
    "\n",
    "### intertia_ is a method in KMean class : Sum of squared distance of samples to their closest cluster center."
   ]
  },
  {
   "cell_type": "code",
   "execution_count": 66,
   "id": "35c0132c",
   "metadata": {},
   "outputs": [],
   "source": [
    "range_n_cluster = [2,3,4,5,6,7,8]"
   ]
  },
  {
   "cell_type": "code",
   "execution_count": 67,
   "id": "fca9a19e",
   "metadata": {},
   "outputs": [],
   "source": [
    "ssd = []\n",
    "for num_clusters in range_n_cluster:\n",
    "    kmeans = KMeans(n_clusters=num_clusters, max_iter=50)\n",
    "    kmeans.fit(rfm_df_scaled)\n",
    "    \n",
    "    ssd.append(kmeans.inertia_)\n",
    "    "
   ]
  },
  {
   "cell_type": "code",
   "execution_count": 68,
   "id": "87d3648b",
   "metadata": {},
   "outputs": [],
   "source": [
    "ssd_df = pd.DataFrame(list(zip(range_n_cluster,ssd)), columns=['no_of_clusters','ssd'])"
   ]
  },
  {
   "cell_type": "code",
   "execution_count": 69,
   "id": "b7bd78c7",
   "metadata": {},
   "outputs": [
    {
     "data": {
      "text/html": [
       "<div>\n",
       "<style scoped>\n",
       "    .dataframe tbody tr th:only-of-type {\n",
       "        vertical-align: middle;\n",
       "    }\n",
       "\n",
       "    .dataframe tbody tr th {\n",
       "        vertical-align: top;\n",
       "    }\n",
       "\n",
       "    .dataframe thead th {\n",
       "        text-align: right;\n",
       "    }\n",
       "</style>\n",
       "<table border=\"1\" class=\"dataframe\">\n",
       "  <thead>\n",
       "    <tr style=\"text-align: right;\">\n",
       "      <th></th>\n",
       "      <th>no_of_clusters</th>\n",
       "      <th>ssd</th>\n",
       "    </tr>\n",
       "  </thead>\n",
       "  <tbody>\n",
       "    <tr>\n",
       "      <th>0</th>\n",
       "      <td>2</td>\n",
       "      <td>7661.705869</td>\n",
       "    </tr>\n",
       "    <tr>\n",
       "      <th>1</th>\n",
       "      <td>3</td>\n",
       "      <td>4433.580619</td>\n",
       "    </tr>\n",
       "    <tr>\n",
       "      <th>2</th>\n",
       "      <td>4</td>\n",
       "      <td>3360.719103</td>\n",
       "    </tr>\n",
       "    <tr>\n",
       "      <th>3</th>\n",
       "      <td>5</td>\n",
       "      <td>2802.824128</td>\n",
       "    </tr>\n",
       "    <tr>\n",
       "      <th>4</th>\n",
       "      <td>6</td>\n",
       "      <td>2392.150024</td>\n",
       "    </tr>\n",
       "  </tbody>\n",
       "</table>\n",
       "</div>"
      ],
      "text/plain": [
       "   no_of_clusters          ssd\n",
       "0               2  7661.705869\n",
       "1               3  4433.580619\n",
       "2               4  3360.719103\n",
       "3               5  2802.824128\n",
       "4               6  2392.150024"
      ]
     },
     "execution_count": 69,
     "metadata": {},
     "output_type": "execute_result"
    }
   ],
   "source": [
    "ssd_df.head()"
   ]
  },
  {
   "cell_type": "code",
   "execution_count": 70,
   "id": "5a173f6f",
   "metadata": {},
   "outputs": [
    {
     "data": {
      "text/plain": [
       "<AxesSubplot:xlabel='no_of_clusters', ylabel='ssd'>"
      ]
     },
     "execution_count": 70,
     "metadata": {},
     "output_type": "execute_result"
    },
    {
     "data": {
      "image/png": "[encoded data removed]",
      "text/plain": [
       "<Figure size 432x288 with 1 Axes>"
      ]
     },
     "metadata": {
      "needs_background": "light"
     },
     "output_type": "display_data"
    }
   ],
   "source": [
    "sns.lineplot(data=ssd_df, x='no_of_clusters',y='ssd')"
   ]
  },
  {
   "cell_type": "code",
   "execution_count": 71,
   "id": "7524b2cb",
   "metadata": {},
   "outputs": [],
   "source": [
    "### Silhouette Analysis\n",
    "# p - the mean distance to the points in the nearest cluster that the data point is not a part of \n",
    "# q - the mean intra-cluster distance to all the points in its own cluster.\n",
    "\n",
    "### - The value of the silhouette score ranges lies between -1 and 1.\n",
    "#   - A score closer to 1 indicates that the data point is very similar to other data points in the cluster.\n",
    "#   - A score closer to -1 indicates that the data point is not similar to the data points in its cluster."
   ]
  },
  {
   "cell_type": "code",
   "execution_count": 72,
   "id": "cde4be0b",
   "metadata": {},
   "outputs": [],
   "source": [
    "from sklearn.metrics import silhouette_score"
   ]
  },
  {
   "cell_type": "code",
   "execution_count": 73,
   "id": "d52d699b",
   "metadata": {},
   "outputs": [
    {
     "name": "stdout",
     "output_type": "stream",
     "text": [
      "For n_clusters = 2, the silouette score is 0.54\n",
      "For n_clusters = 3, the silouette score is 0.51\n",
      "For n_clusters = 4, the silouette score is 0.48\n",
      "For n_clusters = 5, the silouette score is 0.47\n",
      "For n_clusters = 6, the silouette score is 0.42\n",
      "For n_clusters = 7, the silouette score is 0.42\n",
      "For n_clusters = 8, the silouette score is 0.4\n"
     ]
    }
   ],
   "source": [
    "sc_lst=[]\n",
    "for num_clusters in range_n_cluster:\n",
    "    kmeans = KMeans(n_clusters=num_clusters, max_iter=50)\n",
    "    kmeans.fit(rfm_df_scaled)\n",
    "    \n",
    "    cluster_lables = kmeans.labels_\n",
    "    \n",
    "    sc=silhouette_score(rfm_df_scaled, cluster_lables)\n",
    "    sc_lst.append(sc)\n",
    "    print(f'For n_clusters = {num_clusters}, the silouette score is {round(sc,2)}')"
   ]
  },
  {
   "cell_type": "code",
   "execution_count": 74,
   "id": "928459f9",
   "metadata": {},
   "outputs": [],
   "source": [
    "sc_df = pd.DataFrame(list(zip(range_n_cluster,sc_lst)))\n",
    "sc_df.columns = ['no_of_clusters','sc_score']"
   ]
  },
  {
   "cell_type": "code",
   "execution_count": 75,
   "id": "128b7e9e",
   "metadata": {},
   "outputs": [
    {
     "data": {
      "text/html": [
       "<div>\n",
       "<style scoped>\n",
       "    .dataframe tbody tr th:only-of-type {\n",
       "        vertical-align: middle;\n",
       "    }\n",
       "\n",
       "    .dataframe tbody tr th {\n",
       "        vertical-align: top;\n",
       "    }\n",
       "\n",
       "    .dataframe thead th {\n",
       "        text-align: right;\n",
       "    }\n",
       "</style>\n",
       "<table border=\"1\" class=\"dataframe\">\n",
       "  <thead>\n",
       "    <tr style=\"text-align: right;\">\n",
       "      <th></th>\n",
       "      <th>no_of_clusters</th>\n",
       "      <th>sc_score</th>\n",
       "    </tr>\n",
       "  </thead>\n",
       "  <tbody>\n",
       "    <tr>\n",
       "      <th>0</th>\n",
       "      <td>2</td>\n",
       "      <td>0.541125</td>\n",
       "    </tr>\n",
       "    <tr>\n",
       "      <th>1</th>\n",
       "      <td>3</td>\n",
       "      <td>0.508490</td>\n",
       "    </tr>\n",
       "    <tr>\n",
       "      <th>2</th>\n",
       "      <td>4</td>\n",
       "      <td>0.479434</td>\n",
       "    </tr>\n",
       "    <tr>\n",
       "      <th>3</th>\n",
       "      <td>5</td>\n",
       "      <td>0.466270</td>\n",
       "    </tr>\n",
       "    <tr>\n",
       "      <th>4</th>\n",
       "      <td>6</td>\n",
       "      <td>0.417531</td>\n",
       "    </tr>\n",
       "  </tbody>\n",
       "</table>\n",
       "</div>"
      ],
      "text/plain": [
       "   no_of_clusters  sc_score\n",
       "0               2  0.541125\n",
       "1               3  0.508490\n",
       "2               4  0.479434\n",
       "3               5  0.466270\n",
       "4               6  0.417531"
      ]
     },
     "execution_count": 75,
     "metadata": {},
     "output_type": "execute_result"
    }
   ],
   "source": [
    "sc_df.head()"
   ]
  },
  {
   "cell_type": "code",
   "execution_count": 76,
   "id": "eaf4e676",
   "metadata": {},
   "outputs": [
    {
     "data": {
      "text/plain": [
       "<AxesSubplot:xlabel='no_of_clusters', ylabel='sc_score'>"
      ]
     },
     "execution_count": 76,
     "metadata": {},
     "output_type": "execute_result"
    },
    {
     "data": {
      "image/png": "[encoded data removed]",
      "text/plain": [
       "<Figure size 432x288 with 1 Axes>"
      ]
     },
     "metadata": {
      "needs_background": "light"
     },
     "output_type": "display_data"
    }
   ],
   "source": [
    "sns.lineplot(data=sc_df, x= 'no_of_clusters',y='sc_score')"
   ]
  },
  {
   "cell_type": "code",
   "execution_count": 77,
   "id": "61174c01",
   "metadata": {},
   "outputs": [],
   "source": [
    "# Final model with K = 3"
   ]
  },
  {
   "cell_type": "code",
   "execution_count": 78,
   "id": "3c7dedf3",
   "metadata": {},
   "outputs": [
    {
     "data": {
      "text/plain": [
       "KMeans(max_iter=50, n_clusters=3)"
      ]
     },
     "execution_count": 78,
     "metadata": {},
     "output_type": "execute_result"
    }
   ],
   "source": [
    "kmeans = KMeans(n_clusters=3,max_iter=50)\n",
    "kmeans.fit(rfm_df_scaled)"
   ]
  },
  {
   "cell_type": "code",
   "execution_count": 79,
   "id": "23501ad1",
   "metadata": {},
   "outputs": [
    {
     "data": {
      "text/plain": [
       "array([2, 1, 0, ..., 2, 0, 0], dtype=int32)"
      ]
     },
     "execution_count": 79,
     "metadata": {},
     "output_type": "execute_result"
    }
   ],
   "source": [
    "kmeans.labels_"
   ]
  },
  {
   "cell_type": "code",
   "execution_count": 80,
   "id": "f41f233f",
   "metadata": {},
   "outputs": [
    {
     "data": {
      "text/html": [
       "<div>\n",
       "<style scoped>\n",
       "    .dataframe tbody tr th:only-of-type {\n",
       "        vertical-align: middle;\n",
       "    }\n",
       "\n",
       "    .dataframe tbody tr th {\n",
       "        vertical-align: top;\n",
       "    }\n",
       "\n",
       "    .dataframe thead th {\n",
       "        text-align: right;\n",
       "    }\n",
       "</style>\n",
       "<table border=\"1\" class=\"dataframe\">\n",
       "  <thead>\n",
       "    <tr style=\"text-align: right;\">\n",
       "      <th></th>\n",
       "      <th>CustomerID</th>\n",
       "      <th>monetory</th>\n",
       "      <th>frequency</th>\n",
       "      <th>recency</th>\n",
       "    </tr>\n",
       "  </thead>\n",
       "  <tbody>\n",
       "    <tr>\n",
       "      <th>0</th>\n",
       "      <td>12346.0</td>\n",
       "      <td>0.00</td>\n",
       "      <td>2</td>\n",
       "      <td>325</td>\n",
       "    </tr>\n",
       "    <tr>\n",
       "      <th>1</th>\n",
       "      <td>12347.0</td>\n",
       "      <td>4310.00</td>\n",
       "      <td>182</td>\n",
       "      <td>1</td>\n",
       "    </tr>\n",
       "    <tr>\n",
       "      <th>2</th>\n",
       "      <td>12348.0</td>\n",
       "      <td>1797.24</td>\n",
       "      <td>31</td>\n",
       "      <td>74</td>\n",
       "    </tr>\n",
       "    <tr>\n",
       "      <th>3</th>\n",
       "      <td>12349.0</td>\n",
       "      <td>1757.55</td>\n",
       "      <td>73</td>\n",
       "      <td>18</td>\n",
       "    </tr>\n",
       "    <tr>\n",
       "      <th>4</th>\n",
       "      <td>12350.0</td>\n",
       "      <td>334.40</td>\n",
       "      <td>17</td>\n",
       "      <td>309</td>\n",
       "    </tr>\n",
       "  </tbody>\n",
       "</table>\n",
       "</div>"
      ],
      "text/plain": [
       "   CustomerID  monetory  frequency  recency\n",
       "0     12346.0      0.00          2      325\n",
       "1     12347.0   4310.00        182        1\n",
       "2     12348.0   1797.24         31       74\n",
       "3     12349.0   1757.55         73       18\n",
       "4     12350.0    334.40         17      309"
      ]
     },
     "execution_count": 80,
     "metadata": {},
     "output_type": "execute_result"
    }
   ],
   "source": [
    "#Assign the labels to main dataframe with customer id\n",
    "final_df.head()"
   ]
  },
  {
   "cell_type": "code",
   "execution_count": 81,
   "id": "b97992af",
   "metadata": {},
   "outputs": [],
   "source": [
    "final_df['cluster_id'] = kmeans.labels_"
   ]
  },
  {
   "cell_type": "code",
   "execution_count": 82,
   "id": "9f73058f",
   "metadata": {},
   "outputs": [
    {
     "data": {
      "text/html": [
       "<div>\n",
       "<style scoped>\n",
       "    .dataframe tbody tr th:only-of-type {\n",
       "        vertical-align: middle;\n",
       "    }\n",
       "\n",
       "    .dataframe tbody tr th {\n",
       "        vertical-align: top;\n",
       "    }\n",
       "\n",
       "    .dataframe thead th {\n",
       "        text-align: right;\n",
       "    }\n",
       "</style>\n",
       "<table border=\"1\" class=\"dataframe\">\n",
       "  <thead>\n",
       "    <tr style=\"text-align: right;\">\n",
       "      <th></th>\n",
       "      <th>CustomerID</th>\n",
       "      <th>monetory</th>\n",
       "      <th>frequency</th>\n",
       "      <th>recency</th>\n",
       "      <th>cluster_id</th>\n",
       "    </tr>\n",
       "  </thead>\n",
       "  <tbody>\n",
       "    <tr>\n",
       "      <th>0</th>\n",
       "      <td>12346.0</td>\n",
       "      <td>0.00</td>\n",
       "      <td>2</td>\n",
       "      <td>325</td>\n",
       "      <td>2</td>\n",
       "    </tr>\n",
       "    <tr>\n",
       "      <th>1</th>\n",
       "      <td>12347.0</td>\n",
       "      <td>4310.00</td>\n",
       "      <td>182</td>\n",
       "      <td>1</td>\n",
       "      <td>1</td>\n",
       "    </tr>\n",
       "    <tr>\n",
       "      <th>2</th>\n",
       "      <td>12348.0</td>\n",
       "      <td>1797.24</td>\n",
       "      <td>31</td>\n",
       "      <td>74</td>\n",
       "      <td>0</td>\n",
       "    </tr>\n",
       "    <tr>\n",
       "      <th>3</th>\n",
       "      <td>12349.0</td>\n",
       "      <td>1757.55</td>\n",
       "      <td>73</td>\n",
       "      <td>18</td>\n",
       "      <td>0</td>\n",
       "    </tr>\n",
       "    <tr>\n",
       "      <th>4</th>\n",
       "      <td>12350.0</td>\n",
       "      <td>334.40</td>\n",
       "      <td>17</td>\n",
       "      <td>309</td>\n",
       "      <td>2</td>\n",
       "    </tr>\n",
       "  </tbody>\n",
       "</table>\n",
       "</div>"
      ],
      "text/plain": [
       "   CustomerID  monetory  frequency  recency  cluster_id\n",
       "0     12346.0      0.00          2      325           2\n",
       "1     12347.0   4310.00        182        1           1\n",
       "2     12348.0   1797.24         31       74           0\n",
       "3     12349.0   1757.55         73       18           0\n",
       "4     12350.0    334.40         17      309           2"
      ]
     },
     "execution_count": 82,
     "metadata": {},
     "output_type": "execute_result"
    }
   ],
   "source": [
    "final_df.head()"
   ]
  },
  {
   "cell_type": "code",
   "execution_count": 83,
   "id": "70eed422",
   "metadata": {},
   "outputs": [
    {
     "data": {
      "text/plain": [
       "0    2726\n",
       "2    1068\n",
       "1     499\n",
       "Name: cluster_id, dtype: int64"
      ]
     },
     "execution_count": 83,
     "metadata": {},
     "output_type": "execute_result"
    }
   ],
   "source": [
    "final_df.cluster_id.value_counts()"
   ]
  },
  {
   "cell_type": "code",
   "execution_count": 84,
   "id": "935b696a",
   "metadata": {},
   "outputs": [
    {
     "data": {
      "text/plain": [
       "<AxesSubplot:xlabel='cluster_id', ylabel='monetory'>"
      ]
     },
     "execution_count": 84,
     "metadata": {},
     "output_type": "execute_result"
    },
    {
     "data": {
      "image/png": "[encoded data removed]",
      "text/plain": [
       "<Figure size 432x288 with 1 Axes>"
      ]
     },
     "metadata": {
      "needs_background": "light"
     },
     "output_type": "display_data"
    }
   ],
   "source": [
    "sns.boxplot(x='cluster_id', y = 'monetory', data=final_df)"
   ]
  },
  {
   "cell_type": "code",
   "execution_count": 85,
   "id": "414582f7",
   "metadata": {},
   "outputs": [
    {
     "data": {
      "text/plain": [
       "<AxesSubplot:xlabel='cluster_id', ylabel='recency'>"
      ]
     },
     "execution_count": 85,
     "metadata": {},
     "output_type": "execute_result"
    },
    {
     "data": {
      "image/png": "[encoded data removed]",
      "text/plain": [
       "<Figure size 432x288 with 1 Axes>"
      ]
     },
     "metadata": {
      "needs_background": "light"
     },
     "output_type": "display_data"
    }
   ],
   "source": [
    "sns.boxplot(x='cluster_id', y = 'recency', data=final_df)"
   ]
  },
  {
   "cell_type": "code",
   "execution_count": 86,
   "id": "768cdaa4",
   "metadata": {},
   "outputs": [
    {
     "data": {
      "text/plain": [
       "<AxesSubplot:xlabel='cluster_id', ylabel='frequency'>"
      ]
     },
     "execution_count": 86,
     "metadata": {},
     "output_type": "execute_result"
    },
    {
     "data": {
      "image/png": "[encoded data removed]",
      "text/plain": [
       "<Figure size 432x288 with 1 Axes>"
      ]
     },
     "metadata": {
      "needs_background": "light"
     },
     "output_type": "display_data"
    }
   ],
   "source": [
    "sns.boxplot(x='cluster_id', y = 'frequency', data=final_df)"
   ]
  },
  {
   "cell_type": "code",
   "execution_count": null,
   "id": "38916d6e",
   "metadata": {},
   "outputs": [],
   "source": []
  },
  {
   "cell_type": "markdown",
   "id": "f86cb05f",
   "metadata": {},
   "source": [
    "### Hierarical clustering"
   ]
  },
  {
   "cell_type": "code",
   "execution_count": 104,
   "id": "a5c4661d",
   "metadata": {},
   "outputs": [],
   "source": [
    "from scipy.cluster.hierarchy import linkage, dendrogram, cut_tree"
   ]
  },
  {
   "cell_type": "code",
   "execution_count": 105,
   "id": "c9da00ef",
   "metadata": {},
   "outputs": [
    {
     "data": {
      "text/html": [
       "<div>\n",
       "<style scoped>\n",
       "    .dataframe tbody tr th:only-of-type {\n",
       "        vertical-align: middle;\n",
       "    }\n",
       "\n",
       "    .dataframe tbody tr th {\n",
       "        vertical-align: top;\n",
       "    }\n",
       "\n",
       "    .dataframe thead th {\n",
       "        text-align: right;\n",
       "    }\n",
       "</style>\n",
       "<table border=\"1\" class=\"dataframe\">\n",
       "  <thead>\n",
       "    <tr style=\"text-align: right;\">\n",
       "      <th></th>\n",
       "      <th>monetory</th>\n",
       "      <th>frequency</th>\n",
       "      <th>recency</th>\n",
       "    </tr>\n",
       "  </thead>\n",
       "  <tbody>\n",
       "    <tr>\n",
       "      <th>0</th>\n",
       "      <td>-0.723738</td>\n",
       "      <td>-0.752888</td>\n",
       "      <td>2.301611</td>\n",
       "    </tr>\n",
       "    <tr>\n",
       "      <th>1</th>\n",
       "      <td>1.731617</td>\n",
       "      <td>1.042467</td>\n",
       "      <td>-0.906466</td>\n",
       "    </tr>\n",
       "    <tr>\n",
       "      <th>2</th>\n",
       "      <td>0.300128</td>\n",
       "      <td>-0.463636</td>\n",
       "      <td>-0.183658</td>\n",
       "    </tr>\n",
       "    <tr>\n",
       "      <th>3</th>\n",
       "      <td>0.277517</td>\n",
       "      <td>-0.044720</td>\n",
       "      <td>-0.738141</td>\n",
       "    </tr>\n",
       "    <tr>\n",
       "      <th>4</th>\n",
       "      <td>-0.533235</td>\n",
       "      <td>-0.603275</td>\n",
       "      <td>2.143188</td>\n",
       "    </tr>\n",
       "  </tbody>\n",
       "</table>\n",
       "</div>"
      ],
      "text/plain": [
       "   monetory  frequency   recency\n",
       "0 -0.723738  -0.752888  2.301611\n",
       "1  1.731617   1.042467 -0.906466\n",
       "2  0.300128  -0.463636 -0.183658\n",
       "3  0.277517  -0.044720 -0.738141\n",
       "4 -0.533235  -0.603275  2.143188"
      ]
     },
     "execution_count": 105,
     "metadata": {},
     "output_type": "execute_result"
    }
   ],
   "source": [
    "rfm_df_scaled.head()"
   ]
  },
  {
   "cell_type": "code",
   "execution_count": 106,
   "id": "604e0a10",
   "metadata": {},
   "outputs": [
    {
     "data": {
      "text/html": [
       "<div>\n",
       "<style scoped>\n",
       "    .dataframe tbody tr th:only-of-type {\n",
       "        vertical-align: middle;\n",
       "    }\n",
       "\n",
       "    .dataframe tbody tr th {\n",
       "        vertical-align: top;\n",
       "    }\n",
       "\n",
       "    .dataframe thead th {\n",
       "        text-align: right;\n",
       "    }\n",
       "</style>\n",
       "<table border=\"1\" class=\"dataframe\">\n",
       "  <thead>\n",
       "    <tr style=\"text-align: right;\">\n",
       "      <th></th>\n",
       "      <th>CustomerID</th>\n",
       "      <th>monetory</th>\n",
       "      <th>frequency</th>\n",
       "      <th>recency</th>\n",
       "      <th>cluster_id</th>\n",
       "    </tr>\n",
       "  </thead>\n",
       "  <tbody>\n",
       "    <tr>\n",
       "      <th>0</th>\n",
       "      <td>12346.0</td>\n",
       "      <td>0.00</td>\n",
       "      <td>2</td>\n",
       "      <td>325</td>\n",
       "      <td>2</td>\n",
       "    </tr>\n",
       "    <tr>\n",
       "      <th>1</th>\n",
       "      <td>12347.0</td>\n",
       "      <td>4310.00</td>\n",
       "      <td>182</td>\n",
       "      <td>1</td>\n",
       "      <td>1</td>\n",
       "    </tr>\n",
       "    <tr>\n",
       "      <th>2</th>\n",
       "      <td>12348.0</td>\n",
       "      <td>1797.24</td>\n",
       "      <td>31</td>\n",
       "      <td>74</td>\n",
       "      <td>0</td>\n",
       "    </tr>\n",
       "    <tr>\n",
       "      <th>3</th>\n",
       "      <td>12349.0</td>\n",
       "      <td>1757.55</td>\n",
       "      <td>73</td>\n",
       "      <td>18</td>\n",
       "      <td>0</td>\n",
       "    </tr>\n",
       "    <tr>\n",
       "      <th>4</th>\n",
       "      <td>12350.0</td>\n",
       "      <td>334.40</td>\n",
       "      <td>17</td>\n",
       "      <td>309</td>\n",
       "      <td>2</td>\n",
       "    </tr>\n",
       "  </tbody>\n",
       "</table>\n",
       "</div>"
      ],
      "text/plain": [
       "   CustomerID  monetory  frequency  recency  cluster_id\n",
       "0     12346.0      0.00          2      325           2\n",
       "1     12347.0   4310.00        182        1           1\n",
       "2     12348.0   1797.24         31       74           0\n",
       "3     12349.0   1757.55         73       18           0\n",
       "4     12350.0    334.40         17      309           2"
      ]
     },
     "execution_count": 106,
     "metadata": {},
     "output_type": "execute_result"
    }
   ],
   "source": [
    "final_df.head()"
   ]
  },
  {
   "cell_type": "code",
   "execution_count": 107,
   "id": "919e15ae",
   "metadata": {},
   "outputs": [],
   "source": [
    "#Single linkage"
   ]
  },
  {
   "cell_type": "code",
   "execution_count": 108,
   "id": "c61cb338",
   "metadata": {},
   "outputs": [],
   "source": [
    "merging = linkage(rfm_df_scaled, method='single', metric='euclidean')"
   ]
  },
  {
   "cell_type": "code",
   "execution_count": 111,
   "id": "4658767e",
   "metadata": {},
   "outputs": [
    {
     "data": {
      "image/png": "[encoded data removed]",
      "text/plain": [
       "<Figure size 432x288 with 1 Axes>"
      ]
     },
     "metadata": {
      "needs_background": "light"
     },
     "output_type": "display_data"
    }
   ],
   "source": [
    "dendrogram(merging)\n",
    "plt.show()"
   ]
  },
  {
   "cell_type": "code",
   "execution_count": 112,
   "id": "571b9779",
   "metadata": {},
   "outputs": [
    {
     "data": {
      "image/png": "[encoded data removed]",
      "text/plain": [
       "<Figure size 432x288 with 1 Axes>"
      ]
     },
     "metadata": {
      "needs_background": "light"
     },
     "output_type": "display_data"
    }
   ],
   "source": [
    "#Complete linkage\n",
    "merging = linkage(rfm_df_scaled, method='complete', metric='euclidean')\n",
    "dendrogram(merging)\n",
    "plt.show()"
   ]
  },
  {
   "cell_type": "code",
   "execution_count": 113,
   "id": "9afa0d74",
   "metadata": {},
   "outputs": [],
   "source": [
    "cluster_no = cut_tree(merging, n_clusters=3)"
   ]
  },
  {
   "cell_type": "code",
   "execution_count": 115,
   "id": "e9f1fc33",
   "metadata": {},
   "outputs": [
    {
     "data": {
      "text/plain": [
       "(4293, 1)"
      ]
     },
     "execution_count": 115,
     "metadata": {},
     "output_type": "execute_result"
    }
   ],
   "source": [
    "cluster_no.shape"
   ]
  },
  {
   "cell_type": "code",
   "execution_count": 116,
   "id": "8029b803",
   "metadata": {},
   "outputs": [],
   "source": [
    "cluster_no = cluster_no.reshape(-1,)"
   ]
  },
  {
   "cell_type": "code",
   "execution_count": 117,
   "id": "186cba92",
   "metadata": {},
   "outputs": [
    {
     "data": {
      "text/plain": [
       "array([0, 1, 0, ..., 0, 0, 0])"
      ]
     },
     "execution_count": 117,
     "metadata": {},
     "output_type": "execute_result"
    }
   ],
   "source": [
    "cluster_no"
   ]
  },
  {
   "cell_type": "code",
   "execution_count": 118,
   "id": "8133f073",
   "metadata": {},
   "outputs": [
    {
     "data": {
      "text/html": [
       "<div>\n",
       "<style scoped>\n",
       "    .dataframe tbody tr th:only-of-type {\n",
       "        vertical-align: middle;\n",
       "    }\n",
       "\n",
       "    .dataframe tbody tr th {\n",
       "        vertical-align: top;\n",
       "    }\n",
       "\n",
       "    .dataframe thead th {\n",
       "        text-align: right;\n",
       "    }\n",
       "</style>\n",
       "<table border=\"1\" class=\"dataframe\">\n",
       "  <thead>\n",
       "    <tr style=\"text-align: right;\">\n",
       "      <th></th>\n",
       "      <th>CustomerID</th>\n",
       "      <th>monetory</th>\n",
       "      <th>frequency</th>\n",
       "      <th>recency</th>\n",
       "      <th>cluster_id</th>\n",
       "    </tr>\n",
       "  </thead>\n",
       "  <tbody>\n",
       "    <tr>\n",
       "      <th>0</th>\n",
       "      <td>12346.0</td>\n",
       "      <td>0.00</td>\n",
       "      <td>2</td>\n",
       "      <td>325</td>\n",
       "      <td>2</td>\n",
       "    </tr>\n",
       "    <tr>\n",
       "      <th>1</th>\n",
       "      <td>12347.0</td>\n",
       "      <td>4310.00</td>\n",
       "      <td>182</td>\n",
       "      <td>1</td>\n",
       "      <td>1</td>\n",
       "    </tr>\n",
       "    <tr>\n",
       "      <th>2</th>\n",
       "      <td>12348.0</td>\n",
       "      <td>1797.24</td>\n",
       "      <td>31</td>\n",
       "      <td>74</td>\n",
       "      <td>0</td>\n",
       "    </tr>\n",
       "    <tr>\n",
       "      <th>3</th>\n",
       "      <td>12349.0</td>\n",
       "      <td>1757.55</td>\n",
       "      <td>73</td>\n",
       "      <td>18</td>\n",
       "      <td>0</td>\n",
       "    </tr>\n",
       "    <tr>\n",
       "      <th>4</th>\n",
       "      <td>12350.0</td>\n",
       "      <td>334.40</td>\n",
       "      <td>17</td>\n",
       "      <td>309</td>\n",
       "      <td>2</td>\n",
       "    </tr>\n",
       "  </tbody>\n",
       "</table>\n",
       "</div>"
      ],
      "text/plain": [
       "   CustomerID  monetory  frequency  recency  cluster_id\n",
       "0     12346.0      0.00          2      325           2\n",
       "1     12347.0   4310.00        182        1           1\n",
       "2     12348.0   1797.24         31       74           0\n",
       "3     12349.0   1757.55         73       18           0\n",
       "4     12350.0    334.40         17      309           2"
      ]
     },
     "execution_count": 118,
     "metadata": {},
     "output_type": "execute_result"
    }
   ],
   "source": [
    "final_df.head()"
   ]
  },
  {
   "cell_type": "code",
   "execution_count": 119,
   "id": "c03ebc3d",
   "metadata": {},
   "outputs": [],
   "source": [
    "final_df['cluster_lables'] = cluster_no"
   ]
  },
  {
   "cell_type": "code",
   "execution_count": 120,
   "id": "6f587e3c",
   "metadata": {},
   "outputs": [
    {
     "data": {
      "text/html": [
       "<div>\n",
       "<style scoped>\n",
       "    .dataframe tbody tr th:only-of-type {\n",
       "        vertical-align: middle;\n",
       "    }\n",
       "\n",
       "    .dataframe tbody tr th {\n",
       "        vertical-align: top;\n",
       "    }\n",
       "\n",
       "    .dataframe thead th {\n",
       "        text-align: right;\n",
       "    }\n",
       "</style>\n",
       "<table border=\"1\" class=\"dataframe\">\n",
       "  <thead>\n",
       "    <tr style=\"text-align: right;\">\n",
       "      <th></th>\n",
       "      <th>CustomerID</th>\n",
       "      <th>monetory</th>\n",
       "      <th>frequency</th>\n",
       "      <th>recency</th>\n",
       "      <th>cluster_id</th>\n",
       "      <th>cluster_lables</th>\n",
       "    </tr>\n",
       "  </thead>\n",
       "  <tbody>\n",
       "    <tr>\n",
       "      <th>0</th>\n",
       "      <td>12346.0</td>\n",
       "      <td>0.00</td>\n",
       "      <td>2</td>\n",
       "      <td>325</td>\n",
       "      <td>2</td>\n",
       "      <td>0</td>\n",
       "    </tr>\n",
       "    <tr>\n",
       "      <th>1</th>\n",
       "      <td>12347.0</td>\n",
       "      <td>4310.00</td>\n",
       "      <td>182</td>\n",
       "      <td>1</td>\n",
       "      <td>1</td>\n",
       "      <td>1</td>\n",
       "    </tr>\n",
       "    <tr>\n",
       "      <th>2</th>\n",
       "      <td>12348.0</td>\n",
       "      <td>1797.24</td>\n",
       "      <td>31</td>\n",
       "      <td>74</td>\n",
       "      <td>0</td>\n",
       "      <td>0</td>\n",
       "    </tr>\n",
       "    <tr>\n",
       "      <th>3</th>\n",
       "      <td>12349.0</td>\n",
       "      <td>1757.55</td>\n",
       "      <td>73</td>\n",
       "      <td>18</td>\n",
       "      <td>0</td>\n",
       "      <td>0</td>\n",
       "    </tr>\n",
       "    <tr>\n",
       "      <th>4</th>\n",
       "      <td>12350.0</td>\n",
       "      <td>334.40</td>\n",
       "      <td>17</td>\n",
       "      <td>309</td>\n",
       "      <td>2</td>\n",
       "      <td>0</td>\n",
       "    </tr>\n",
       "  </tbody>\n",
       "</table>\n",
       "</div>"
      ],
      "text/plain": [
       "   CustomerID  monetory  frequency  recency  cluster_id  cluster_lables\n",
       "0     12346.0      0.00          2      325           2               0\n",
       "1     12347.0   4310.00        182        1           1               1\n",
       "2     12348.0   1797.24         31       74           0               0\n",
       "3     12349.0   1757.55         73       18           0               0\n",
       "4     12350.0    334.40         17      309           2               0"
      ]
     },
     "execution_count": 120,
     "metadata": {},
     "output_type": "execute_result"
    }
   ],
   "source": [
    "final_df.head()"
   ]
  },
  {
   "cell_type": "code",
   "execution_count": 122,
   "id": "610979b1",
   "metadata": {},
   "outputs": [
    {
     "data": {
      "text/plain": [
       "<AxesSubplot:xlabel='cluster_lables', ylabel='monetory'>"
      ]
     },
     "execution_count": 122,
     "metadata": {},
     "output_type": "execute_result"
    },
    {
     "data": {
      "image/png": "[encoded data removed]",
      "text/plain": [
       "<Figure size 432x288 with 1 Axes>"
      ]
     },
     "metadata": {
      "needs_background": "light"
     },
     "output_type": "display_data"
    }
   ],
   "source": [
    "sns.boxplot(x='cluster_lables', y ='monetory', data=final_df)"
   ]
  },
  {
   "cell_type": "code",
   "execution_count": 123,
   "id": "94c2ed2b",
   "metadata": {},
   "outputs": [
    {
     "data": {
      "text/plain": [
       "<AxesSubplot:xlabel='cluster_lables', ylabel='frequency'>"
      ]
     },
     "execution_count": 123,
     "metadata": {},
     "output_type": "execute_result"
    },
    {
     "data": {
      "image/png": "[encoded data removed]",
      "text/plain": [
       "<Figure size 432x288 with 1 Axes>"
      ]
     },
     "metadata": {
      "needs_background": "light"
     },
     "output_type": "display_data"
    }
   ],
   "source": [
    "sns.boxplot(x='cluster_lables', y ='frequency', data=final_df)"
   ]
  },
  {
   "cell_type": "code",
   "execution_count": 124,
   "id": "0141491d",
   "metadata": {},
   "outputs": [
    {
     "data": {
      "text/plain": [
       "<AxesSubplot:xlabel='cluster_lables', ylabel='recency'>"
      ]
     },
     "execution_count": 124,
     "metadata": {},
     "output_type": "execute_result"
    },
    {
     "data": {
      "image/png": "[encoded data removed]",
      "text/plain": [
       "<Figure size 432x288 with 1 Axes>"
      ]
     },
     "metadata": {
      "needs_background": "light"
     },
     "output_type": "display_data"
    }
   ],
   "source": [
    "sns.boxplot(x='cluster_lables', y ='recency', data=final_df)"
   ]
  },
  {
   "cell_type": "code",
   "execution_count": 126,
   "id": "f57a9064",
   "metadata": {},
   "outputs": [],
   "source": [
    "cricket = pd.read_csv('Cricket.csv', sep=',', encoding=\"ISO-8859-1\", header=0)"
   ]
  },
  {
   "cell_type": "code",
   "execution_count": 127,
   "id": "7cb97223",
   "metadata": {},
   "outputs": [
    {
     "data": {
      "text/html": [
       "<div>\n",
       "<style scoped>\n",
       "    .dataframe tbody tr th:only-of-type {\n",
       "        vertical-align: middle;\n",
       "    }\n",
       "\n",
       "    .dataframe tbody tr th {\n",
       "        vertical-align: top;\n",
       "    }\n",
       "\n",
       "    .dataframe thead th {\n",
       "        text-align: right;\n",
       "    }\n",
       "</style>\n",
       "<table border=\"1\" class=\"dataframe\">\n",
       "  <thead>\n",
       "    <tr style=\"text-align: right;\">\n",
       "      <th></th>\n",
       "      <th>Player</th>\n",
       "      <th>Span</th>\n",
       "      <th>Mat</th>\n",
       "      <th>Inns</th>\n",
       "      <th>NO</th>\n",
       "      <th>Runs</th>\n",
       "      <th>HS</th>\n",
       "      <th>Ave</th>\n",
       "      <th>BF</th>\n",
       "      <th>SR</th>\n",
       "      <th>100</th>\n",
       "      <th>50</th>\n",
       "      <th>0</th>\n",
       "    </tr>\n",
       "  </thead>\n",
       "  <tbody>\n",
       "    <tr>\n",
       "      <th>0</th>\n",
       "      <td>SR Tendulkar (INDIA)</td>\n",
       "      <td>1989-2012</td>\n",
       "      <td>463</td>\n",
       "      <td>452</td>\n",
       "      <td>41</td>\n",
       "      <td>18426</td>\n",
       "      <td>200*</td>\n",
       "      <td>44.83</td>\n",
       "      <td>21367</td>\n",
       "      <td>86.23</td>\n",
       "      <td>49</td>\n",
       "      <td>96</td>\n",
       "      <td>20</td>\n",
       "    </tr>\n",
       "    <tr>\n",
       "      <th>1</th>\n",
       "      <td>KC Sangakkara (Asia/ICC/SL)</td>\n",
       "      <td>2000-2015</td>\n",
       "      <td>404</td>\n",
       "      <td>380</td>\n",
       "      <td>41</td>\n",
       "      <td>14234</td>\n",
       "      <td>169</td>\n",
       "      <td>41.98</td>\n",
       "      <td>18048</td>\n",
       "      <td>78.86</td>\n",
       "      <td>25</td>\n",
       "      <td>93</td>\n",
       "      <td>15</td>\n",
       "    </tr>\n",
       "    <tr>\n",
       "      <th>2</th>\n",
       "      <td>RT Ponting (AUS/ICC)</td>\n",
       "      <td>1995-2012</td>\n",
       "      <td>375</td>\n",
       "      <td>365</td>\n",
       "      <td>39</td>\n",
       "      <td>13704</td>\n",
       "      <td>164</td>\n",
       "      <td>42.03</td>\n",
       "      <td>17046</td>\n",
       "      <td>80.39</td>\n",
       "      <td>30</td>\n",
       "      <td>82</td>\n",
       "      <td>20</td>\n",
       "    </tr>\n",
       "    <tr>\n",
       "      <th>3</th>\n",
       "      <td>ST Jayasuriya (Asia/SL)</td>\n",
       "      <td>1989-2011</td>\n",
       "      <td>445</td>\n",
       "      <td>433</td>\n",
       "      <td>18</td>\n",
       "      <td>13430</td>\n",
       "      <td>189</td>\n",
       "      <td>32.36</td>\n",
       "      <td>14725</td>\n",
       "      <td>91.20</td>\n",
       "      <td>28</td>\n",
       "      <td>68</td>\n",
       "      <td>34</td>\n",
       "    </tr>\n",
       "    <tr>\n",
       "      <th>4</th>\n",
       "      <td>DPMD Jayawardene (Asia/SL)</td>\n",
       "      <td>1998-2015</td>\n",
       "      <td>448</td>\n",
       "      <td>418</td>\n",
       "      <td>39</td>\n",
       "      <td>12650</td>\n",
       "      <td>144</td>\n",
       "      <td>33.37</td>\n",
       "      <td>16020</td>\n",
       "      <td>78.96</td>\n",
       "      <td>19</td>\n",
       "      <td>77</td>\n",
       "      <td>28</td>\n",
       "    </tr>\n",
       "  </tbody>\n",
       "</table>\n",
       "</div>"
      ],
      "text/plain": [
       "                        Player       Span  Mat  Inns  NO   Runs    HS    Ave  \\\n",
       "0         SR Tendulkar (INDIA)  1989-2012  463   452  41  18426  200*  44.83   \n",
       "1  KC Sangakkara (Asia/ICC/SL)  2000-2015  404   380  41  14234   169  41.98   \n",
       "2         RT Ponting (AUS/ICC)  1995-2012  375   365  39  13704   164  42.03   \n",
       "3      ST Jayasuriya (Asia/SL)  1989-2011  445   433  18  13430   189  32.36   \n",
       "4   DPMD Jayawardene (Asia/SL)  1998-2015  448   418  39  12650   144  33.37   \n",
       "\n",
       "      BF     SR  100  50   0  \n",
       "0  21367  86.23   49  96  20  \n",
       "1  18048  78.86   25  93  15  \n",
       "2  17046  80.39   30  82  20  \n",
       "3  14725  91.20   28  68  34  \n",
       "4  16020  78.96   19  77  28  "
      ]
     },
     "execution_count": 127,
     "metadata": {},
     "output_type": "execute_result"
    }
   ],
   "source": [
    "cricket.head()"
   ]
  },
  {
   "cell_type": "code",
   "execution_count": 128,
   "id": "11d256ca",
   "metadata": {},
   "outputs": [
    {
     "data": {
      "text/html": [
       "<div>\n",
       "<style scoped>\n",
       "    .dataframe tbody tr th:only-of-type {\n",
       "        vertical-align: middle;\n",
       "    }\n",
       "\n",
       "    .dataframe tbody tr th {\n",
       "        vertical-align: top;\n",
       "    }\n",
       "\n",
       "    .dataframe thead th {\n",
       "        text-align: right;\n",
       "    }\n",
       "</style>\n",
       "<table border=\"1\" class=\"dataframe\">\n",
       "  <thead>\n",
       "    <tr style=\"text-align: right;\">\n",
       "      <th></th>\n",
       "      <th>Player</th>\n",
       "      <th>SR</th>\n",
       "      <th>Ave</th>\n",
       "      <th>cluster_id</th>\n",
       "    </tr>\n",
       "  </thead>\n",
       "  <tbody>\n",
       "    <tr>\n",
       "      <th>0</th>\n",
       "      <td>SR Tendulkar (INDIA)</td>\n",
       "      <td>86.23</td>\n",
       "      <td>44.83</td>\n",
       "      <td>3</td>\n",
       "    </tr>\n",
       "    <tr>\n",
       "      <th>1</th>\n",
       "      <td>KC Sangakkara (Asia/ICC/SL)</td>\n",
       "      <td>78.86</td>\n",
       "      <td>41.98</td>\n",
       "      <td>1</td>\n",
       "    </tr>\n",
       "    <tr>\n",
       "      <th>2</th>\n",
       "      <td>RT Ponting (AUS/ICC)</td>\n",
       "      <td>80.39</td>\n",
       "      <td>42.03</td>\n",
       "      <td>1</td>\n",
       "    </tr>\n",
       "    <tr>\n",
       "      <th>3</th>\n",
       "      <td>ST Jayasuriya (Asia/SL)</td>\n",
       "      <td>91.20</td>\n",
       "      <td>32.36</td>\n",
       "      <td>2</td>\n",
       "    </tr>\n",
       "    <tr>\n",
       "      <th>4</th>\n",
       "      <td>DPMD Jayawardene (Asia/SL)</td>\n",
       "      <td>78.96</td>\n",
       "      <td>33.37</td>\n",
       "      <td>0</td>\n",
       "    </tr>\n",
       "  </tbody>\n",
       "</table>\n",
       "</div>"
      ],
      "text/plain": [
       "                        Player     SR    Ave  cluster_id\n",
       "0         SR Tendulkar (INDIA)  86.23  44.83           3\n",
       "1  KC Sangakkara (Asia/ICC/SL)  78.86  41.98           1\n",
       "2         RT Ponting (AUS/ICC)  80.39  42.03           1\n",
       "3      ST Jayasuriya (Asia/SL)  91.20  32.36           2\n",
       "4   DPMD Jayawardene (Asia/SL)  78.96  33.37           0"
      ]
     },
     "execution_count": 128,
     "metadata": {},
     "output_type": "execute_result"
    }
   ],
   "source": [
    "final_df_1.head()"
   ]
  },
  {
   "cell_type": "code",
   "execution_count": 129,
   "id": "f859729b",
   "metadata": {},
   "outputs": [],
   "source": [
    "final_df_2 = final_df_1[['SR','Ave']]"
   ]
  },
  {
   "cell_type": "code",
   "execution_count": null,
   "id": "98c282ed",
   "metadata": {},
   "outputs": [],
   "source": []
  },
  {
   "cell_type": "code",
   "execution_count": 130,
   "id": "bb4c6599",
   "metadata": {},
   "outputs": [],
   "source": [
    "# instantiate \n",
    "scaler = StandardScaler()\n",
    "\n",
    "# fit_transform \n",
    "rfm_df_scaled = scaler.fit_transform(final_df_2)"
   ]
  },
  {
   "cell_type": "code",
   "execution_count": 134,
   "id": "c9cb655f",
   "metadata": {},
   "outputs": [],
   "source": [
    "rfm_df_scaled = pd.DataFrame(rfm_df_scaled)\n",
    "rfm_df_scaled.columns = ['SR','Ave']"
   ]
  },
  {
   "cell_type": "code",
   "execution_count": 135,
   "id": "96d3d9cd",
   "metadata": {},
   "outputs": [
    {
     "data": {
      "text/html": [
       "<div>\n",
       "<style scoped>\n",
       "    .dataframe tbody tr th:only-of-type {\n",
       "        vertical-align: middle;\n",
       "    }\n",
       "\n",
       "    .dataframe tbody tr th {\n",
       "        vertical-align: top;\n",
       "    }\n",
       "\n",
       "    .dataframe thead th {\n",
       "        text-align: right;\n",
       "    }\n",
       "</style>\n",
       "<table border=\"1\" class=\"dataframe\">\n",
       "  <thead>\n",
       "    <tr style=\"text-align: right;\">\n",
       "      <th></th>\n",
       "      <th>SR</th>\n",
       "      <th>Ave</th>\n",
       "    </tr>\n",
       "  </thead>\n",
       "  <tbody>\n",
       "    <tr>\n",
       "      <th>0</th>\n",
       "      <td>0.703152</td>\n",
       "      <td>1.072294</td>\n",
       "    </tr>\n",
       "    <tr>\n",
       "      <th>1</th>\n",
       "      <td>-0.044139</td>\n",
       "      <td>0.587725</td>\n",
       "    </tr>\n",
       "    <tr>\n",
       "      <th>2</th>\n",
       "      <td>0.110997</td>\n",
       "      <td>0.596226</td>\n",
       "    </tr>\n",
       "    <tr>\n",
       "      <th>3</th>\n",
       "      <td>1.207091</td>\n",
       "      <td>-1.047909</td>\n",
       "    </tr>\n",
       "    <tr>\n",
       "      <th>4</th>\n",
       "      <td>-0.034000</td>\n",
       "      <td>-0.876185</td>\n",
       "    </tr>\n",
       "  </tbody>\n",
       "</table>\n",
       "</div>"
      ],
      "text/plain": [
       "         SR       Ave\n",
       "0  0.703152  1.072294\n",
       "1 -0.044139  0.587725\n",
       "2  0.110997  0.596226\n",
       "3  1.207091 -1.047909\n",
       "4 -0.034000 -0.876185"
      ]
     },
     "execution_count": 135,
     "metadata": {},
     "output_type": "execute_result"
    }
   ],
   "source": [
    "rfm_df_scaled.head()"
   ]
  },
  {
   "cell_type": "code",
   "execution_count": 136,
   "id": "f7b2c534",
   "metadata": {},
   "outputs": [
    {
     "data": {
      "image/png": "[encoded data removed]",
      "text/plain": [
       "<Figure size 432x288 with 1 Axes>"
      ]
     },
     "metadata": {
      "needs_background": "light"
     },
     "output_type": "display_data"
    }
   ],
   "source": [
    "merging = linkage(rfm_df_scaled, method='complete', metric='euclidean')\n",
    "dendrogram(merging)\n",
    "plt.show()"
   ]
  },
  {
   "cell_type": "code",
   "execution_count": 137,
   "id": "e07abce1",
   "metadata": {},
   "outputs": [],
   "source": [
    "cluster_no = cut_tree(merging, n_clusters=4)"
   ]
  },
  {
   "cell_type": "code",
   "execution_count": 138,
   "id": "b9311882",
   "metadata": {},
   "outputs": [],
   "source": [
    "cluster_no = cluster_no.reshape(-1,)"
   ]
  },
  {
   "cell_type": "code",
   "execution_count": 139,
   "id": "b1667a23",
   "metadata": {},
   "outputs": [
    {
     "data": {
      "text/plain": [
       "array([0, 0, 0, 1, 2, 0, 0, 0, 0, 0, 0, 0, 1, 3, 2, 3, 2, 0, 0, 0, 0, 0,\n",
       "       0, 0, 1, 3, 0, 1, 2, 0, 2, 2, 0, 2, 3, 2, 2, 0, 3, 0, 2, 2, 0, 2,\n",
       "       2, 2, 0, 2, 2, 0, 1, 0, 0, 2, 2, 2, 0, 0, 2, 0, 2, 1, 0, 0, 0, 0,\n",
       "       0, 0, 0, 2, 0, 2, 2, 2, 0, 0, 2, 0, 2])"
      ]
     },
     "execution_count": 139,
     "metadata": {},
     "output_type": "execute_result"
    }
   ],
   "source": [
    "cluster_no"
   ]
  },
  {
   "cell_type": "code",
   "execution_count": 140,
   "id": "a1826eaf",
   "metadata": {},
   "outputs": [
    {
     "data": {
      "text/html": [
       "<div>\n",
       "<style scoped>\n",
       "    .dataframe tbody tr th:only-of-type {\n",
       "        vertical-align: middle;\n",
       "    }\n",
       "\n",
       "    .dataframe tbody tr th {\n",
       "        vertical-align: top;\n",
       "    }\n",
       "\n",
       "    .dataframe thead th {\n",
       "        text-align: right;\n",
       "    }\n",
       "</style>\n",
       "<table border=\"1\" class=\"dataframe\">\n",
       "  <thead>\n",
       "    <tr style=\"text-align: right;\">\n",
       "      <th></th>\n",
       "      <th>Player</th>\n",
       "      <th>SR</th>\n",
       "      <th>Ave</th>\n",
       "      <th>cluster_id</th>\n",
       "    </tr>\n",
       "  </thead>\n",
       "  <tbody>\n",
       "    <tr>\n",
       "      <th>0</th>\n",
       "      <td>SR Tendulkar (INDIA)</td>\n",
       "      <td>86.23</td>\n",
       "      <td>44.83</td>\n",
       "      <td>3</td>\n",
       "    </tr>\n",
       "    <tr>\n",
       "      <th>1</th>\n",
       "      <td>KC Sangakkara (Asia/ICC/SL)</td>\n",
       "      <td>78.86</td>\n",
       "      <td>41.98</td>\n",
       "      <td>1</td>\n",
       "    </tr>\n",
       "    <tr>\n",
       "      <th>2</th>\n",
       "      <td>RT Ponting (AUS/ICC)</td>\n",
       "      <td>80.39</td>\n",
       "      <td>42.03</td>\n",
       "      <td>1</td>\n",
       "    </tr>\n",
       "    <tr>\n",
       "      <th>3</th>\n",
       "      <td>ST Jayasuriya (Asia/SL)</td>\n",
       "      <td>91.20</td>\n",
       "      <td>32.36</td>\n",
       "      <td>2</td>\n",
       "    </tr>\n",
       "    <tr>\n",
       "      <th>4</th>\n",
       "      <td>DPMD Jayawardene (Asia/SL)</td>\n",
       "      <td>78.96</td>\n",
       "      <td>33.37</td>\n",
       "      <td>0</td>\n",
       "    </tr>\n",
       "  </tbody>\n",
       "</table>\n",
       "</div>"
      ],
      "text/plain": [
       "                        Player     SR    Ave  cluster_id\n",
       "0         SR Tendulkar (INDIA)  86.23  44.83           3\n",
       "1  KC Sangakkara (Asia/ICC/SL)  78.86  41.98           1\n",
       "2         RT Ponting (AUS/ICC)  80.39  42.03           1\n",
       "3      ST Jayasuriya (Asia/SL)  91.20  32.36           2\n",
       "4   DPMD Jayawardene (Asia/SL)  78.96  33.37           0"
      ]
     },
     "execution_count": 140,
     "metadata": {},
     "output_type": "execute_result"
    }
   ],
   "source": [
    "final_df_1.head()"
   ]
  },
  {
   "cell_type": "code",
   "execution_count": 141,
   "id": "ddfcd58e",
   "metadata": {},
   "outputs": [],
   "source": [
    "final_df_1['cluster_no'] = cluster_no"
   ]
  },
  {
   "cell_type": "code",
   "execution_count": 142,
   "id": "d9cf2f58",
   "metadata": {},
   "outputs": [
    {
     "data": {
      "text/html": [
       "<div>\n",
       "<style scoped>\n",
       "    .dataframe tbody tr th:only-of-type {\n",
       "        vertical-align: middle;\n",
       "    }\n",
       "\n",
       "    .dataframe tbody tr th {\n",
       "        vertical-align: top;\n",
       "    }\n",
       "\n",
       "    .dataframe thead th {\n",
       "        text-align: right;\n",
       "    }\n",
       "</style>\n",
       "<table border=\"1\" class=\"dataframe\">\n",
       "  <thead>\n",
       "    <tr style=\"text-align: right;\">\n",
       "      <th></th>\n",
       "      <th>Player</th>\n",
       "      <th>SR</th>\n",
       "      <th>Ave</th>\n",
       "      <th>cluster_id</th>\n",
       "      <th>cluster_no</th>\n",
       "    </tr>\n",
       "  </thead>\n",
       "  <tbody>\n",
       "    <tr>\n",
       "      <th>0</th>\n",
       "      <td>SR Tendulkar (INDIA)</td>\n",
       "      <td>86.23</td>\n",
       "      <td>44.83</td>\n",
       "      <td>3</td>\n",
       "      <td>0</td>\n",
       "    </tr>\n",
       "    <tr>\n",
       "      <th>1</th>\n",
       "      <td>KC Sangakkara (Asia/ICC/SL)</td>\n",
       "      <td>78.86</td>\n",
       "      <td>41.98</td>\n",
       "      <td>1</td>\n",
       "      <td>0</td>\n",
       "    </tr>\n",
       "    <tr>\n",
       "      <th>2</th>\n",
       "      <td>RT Ponting (AUS/ICC)</td>\n",
       "      <td>80.39</td>\n",
       "      <td>42.03</td>\n",
       "      <td>1</td>\n",
       "      <td>0</td>\n",
       "    </tr>\n",
       "    <tr>\n",
       "      <th>3</th>\n",
       "      <td>ST Jayasuriya (Asia/SL)</td>\n",
       "      <td>91.20</td>\n",
       "      <td>32.36</td>\n",
       "      <td>2</td>\n",
       "      <td>1</td>\n",
       "    </tr>\n",
       "    <tr>\n",
       "      <th>4</th>\n",
       "      <td>DPMD Jayawardene (Asia/SL)</td>\n",
       "      <td>78.96</td>\n",
       "      <td>33.37</td>\n",
       "      <td>0</td>\n",
       "      <td>2</td>\n",
       "    </tr>\n",
       "  </tbody>\n",
       "</table>\n",
       "</div>"
      ],
      "text/plain": [
       "                        Player     SR    Ave  cluster_id  cluster_no\n",
       "0         SR Tendulkar (INDIA)  86.23  44.83           3           0\n",
       "1  KC Sangakkara (Asia/ICC/SL)  78.86  41.98           1           0\n",
       "2         RT Ponting (AUS/ICC)  80.39  42.03           1           0\n",
       "3      ST Jayasuriya (Asia/SL)  91.20  32.36           2           1\n",
       "4   DPMD Jayawardene (Asia/SL)  78.96  33.37           0           2"
      ]
     },
     "execution_count": 142,
     "metadata": {},
     "output_type": "execute_result"
    }
   ],
   "source": [
    "final_df_1.head()"
   ]
  },
  {
   "cell_type": "code",
   "execution_count": 146,
   "id": "cdba3f79",
   "metadata": {},
   "outputs": [
    {
     "data": {
      "text/html": [
       "<div>\n",
       "<style scoped>\n",
       "    .dataframe tbody tr th:only-of-type {\n",
       "        vertical-align: middle;\n",
       "    }\n",
       "\n",
       "    .dataframe tbody tr th {\n",
       "        vertical-align: top;\n",
       "    }\n",
       "\n",
       "    .dataframe thead th {\n",
       "        text-align: right;\n",
       "    }\n",
       "</style>\n",
       "<table border=\"1\" class=\"dataframe\">\n",
       "  <thead>\n",
       "    <tr style=\"text-align: right;\">\n",
       "      <th></th>\n",
       "      <th>Player</th>\n",
       "      <th>SR</th>\n",
       "      <th>Ave</th>\n",
       "      <th>cluster_id</th>\n",
       "      <th>cluster_no</th>\n",
       "    </tr>\n",
       "  </thead>\n",
       "  <tbody>\n",
       "    <tr>\n",
       "      <th>0</th>\n",
       "      <td>SR Tendulkar (INDIA)</td>\n",
       "      <td>86.23</td>\n",
       "      <td>44.83</td>\n",
       "      <td>3</td>\n",
       "      <td>0</td>\n",
       "    </tr>\n",
       "    <tr>\n",
       "      <th>1</th>\n",
       "      <td>KC Sangakkara (Asia/ICC/SL)</td>\n",
       "      <td>78.86</td>\n",
       "      <td>41.98</td>\n",
       "      <td>1</td>\n",
       "      <td>0</td>\n",
       "    </tr>\n",
       "    <tr>\n",
       "      <th>2</th>\n",
       "      <td>RT Ponting (AUS/ICC)</td>\n",
       "      <td>80.39</td>\n",
       "      <td>42.03</td>\n",
       "      <td>1</td>\n",
       "      <td>0</td>\n",
       "    </tr>\n",
       "    <tr>\n",
       "      <th>5</th>\n",
       "      <td>Inzamam-ul-Haq (Asia/PAK)</td>\n",
       "      <td>74.24</td>\n",
       "      <td>39.52</td>\n",
       "      <td>1</td>\n",
       "      <td>0</td>\n",
       "    </tr>\n",
       "    <tr>\n",
       "      <th>6</th>\n",
       "      <td>JH Kallis (Afr/ICC/SA)</td>\n",
       "      <td>72.89</td>\n",
       "      <td>44.36</td>\n",
       "      <td>1</td>\n",
       "      <td>0</td>\n",
       "    </tr>\n",
       "    <tr>\n",
       "      <th>7</th>\n",
       "      <td>SC Ganguly (Asia/INDIA)</td>\n",
       "      <td>73.70</td>\n",
       "      <td>41.02</td>\n",
       "      <td>1</td>\n",
       "      <td>0</td>\n",
       "    </tr>\n",
       "    <tr>\n",
       "      <th>8</th>\n",
       "      <td>R Dravid (Asia/ICC/INDIA)</td>\n",
       "      <td>71.24</td>\n",
       "      <td>39.16</td>\n",
       "      <td>1</td>\n",
       "      <td>0</td>\n",
       "    </tr>\n",
       "    <tr>\n",
       "      <th>9</th>\n",
       "      <td>BC Lara (ICC/WI)</td>\n",
       "      <td>79.51</td>\n",
       "      <td>40.48</td>\n",
       "      <td>1</td>\n",
       "      <td>0</td>\n",
       "    </tr>\n",
       "    <tr>\n",
       "      <th>10</th>\n",
       "      <td>TM Dilshan (SL)</td>\n",
       "      <td>86.23</td>\n",
       "      <td>39.27</td>\n",
       "      <td>2</td>\n",
       "      <td>0</td>\n",
       "    </tr>\n",
       "    <tr>\n",
       "      <th>11</th>\n",
       "      <td>Mohammad Yousuf (Asia/PAK)</td>\n",
       "      <td>75.10</td>\n",
       "      <td>41.71</td>\n",
       "      <td>1</td>\n",
       "      <td>0</td>\n",
       "    </tr>\n",
       "    <tr>\n",
       "      <th>17</th>\n",
       "      <td>CH Gayle (ICC/WI)</td>\n",
       "      <td>85.11</td>\n",
       "      <td>37.33</td>\n",
       "      <td>2</td>\n",
       "      <td>0</td>\n",
       "    </tr>\n",
       "    <tr>\n",
       "      <th>18</th>\n",
       "      <td>Saeed Anwar (PAK)</td>\n",
       "      <td>80.67</td>\n",
       "      <td>39.21</td>\n",
       "      <td>1</td>\n",
       "      <td>0</td>\n",
       "    </tr>\n",
       "    <tr>\n",
       "      <th>19</th>\n",
       "      <td>S Chanderpaul (WI)</td>\n",
       "      <td>70.74</td>\n",
       "      <td>41.60</td>\n",
       "      <td>1</td>\n",
       "      <td>0</td>\n",
       "    </tr>\n",
       "    <tr>\n",
       "      <th>20</th>\n",
       "      <td>Yuvraj Singh (Asia/INDIA)</td>\n",
       "      <td>87.67</td>\n",
       "      <td>36.55</td>\n",
       "      <td>2</td>\n",
       "      <td>0</td>\n",
       "    </tr>\n",
       "    <tr>\n",
       "      <th>21</th>\n",
       "      <td>DL Haynes (WI)</td>\n",
       "      <td>63.09</td>\n",
       "      <td>41.37</td>\n",
       "      <td>1</td>\n",
       "      <td>0</td>\n",
       "    </tr>\n",
       "    <tr>\n",
       "      <th>22</th>\n",
       "      <td>MS Atapattu (SL)</td>\n",
       "      <td>67.72</td>\n",
       "      <td>37.57</td>\n",
       "      <td>0</td>\n",
       "      <td>0</td>\n",
       "    </tr>\n",
       "    <tr>\n",
       "      <th>23</th>\n",
       "      <td>ME Waugh (AUS)</td>\n",
       "      <td>76.90</td>\n",
       "      <td>39.35</td>\n",
       "      <td>1</td>\n",
       "      <td>0</td>\n",
       "    </tr>\n",
       "    <tr>\n",
       "      <th>26</th>\n",
       "      <td>HH Gibbs (SA)</td>\n",
       "      <td>83.26</td>\n",
       "      <td>36.13</td>\n",
       "      <td>0</td>\n",
       "      <td>0</td>\n",
       "    </tr>\n",
       "    <tr>\n",
       "      <th>29</th>\n",
       "      <td>MJ Clarke (AUS)</td>\n",
       "      <td>78.98</td>\n",
       "      <td>44.58</td>\n",
       "      <td>1</td>\n",
       "      <td>0</td>\n",
       "    </tr>\n",
       "    <tr>\n",
       "      <th>32</th>\n",
       "      <td>Javed Miandad (PAK)</td>\n",
       "      <td>67.01</td>\n",
       "      <td>41.70</td>\n",
       "      <td>1</td>\n",
       "      <td>0</td>\n",
       "    </tr>\n",
       "    <tr>\n",
       "      <th>37</th>\n",
       "      <td>GC Smith (Afr/SA)</td>\n",
       "      <td>80.81</td>\n",
       "      <td>37.98</td>\n",
       "      <td>1</td>\n",
       "      <td>0</td>\n",
       "    </tr>\n",
       "    <tr>\n",
       "      <th>39</th>\n",
       "      <td>G Kirsten (SA)</td>\n",
       "      <td>72.04</td>\n",
       "      <td>40.95</td>\n",
       "      <td>1</td>\n",
       "      <td>0</td>\n",
       "    </tr>\n",
       "    <tr>\n",
       "      <th>42</th>\n",
       "      <td>IVA Richards (WI)</td>\n",
       "      <td>90.20</td>\n",
       "      <td>47.00</td>\n",
       "      <td>3</td>\n",
       "      <td>0</td>\n",
       "    </tr>\n",
       "    <tr>\n",
       "      <th>46</th>\n",
       "      <td>LRPL Taylor (NZ)</td>\n",
       "      <td>82.03</td>\n",
       "      <td>44.12</td>\n",
       "      <td>1</td>\n",
       "      <td>0</td>\n",
       "    </tr>\n",
       "    <tr>\n",
       "      <th>49</th>\n",
       "      <td>ML Hayden (AUS/ICC)</td>\n",
       "      <td>78.96</td>\n",
       "      <td>43.80</td>\n",
       "      <td>1</td>\n",
       "      <td>0</td>\n",
       "    </tr>\n",
       "    <tr>\n",
       "      <th>51</th>\n",
       "      <td>DM Jones (AUS)</td>\n",
       "      <td>72.56</td>\n",
       "      <td>44.61</td>\n",
       "      <td>1</td>\n",
       "      <td>0</td>\n",
       "    </tr>\n",
       "    <tr>\n",
       "      <th>52</th>\n",
       "      <td>DC Boon (AUS)</td>\n",
       "      <td>65.13</td>\n",
       "      <td>37.04</td>\n",
       "      <td>0</td>\n",
       "      <td>0</td>\n",
       "    </tr>\n",
       "    <tr>\n",
       "      <th>56</th>\n",
       "      <td>RR Sarwan (WI)</td>\n",
       "      <td>75.74</td>\n",
       "      <td>42.67</td>\n",
       "      <td>1</td>\n",
       "      <td>0</td>\n",
       "    </tr>\n",
       "    <tr>\n",
       "      <th>57</th>\n",
       "      <td>EJG Morgan (ENG/IRE)</td>\n",
       "      <td>88.62</td>\n",
       "      <td>38.73</td>\n",
       "      <td>2</td>\n",
       "      <td>0</td>\n",
       "    </tr>\n",
       "    <tr>\n",
       "      <th>59</th>\n",
       "      <td>SR Watson (AUS)</td>\n",
       "      <td>90.44</td>\n",
       "      <td>40.54</td>\n",
       "      <td>2</td>\n",
       "      <td>0</td>\n",
       "    </tr>\n",
       "    <tr>\n",
       "      <th>62</th>\n",
       "      <td>WJ Cronje (SA)</td>\n",
       "      <td>76.47</td>\n",
       "      <td>38.64</td>\n",
       "      <td>1</td>\n",
       "      <td>0</td>\n",
       "    </tr>\n",
       "    <tr>\n",
       "      <th>63</th>\n",
       "      <td>MJ Guptill (NZ)</td>\n",
       "      <td>87.73</td>\n",
       "      <td>43.30</td>\n",
       "      <td>3</td>\n",
       "      <td>0</td>\n",
       "    </tr>\n",
       "    <tr>\n",
       "      <th>64</th>\n",
       "      <td>MEK Hussey (AUS)</td>\n",
       "      <td>87.16</td>\n",
       "      <td>48.15</td>\n",
       "      <td>3</td>\n",
       "      <td>0</td>\n",
       "    </tr>\n",
       "    <tr>\n",
       "      <th>65</th>\n",
       "      <td>RG Sharma (INDIA)</td>\n",
       "      <td>84.56</td>\n",
       "      <td>42.46</td>\n",
       "      <td>1</td>\n",
       "      <td>0</td>\n",
       "    </tr>\n",
       "    <tr>\n",
       "      <th>66</th>\n",
       "      <td>IR Bell (ENG)</td>\n",
       "      <td>77.16</td>\n",
       "      <td>37.87</td>\n",
       "      <td>1</td>\n",
       "      <td>0</td>\n",
       "    </tr>\n",
       "    <tr>\n",
       "      <th>67</th>\n",
       "      <td>A Jadeja (INDIA)</td>\n",
       "      <td>69.80</td>\n",
       "      <td>37.47</td>\n",
       "      <td>0</td>\n",
       "      <td>0</td>\n",
       "    </tr>\n",
       "    <tr>\n",
       "      <th>68</th>\n",
       "      <td>DR Martyn (AUS)</td>\n",
       "      <td>77.73</td>\n",
       "      <td>40.80</td>\n",
       "      <td>1</td>\n",
       "      <td>0</td>\n",
       "    </tr>\n",
       "    <tr>\n",
       "      <th>70</th>\n",
       "      <td>G Gambhir (INDIA)</td>\n",
       "      <td>85.25</td>\n",
       "      <td>39.68</td>\n",
       "      <td>1</td>\n",
       "      <td>0</td>\n",
       "    </tr>\n",
       "    <tr>\n",
       "      <th>74</th>\n",
       "      <td>CG Greenidge (WI)</td>\n",
       "      <td>64.92</td>\n",
       "      <td>45.03</td>\n",
       "      <td>1</td>\n",
       "      <td>0</td>\n",
       "    </tr>\n",
       "    <tr>\n",
       "      <th>75</th>\n",
       "      <td>Misbah-ul-Haq (PAK)</td>\n",
       "      <td>73.75</td>\n",
       "      <td>43.40</td>\n",
       "      <td>1</td>\n",
       "      <td>0</td>\n",
       "    </tr>\n",
       "    <tr>\n",
       "      <th>77</th>\n",
       "      <td>A Symonds (AUS)</td>\n",
       "      <td>92.44</td>\n",
       "      <td>39.75</td>\n",
       "      <td>2</td>\n",
       "      <td>0</td>\n",
       "    </tr>\n",
       "  </tbody>\n",
       "</table>\n",
       "</div>"
      ],
      "text/plain": [
       "                         Player     SR    Ave  cluster_id  cluster_no\n",
       "0          SR Tendulkar (INDIA)  86.23  44.83           3           0\n",
       "1   KC Sangakkara (Asia/ICC/SL)  78.86  41.98           1           0\n",
       "2          RT Ponting (AUS/ICC)  80.39  42.03           1           0\n",
       "5     Inzamam-ul-Haq (Asia/PAK)  74.24  39.52           1           0\n",
       "6        JH Kallis (Afr/ICC/SA)  72.89  44.36           1           0\n",
       "7       SC Ganguly (Asia/INDIA)  73.70  41.02           1           0\n",
       "8     R Dravid (Asia/ICC/INDIA)  71.24  39.16           1           0\n",
       "9              BC Lara (ICC/WI)  79.51  40.48           1           0\n",
       "10              TM Dilshan (SL)  86.23  39.27           2           0\n",
       "11   Mohammad Yousuf (Asia/PAK)  75.10  41.71           1           0\n",
       "17            CH Gayle (ICC/WI)  85.11  37.33           2           0\n",
       "18            Saeed Anwar (PAK)  80.67  39.21           1           0\n",
       "19           S Chanderpaul (WI)  70.74  41.60           1           0\n",
       "20    Yuvraj Singh (Asia/INDIA)  87.67  36.55           2           0\n",
       "21               DL Haynes (WI)  63.09  41.37           1           0\n",
       "22             MS Atapattu (SL)  67.72  37.57           0           0\n",
       "23               ME Waugh (AUS)  76.90  39.35           1           0\n",
       "26                HH Gibbs (SA)  83.26  36.13           0           0\n",
       "29              MJ Clarke (AUS)  78.98  44.58           1           0\n",
       "32          Javed Miandad (PAK)  67.01  41.70           1           0\n",
       "37            GC Smith (Afr/SA)  80.81  37.98           1           0\n",
       "39               G Kirsten (SA)  72.04  40.95           1           0\n",
       "42            IVA Richards (WI)  90.20  47.00           3           0\n",
       "46             LRPL Taylor (NZ)  82.03  44.12           1           0\n",
       "49          ML Hayden (AUS/ICC)  78.96  43.80           1           0\n",
       "51               DM Jones (AUS)  72.56  44.61           1           0\n",
       "52                DC Boon (AUS)  65.13  37.04           0           0\n",
       "56               RR Sarwan (WI)  75.74  42.67           1           0\n",
       "57         EJG Morgan (ENG/IRE)  88.62  38.73           2           0\n",
       "59              SR Watson (AUS)  90.44  40.54           2           0\n",
       "62               WJ Cronje (SA)  76.47  38.64           1           0\n",
       "63              MJ Guptill (NZ)  87.73  43.30           3           0\n",
       "64             MEK Hussey (AUS)  87.16  48.15           3           0\n",
       "65            RG Sharma (INDIA)  84.56  42.46           1           0\n",
       "66                IR Bell (ENG)  77.16  37.87           1           0\n",
       "67             A Jadeja (INDIA)  69.80  37.47           0           0\n",
       "68              DR Martyn (AUS)  77.73  40.80           1           0\n",
       "70            G Gambhir (INDIA)  85.25  39.68           1           0\n",
       "74            CG Greenidge (WI)  64.92  45.03           1           0\n",
       "75          Misbah-ul-Haq (PAK)  73.75  43.40           1           0\n",
       "77              A Symonds (AUS)  92.44  39.75           2           0"
      ]
     },
     "execution_count": 146,
     "metadata": {},
     "output_type": "execute_result"
    }
   ],
   "source": [
    "final_df_1[final_df_1.cluster_no == 0]"
   ]
  },
  {
   "cell_type": "code",
   "execution_count": null,
   "id": "8c6c9e8a",
   "metadata": {},
   "outputs": [],
   "source": []
  },
  {
   "cell_type": "code",
   "execution_count": null,
   "id": "6868eae5",
   "metadata": {},
   "outputs": [],
   "source": []
  },
  {
   "cell_type": "code",
   "execution_count": null,
   "id": "b6535c60",
   "metadata": {},
   "outputs": [],
   "source": []
  },
  {
   "cell_type": "code",
   "execution_count": null,
   "id": "8a505b2b",
   "metadata": {},
   "outputs": [],
   "source": []
  },
  {
   "cell_type": "code",
   "execution_count": null,
   "id": "ebdd8fce",
   "metadata": {},
   "outputs": [],
   "source": []
  },
  {
   "cell_type": "code",
   "execution_count": null,
   "id": "45d60281",
   "metadata": {},
   "outputs": [],
   "source": []
  },
  {
   "cell_type": "code",
   "execution_count": null,
   "id": "f51deb9c",
   "metadata": {},
   "outputs": [],
   "source": []
  },
  {
   "cell_type": "code",
   "execution_count": null,
   "id": "c8e40516",
   "metadata": {},
   "outputs": [],
   "source": []
  },
  {
   "cell_type": "code",
   "execution_count": null,
   "id": "b6ab80fa",
   "metadata": {},
   "outputs": [],
   "source": []
  },
  {
   "cell_type": "code",
   "execution_count": null,
   "id": "a58a109c",
   "metadata": {},
   "outputs": [],
   "source": []
  },
  {
   "cell_type": "code",
   "execution_count": null,
   "id": "6251fe59",
   "metadata": {},
   "outputs": [],
   "source": []
  },
  {
   "cell_type": "code",
   "execution_count": null,
   "id": "2f9facc9",
   "metadata": {},
   "outputs": [],
   "source": []
  },
  {
   "cell_type": "code",
   "execution_count": null,
   "id": "104b5553",
   "metadata": {},
   "outputs": [],
   "source": []
  },
  {
   "cell_type": "code",
   "execution_count": null,
   "id": "15a5e846",
   "metadata": {},
   "outputs": [],
   "source": []
  },
  {
   "cell_type": "code",
   "execution_count": null,
   "id": "958842f9",
   "metadata": {},
   "outputs": [],
   "source": []
  },
  {
   "cell_type": "code",
   "execution_count": null,
   "id": "8bae7927",
   "metadata": {},
   "outputs": [],
   "source": []
  },
  {
   "cell_type": "code",
   "execution_count": null,
   "id": "d4046e46",
   "metadata": {},
   "outputs": [],
   "source": []
  },
  {
   "cell_type": "code",
   "execution_count": null,
   "id": "4db51ab8",
   "metadata": {},
   "outputs": [],
   "source": []
  },
  {
   "cell_type": "code",
   "execution_count": null,
   "id": "6ff7678d",
   "metadata": {},
   "outputs": [],
   "source": []
  },
  {
   "cell_type": "code",
   "execution_count": null,
   "id": "88db7eba",
   "metadata": {},
   "outputs": [],
   "source": []
  },
  {
   "cell_type": "code",
   "execution_count": null,
   "id": "e864803a",
   "metadata": {},
   "outputs": [],
   "source": []
  },
  {
   "cell_type": "raw",
   "id": "916c095a",
   "metadata": {},
   "source": []
  },
  {
   "cell_type": "code",
   "execution_count": null,
   "id": "f4a66fde",
   "metadata": {},
   "outputs": [],
   "source": []
  }
 ],
 "metadata": {
  "kernelspec": {
   "display_name": "Python 3 (ipykernel)",
   "language": "python",
   "name": "python3"
  },
  "language_info": {
   "codemirror_mode": {
    "name": "ipython",
    "version": 3
   },
   "file_extension": ".py",
   "mimetype": "text/x-python",
   "name": "python",
   "nbconvert_exporter": "python",
   "pygments_lexer": "ipython3",
   "version": "3.9.7"
  }
 },
 "nbformat": 4,
 "nbformat_minor": 5
}
