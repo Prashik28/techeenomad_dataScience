{
 "cells": [
  {
   "cell_type": "markdown",
   "id": "4ad971f2",
   "metadata": {},
   "source": [
    "## Telecom churn case study \n",
    "\n",
    "    - Using multivariant logistic regression \n",
    "    - Datasets are available in Datasets folder"
   ]
  },
  {
   "cell_type": "markdown",
   "id": "fca4c603",
   "metadata": {},
   "source": [
    "### Steps:\n",
    " - Data cleaning and preparation\n",
    "        - Combining three dataframes\n",
    "        - Handling categorical variables\n",
    "            - Mapping categorical variables to integers\n",
    "            - Dummy variable creation\n",
    "        - Handling missing values\n",
    " - Test-train split and scaling\n",
    " - Model Building\n",
    "        - Feature elimination based on correlations\n",
    "        - Feature selection using RFE (Coarse Tuning)\n",
    "        - Manual feature elimination (using p-values and VIFs)\n",
    " - Model Evaluation\n",
    "        - Accuracy\n",
    "        - Sensitivity and Specificity\n",
    "        - Optimal cut-off using ROC curve\n",
    "        - Precision and Recall\n",
    " - Predictions on the test set"
   ]
  },
  {
   "cell_type": "code",
   "execution_count": 1,
   "id": "d712b601",
   "metadata": {},
   "outputs": [],
   "source": [
    "import warnings\n",
    "warnings.filterwarnings('ignore')"
   ]
  },
  {
   "cell_type": "code",
   "execution_count": 2,
   "id": "399d4734",
   "metadata": {},
   "outputs": [],
   "source": [
    "#Import required libraries \n",
    "import pandas as pd\n",
    "import matplotlib.pyplot as plt\n",
    "import seaborn as sns\n",
    "from sklearn.model_selection import train_test_split\n",
    "from sklearn.preprocessing import StandardScaler, MinMaxScaler"
   ]
  },
  {
   "cell_type": "markdown",
   "id": "bdb1a649",
   "metadata": {},
   "source": [
    "# Data cleaning and preparation"
   ]
  },
  {
   "cell_type": "markdown",
   "id": "c3f3334d",
   "metadata": {},
   "source": [
    "### Combining three dataframes"
   ]
  },
  {
   "cell_type": "markdown",
   "id": "a72066d2",
   "metadata": {},
   "source": [
    "- Dataset 1 - Churn Data"
   ]
  },
  {
   "cell_type": "code",
   "execution_count": 3,
   "id": "d55ca837",
   "metadata": {},
   "outputs": [],
   "source": [
    "churn_data = pd.read_csv('datasets/churn_data.csv')"
   ]
  },
  {
   "cell_type": "code",
   "execution_count": 4,
   "id": "cb84352f",
   "metadata": {},
   "outputs": [
    {
     "data": {
      "text/html": [
       "<div>\n",
       "<style scoped>\n",
       "    .dataframe tbody tr th:only-of-type {\n",
       "        vertical-align: middle;\n",
       "    }\n",
       "\n",
       "    .dataframe tbody tr th {\n",
       "        vertical-align: top;\n",
       "    }\n",
       "\n",
       "    .dataframe thead th {\n",
       "        text-align: right;\n",
       "    }\n",
       "</style>\n",
       "<table border=\"1\" class=\"dataframe\">\n",
       "  <thead>\n",
       "    <tr style=\"text-align: right;\">\n",
       "      <th></th>\n",
       "      <th>customerID</th>\n",
       "      <th>tenure</th>\n",
       "      <th>PhoneService</th>\n",
       "      <th>Contract</th>\n",
       "      <th>PaperlessBilling</th>\n",
       "      <th>PaymentMethod</th>\n",
       "      <th>MonthlyCharges</th>\n",
       "      <th>TotalCharges</th>\n",
       "      <th>Churn</th>\n",
       "    </tr>\n",
       "  </thead>\n",
       "  <tbody>\n",
       "    <tr>\n",
       "      <th>0</th>\n",
       "      <td>7590-VHVEG</td>\n",
       "      <td>1</td>\n",
       "      <td>No</td>\n",
       "      <td>Month-to-month</td>\n",
       "      <td>Yes</td>\n",
       "      <td>Electronic check</td>\n",
       "      <td>29.85</td>\n",
       "      <td>29.85</td>\n",
       "      <td>No</td>\n",
       "    </tr>\n",
       "    <tr>\n",
       "      <th>1</th>\n",
       "      <td>5575-GNVDE</td>\n",
       "      <td>34</td>\n",
       "      <td>Yes</td>\n",
       "      <td>One year</td>\n",
       "      <td>No</td>\n",
       "      <td>Mailed check</td>\n",
       "      <td>56.95</td>\n",
       "      <td>1889.5</td>\n",
       "      <td>No</td>\n",
       "    </tr>\n",
       "    <tr>\n",
       "      <th>2</th>\n",
       "      <td>3668-QPYBK</td>\n",
       "      <td>2</td>\n",
       "      <td>Yes</td>\n",
       "      <td>Month-to-month</td>\n",
       "      <td>Yes</td>\n",
       "      <td>Mailed check</td>\n",
       "      <td>53.85</td>\n",
       "      <td>108.15</td>\n",
       "      <td>Yes</td>\n",
       "    </tr>\n",
       "    <tr>\n",
       "      <th>3</th>\n",
       "      <td>7795-CFOCW</td>\n",
       "      <td>45</td>\n",
       "      <td>No</td>\n",
       "      <td>One year</td>\n",
       "      <td>No</td>\n",
       "      <td>Bank transfer (automatic)</td>\n",
       "      <td>42.30</td>\n",
       "      <td>1840.75</td>\n",
       "      <td>No</td>\n",
       "    </tr>\n",
       "    <tr>\n",
       "      <th>4</th>\n",
       "      <td>9237-HQITU</td>\n",
       "      <td>2</td>\n",
       "      <td>Yes</td>\n",
       "      <td>Month-to-month</td>\n",
       "      <td>Yes</td>\n",
       "      <td>Electronic check</td>\n",
       "      <td>70.70</td>\n",
       "      <td>151.65</td>\n",
       "      <td>Yes</td>\n",
       "    </tr>\n",
       "  </tbody>\n",
       "</table>\n",
       "</div>"
      ],
      "text/plain": [
       "   customerID  tenure PhoneService        Contract PaperlessBilling  \\\n",
       "0  7590-VHVEG       1           No  Month-to-month              Yes   \n",
       "1  5575-GNVDE      34          Yes        One year               No   \n",
       "2  3668-QPYBK       2          Yes  Month-to-month              Yes   \n",
       "3  7795-CFOCW      45           No        One year               No   \n",
       "4  9237-HQITU       2          Yes  Month-to-month              Yes   \n",
       "\n",
       "               PaymentMethod  MonthlyCharges TotalCharges Churn  \n",
       "0           Electronic check           29.85        29.85    No  \n",
       "1               Mailed check           56.95       1889.5    No  \n",
       "2               Mailed check           53.85       108.15   Yes  \n",
       "3  Bank transfer (automatic)           42.30      1840.75    No  \n",
       "4           Electronic check           70.70       151.65   Yes  "
      ]
     },
     "execution_count": 4,
     "metadata": {},
     "output_type": "execute_result"
    }
   ],
   "source": [
    "churn_data.head()"
   ]
  },
  {
   "cell_type": "markdown",
   "id": "b0b15c3c",
   "metadata": {},
   "source": [
    "- Dataset 2 - custmomer data"
   ]
  },
  {
   "cell_type": "code",
   "execution_count": 5,
   "id": "76a74491",
   "metadata": {},
   "outputs": [],
   "source": [
    "customer_data = pd.read_csv('datasets/customer_data.csv')"
   ]
  },
  {
   "cell_type": "code",
   "execution_count": 6,
   "id": "c279d71c",
   "metadata": {},
   "outputs": [
    {
     "data": {
      "text/html": [
       "<div>\n",
       "<style scoped>\n",
       "    .dataframe tbody tr th:only-of-type {\n",
       "        vertical-align: middle;\n",
       "    }\n",
       "\n",
       "    .dataframe tbody tr th {\n",
       "        vertical-align: top;\n",
       "    }\n",
       "\n",
       "    .dataframe thead th {\n",
       "        text-align: right;\n",
       "    }\n",
       "</style>\n",
       "<table border=\"1\" class=\"dataframe\">\n",
       "  <thead>\n",
       "    <tr style=\"text-align: right;\">\n",
       "      <th></th>\n",
       "      <th>customerID</th>\n",
       "      <th>gender</th>\n",
       "      <th>SeniorCitizen</th>\n",
       "      <th>Partner</th>\n",
       "      <th>Dependents</th>\n",
       "    </tr>\n",
       "  </thead>\n",
       "  <tbody>\n",
       "    <tr>\n",
       "      <th>0</th>\n",
       "      <td>7590-VHVEG</td>\n",
       "      <td>Female</td>\n",
       "      <td>0</td>\n",
       "      <td>Yes</td>\n",
       "      <td>No</td>\n",
       "    </tr>\n",
       "    <tr>\n",
       "      <th>1</th>\n",
       "      <td>5575-GNVDE</td>\n",
       "      <td>Male</td>\n",
       "      <td>0</td>\n",
       "      <td>No</td>\n",
       "      <td>No</td>\n",
       "    </tr>\n",
       "    <tr>\n",
       "      <th>2</th>\n",
       "      <td>3668-QPYBK</td>\n",
       "      <td>Male</td>\n",
       "      <td>0</td>\n",
       "      <td>No</td>\n",
       "      <td>No</td>\n",
       "    </tr>\n",
       "    <tr>\n",
       "      <th>3</th>\n",
       "      <td>7795-CFOCW</td>\n",
       "      <td>Male</td>\n",
       "      <td>0</td>\n",
       "      <td>No</td>\n",
       "      <td>No</td>\n",
       "    </tr>\n",
       "    <tr>\n",
       "      <th>4</th>\n",
       "      <td>9237-HQITU</td>\n",
       "      <td>Female</td>\n",
       "      <td>0</td>\n",
       "      <td>No</td>\n",
       "      <td>No</td>\n",
       "    </tr>\n",
       "  </tbody>\n",
       "</table>\n",
       "</div>"
      ],
      "text/plain": [
       "   customerID  gender  SeniorCitizen Partner Dependents\n",
       "0  7590-VHVEG  Female              0     Yes         No\n",
       "1  5575-GNVDE    Male              0      No         No\n",
       "2  3668-QPYBK    Male              0      No         No\n",
       "3  7795-CFOCW    Male              0      No         No\n",
       "4  9237-HQITU  Female              0      No         No"
      ]
     },
     "execution_count": 6,
     "metadata": {},
     "output_type": "execute_result"
    }
   ],
   "source": [
    "customer_data.head()"
   ]
  },
  {
   "cell_type": "markdown",
   "id": "7c3cf551",
   "metadata": {},
   "source": [
    "- Dataset 3 - Internet Data"
   ]
  },
  {
   "cell_type": "code",
   "execution_count": 7,
   "id": "ea2d46bc",
   "metadata": {},
   "outputs": [],
   "source": [
    "internet_data = pd.read_csv('datasets/internet_data.csv')"
   ]
  },
  {
   "cell_type": "code",
   "execution_count": 8,
   "id": "b121ddb1",
   "metadata": {},
   "outputs": [
    {
     "data": {
      "text/html": [
       "<div>\n",
       "<style scoped>\n",
       "    .dataframe tbody tr th:only-of-type {\n",
       "        vertical-align: middle;\n",
       "    }\n",
       "\n",
       "    .dataframe tbody tr th {\n",
       "        vertical-align: top;\n",
       "    }\n",
       "\n",
       "    .dataframe thead th {\n",
       "        text-align: right;\n",
       "    }\n",
       "</style>\n",
       "<table border=\"1\" class=\"dataframe\">\n",
       "  <thead>\n",
       "    <tr style=\"text-align: right;\">\n",
       "      <th></th>\n",
       "      <th>customerID</th>\n",
       "      <th>MultipleLines</th>\n",
       "      <th>InternetService</th>\n",
       "      <th>OnlineSecurity</th>\n",
       "      <th>OnlineBackup</th>\n",
       "      <th>DeviceProtection</th>\n",
       "      <th>TechSupport</th>\n",
       "      <th>StreamingTV</th>\n",
       "      <th>StreamingMovies</th>\n",
       "    </tr>\n",
       "  </thead>\n",
       "  <tbody>\n",
       "    <tr>\n",
       "      <th>0</th>\n",
       "      <td>7590-VHVEG</td>\n",
       "      <td>No phone service</td>\n",
       "      <td>DSL</td>\n",
       "      <td>No</td>\n",
       "      <td>Yes</td>\n",
       "      <td>No</td>\n",
       "      <td>No</td>\n",
       "      <td>No</td>\n",
       "      <td>No</td>\n",
       "    </tr>\n",
       "    <tr>\n",
       "      <th>1</th>\n",
       "      <td>5575-GNVDE</td>\n",
       "      <td>No</td>\n",
       "      <td>DSL</td>\n",
       "      <td>Yes</td>\n",
       "      <td>No</td>\n",
       "      <td>Yes</td>\n",
       "      <td>No</td>\n",
       "      <td>No</td>\n",
       "      <td>No</td>\n",
       "    </tr>\n",
       "    <tr>\n",
       "      <th>2</th>\n",
       "      <td>3668-QPYBK</td>\n",
       "      <td>No</td>\n",
       "      <td>DSL</td>\n",
       "      <td>Yes</td>\n",
       "      <td>Yes</td>\n",
       "      <td>No</td>\n",
       "      <td>No</td>\n",
       "      <td>No</td>\n",
       "      <td>No</td>\n",
       "    </tr>\n",
       "    <tr>\n",
       "      <th>3</th>\n",
       "      <td>7795-CFOCW</td>\n",
       "      <td>No phone service</td>\n",
       "      <td>DSL</td>\n",
       "      <td>Yes</td>\n",
       "      <td>No</td>\n",
       "      <td>Yes</td>\n",
       "      <td>Yes</td>\n",
       "      <td>No</td>\n",
       "      <td>No</td>\n",
       "    </tr>\n",
       "    <tr>\n",
       "      <th>4</th>\n",
       "      <td>9237-HQITU</td>\n",
       "      <td>No</td>\n",
       "      <td>Fiber optic</td>\n",
       "      <td>No</td>\n",
       "      <td>No</td>\n",
       "      <td>No</td>\n",
       "      <td>No</td>\n",
       "      <td>No</td>\n",
       "      <td>No</td>\n",
       "    </tr>\n",
       "  </tbody>\n",
       "</table>\n",
       "</div>"
      ],
      "text/plain": [
       "   customerID     MultipleLines InternetService OnlineSecurity OnlineBackup  \\\n",
       "0  7590-VHVEG  No phone service             DSL             No          Yes   \n",
       "1  5575-GNVDE                No             DSL            Yes           No   \n",
       "2  3668-QPYBK                No             DSL            Yes          Yes   \n",
       "3  7795-CFOCW  No phone service             DSL            Yes           No   \n",
       "4  9237-HQITU                No     Fiber optic             No           No   \n",
       "\n",
       "  DeviceProtection TechSupport StreamingTV StreamingMovies  \n",
       "0               No          No          No              No  \n",
       "1              Yes          No          No              No  \n",
       "2               No          No          No              No  \n",
       "3              Yes         Yes          No              No  \n",
       "4               No          No          No              No  "
      ]
     },
     "execution_count": 8,
     "metadata": {},
     "output_type": "execute_result"
    }
   ],
   "source": [
    "internet_data.head()"
   ]
  },
  {
   "cell_type": "markdown",
   "id": "4d9561fc",
   "metadata": {},
   "source": [
    "#### Summary\n",
    "    - Customer ID is common key between all three datasets\n",
    "    - Chrun_data - It has target varibale along with other variables.\n",
    "    - Customer_data - It has few details about customers, like Gender, Senior Citizen , dependents etc.\n",
    "    - Internrt_data - It has all options or services customer is using."
   ]
  },
  {
   "cell_type": "code",
   "execution_count": 9,
   "id": "088c7b45",
   "metadata": {},
   "outputs": [],
   "source": [
    "# Merge all datasets to create final single dataset with all required information.\n",
    "tmp_df1 = pd.merge(churn_data, customer_data, how='inner', on = 'customerID')"
   ]
  },
  {
   "cell_type": "code",
   "execution_count": 10,
   "id": "17e912c1",
   "metadata": {},
   "outputs": [
    {
     "data": {
      "text/html": [
       "<div>\n",
       "<style scoped>\n",
       "    .dataframe tbody tr th:only-of-type {\n",
       "        vertical-align: middle;\n",
       "    }\n",
       "\n",
       "    .dataframe tbody tr th {\n",
       "        vertical-align: top;\n",
       "    }\n",
       "\n",
       "    .dataframe thead th {\n",
       "        text-align: right;\n",
       "    }\n",
       "</style>\n",
       "<table border=\"1\" class=\"dataframe\">\n",
       "  <thead>\n",
       "    <tr style=\"text-align: right;\">\n",
       "      <th></th>\n",
       "      <th>customerID</th>\n",
       "      <th>tenure</th>\n",
       "      <th>PhoneService</th>\n",
       "      <th>Contract</th>\n",
       "      <th>PaperlessBilling</th>\n",
       "      <th>PaymentMethod</th>\n",
       "      <th>MonthlyCharges</th>\n",
       "      <th>TotalCharges</th>\n",
       "      <th>Churn</th>\n",
       "      <th>gender</th>\n",
       "      <th>SeniorCitizen</th>\n",
       "      <th>Partner</th>\n",
       "      <th>Dependents</th>\n",
       "    </tr>\n",
       "  </thead>\n",
       "  <tbody>\n",
       "    <tr>\n",
       "      <th>0</th>\n",
       "      <td>7590-VHVEG</td>\n",
       "      <td>1</td>\n",
       "      <td>No</td>\n",
       "      <td>Month-to-month</td>\n",
       "      <td>Yes</td>\n",
       "      <td>Electronic check</td>\n",
       "      <td>29.85</td>\n",
       "      <td>29.85</td>\n",
       "      <td>No</td>\n",
       "      <td>Female</td>\n",
       "      <td>0</td>\n",
       "      <td>Yes</td>\n",
       "      <td>No</td>\n",
       "    </tr>\n",
       "    <tr>\n",
       "      <th>1</th>\n",
       "      <td>5575-GNVDE</td>\n",
       "      <td>34</td>\n",
       "      <td>Yes</td>\n",
       "      <td>One year</td>\n",
       "      <td>No</td>\n",
       "      <td>Mailed check</td>\n",
       "      <td>56.95</td>\n",
       "      <td>1889.5</td>\n",
       "      <td>No</td>\n",
       "      <td>Male</td>\n",
       "      <td>0</td>\n",
       "      <td>No</td>\n",
       "      <td>No</td>\n",
       "    </tr>\n",
       "    <tr>\n",
       "      <th>2</th>\n",
       "      <td>3668-QPYBK</td>\n",
       "      <td>2</td>\n",
       "      <td>Yes</td>\n",
       "      <td>Month-to-month</td>\n",
       "      <td>Yes</td>\n",
       "      <td>Mailed check</td>\n",
       "      <td>53.85</td>\n",
       "      <td>108.15</td>\n",
       "      <td>Yes</td>\n",
       "      <td>Male</td>\n",
       "      <td>0</td>\n",
       "      <td>No</td>\n",
       "      <td>No</td>\n",
       "    </tr>\n",
       "    <tr>\n",
       "      <th>3</th>\n",
       "      <td>7795-CFOCW</td>\n",
       "      <td>45</td>\n",
       "      <td>No</td>\n",
       "      <td>One year</td>\n",
       "      <td>No</td>\n",
       "      <td>Bank transfer (automatic)</td>\n",
       "      <td>42.30</td>\n",
       "      <td>1840.75</td>\n",
       "      <td>No</td>\n",
       "      <td>Male</td>\n",
       "      <td>0</td>\n",
       "      <td>No</td>\n",
       "      <td>No</td>\n",
       "    </tr>\n",
       "    <tr>\n",
       "      <th>4</th>\n",
       "      <td>9237-HQITU</td>\n",
       "      <td>2</td>\n",
       "      <td>Yes</td>\n",
       "      <td>Month-to-month</td>\n",
       "      <td>Yes</td>\n",
       "      <td>Electronic check</td>\n",
       "      <td>70.70</td>\n",
       "      <td>151.65</td>\n",
       "      <td>Yes</td>\n",
       "      <td>Female</td>\n",
       "      <td>0</td>\n",
       "      <td>No</td>\n",
       "      <td>No</td>\n",
       "    </tr>\n",
       "  </tbody>\n",
       "</table>\n",
       "</div>"
      ],
      "text/plain": [
       "   customerID  tenure PhoneService        Contract PaperlessBilling  \\\n",
       "0  7590-VHVEG       1           No  Month-to-month              Yes   \n",
       "1  5575-GNVDE      34          Yes        One year               No   \n",
       "2  3668-QPYBK       2          Yes  Month-to-month              Yes   \n",
       "3  7795-CFOCW      45           No        One year               No   \n",
       "4  9237-HQITU       2          Yes  Month-to-month              Yes   \n",
       "\n",
       "               PaymentMethod  MonthlyCharges TotalCharges Churn  gender  \\\n",
       "0           Electronic check           29.85        29.85    No  Female   \n",
       "1               Mailed check           56.95       1889.5    No    Male   \n",
       "2               Mailed check           53.85       108.15   Yes    Male   \n",
       "3  Bank transfer (automatic)           42.30      1840.75    No    Male   \n",
       "4           Electronic check           70.70       151.65   Yes  Female   \n",
       "\n",
       "   SeniorCitizen Partner Dependents  \n",
       "0              0     Yes         No  \n",
       "1              0      No         No  \n",
       "2              0      No         No  \n",
       "3              0      No         No  \n",
       "4              0      No         No  "
      ]
     },
     "execution_count": 10,
     "metadata": {},
     "output_type": "execute_result"
    }
   ],
   "source": [
    "tmp_df1.head() "
   ]
  },
  {
   "cell_type": "code",
   "execution_count": 11,
   "id": "e1960442",
   "metadata": {},
   "outputs": [],
   "source": [
    "telecom = pd.merge(tmp_df1, internet_data, how='inner', on='customerID')"
   ]
  },
  {
   "cell_type": "code",
   "execution_count": 12,
   "id": "ac0b9361",
   "metadata": {},
   "outputs": [
    {
     "data": {
      "text/html": [
       "<div>\n",
       "<style scoped>\n",
       "    .dataframe tbody tr th:only-of-type {\n",
       "        vertical-align: middle;\n",
       "    }\n",
       "\n",
       "    .dataframe tbody tr th {\n",
       "        vertical-align: top;\n",
       "    }\n",
       "\n",
       "    .dataframe thead th {\n",
       "        text-align: right;\n",
       "    }\n",
       "</style>\n",
       "<table border=\"1\" class=\"dataframe\">\n",
       "  <thead>\n",
       "    <tr style=\"text-align: right;\">\n",
       "      <th></th>\n",
       "      <th>customerID</th>\n",
       "      <th>tenure</th>\n",
       "      <th>PhoneService</th>\n",
       "      <th>Contract</th>\n",
       "      <th>PaperlessBilling</th>\n",
       "      <th>PaymentMethod</th>\n",
       "      <th>MonthlyCharges</th>\n",
       "      <th>TotalCharges</th>\n",
       "      <th>Churn</th>\n",
       "      <th>gender</th>\n",
       "      <th>...</th>\n",
       "      <th>Partner</th>\n",
       "      <th>Dependents</th>\n",
       "      <th>MultipleLines</th>\n",
       "      <th>InternetService</th>\n",
       "      <th>OnlineSecurity</th>\n",
       "      <th>OnlineBackup</th>\n",
       "      <th>DeviceProtection</th>\n",
       "      <th>TechSupport</th>\n",
       "      <th>StreamingTV</th>\n",
       "      <th>StreamingMovies</th>\n",
       "    </tr>\n",
       "  </thead>\n",
       "  <tbody>\n",
       "    <tr>\n",
       "      <th>0</th>\n",
       "      <td>7590-VHVEG</td>\n",
       "      <td>1</td>\n",
       "      <td>No</td>\n",
       "      <td>Month-to-month</td>\n",
       "      <td>Yes</td>\n",
       "      <td>Electronic check</td>\n",
       "      <td>29.85</td>\n",
       "      <td>29.85</td>\n",
       "      <td>No</td>\n",
       "      <td>Female</td>\n",
       "      <td>...</td>\n",
       "      <td>Yes</td>\n",
       "      <td>No</td>\n",
       "      <td>No phone service</td>\n",
       "      <td>DSL</td>\n",
       "      <td>No</td>\n",
       "      <td>Yes</td>\n",
       "      <td>No</td>\n",
       "      <td>No</td>\n",
       "      <td>No</td>\n",
       "      <td>No</td>\n",
       "    </tr>\n",
       "    <tr>\n",
       "      <th>1</th>\n",
       "      <td>5575-GNVDE</td>\n",
       "      <td>34</td>\n",
       "      <td>Yes</td>\n",
       "      <td>One year</td>\n",
       "      <td>No</td>\n",
       "      <td>Mailed check</td>\n",
       "      <td>56.95</td>\n",
       "      <td>1889.5</td>\n",
       "      <td>No</td>\n",
       "      <td>Male</td>\n",
       "      <td>...</td>\n",
       "      <td>No</td>\n",
       "      <td>No</td>\n",
       "      <td>No</td>\n",
       "      <td>DSL</td>\n",
       "      <td>Yes</td>\n",
       "      <td>No</td>\n",
       "      <td>Yes</td>\n",
       "      <td>No</td>\n",
       "      <td>No</td>\n",
       "      <td>No</td>\n",
       "    </tr>\n",
       "    <tr>\n",
       "      <th>2</th>\n",
       "      <td>3668-QPYBK</td>\n",
       "      <td>2</td>\n",
       "      <td>Yes</td>\n",
       "      <td>Month-to-month</td>\n",
       "      <td>Yes</td>\n",
       "      <td>Mailed check</td>\n",
       "      <td>53.85</td>\n",
       "      <td>108.15</td>\n",
       "      <td>Yes</td>\n",
       "      <td>Male</td>\n",
       "      <td>...</td>\n",
       "      <td>No</td>\n",
       "      <td>No</td>\n",
       "      <td>No</td>\n",
       "      <td>DSL</td>\n",
       "      <td>Yes</td>\n",
       "      <td>Yes</td>\n",
       "      <td>No</td>\n",
       "      <td>No</td>\n",
       "      <td>No</td>\n",
       "      <td>No</td>\n",
       "    </tr>\n",
       "    <tr>\n",
       "      <th>3</th>\n",
       "      <td>7795-CFOCW</td>\n",
       "      <td>45</td>\n",
       "      <td>No</td>\n",
       "      <td>One year</td>\n",
       "      <td>No</td>\n",
       "      <td>Bank transfer (automatic)</td>\n",
       "      <td>42.30</td>\n",
       "      <td>1840.75</td>\n",
       "      <td>No</td>\n",
       "      <td>Male</td>\n",
       "      <td>...</td>\n",
       "      <td>No</td>\n",
       "      <td>No</td>\n",
       "      <td>No phone service</td>\n",
       "      <td>DSL</td>\n",
       "      <td>Yes</td>\n",
       "      <td>No</td>\n",
       "      <td>Yes</td>\n",
       "      <td>Yes</td>\n",
       "      <td>No</td>\n",
       "      <td>No</td>\n",
       "    </tr>\n",
       "    <tr>\n",
       "      <th>4</th>\n",
       "      <td>9237-HQITU</td>\n",
       "      <td>2</td>\n",
       "      <td>Yes</td>\n",
       "      <td>Month-to-month</td>\n",
       "      <td>Yes</td>\n",
       "      <td>Electronic check</td>\n",
       "      <td>70.70</td>\n",
       "      <td>151.65</td>\n",
       "      <td>Yes</td>\n",
       "      <td>Female</td>\n",
       "      <td>...</td>\n",
       "      <td>No</td>\n",
       "      <td>No</td>\n",
       "      <td>No</td>\n",
       "      <td>Fiber optic</td>\n",
       "      <td>No</td>\n",
       "      <td>No</td>\n",
       "      <td>No</td>\n",
       "      <td>No</td>\n",
       "      <td>No</td>\n",
       "      <td>No</td>\n",
       "    </tr>\n",
       "  </tbody>\n",
       "</table>\n",
       "<p>5 rows × 21 columns</p>\n",
       "</div>"
      ],
      "text/plain": [
       "   customerID  tenure PhoneService        Contract PaperlessBilling  \\\n",
       "0  7590-VHVEG       1           No  Month-to-month              Yes   \n",
       "1  5575-GNVDE      34          Yes        One year               No   \n",
       "2  3668-QPYBK       2          Yes  Month-to-month              Yes   \n",
       "3  7795-CFOCW      45           No        One year               No   \n",
       "4  9237-HQITU       2          Yes  Month-to-month              Yes   \n",
       "\n",
       "               PaymentMethod  MonthlyCharges TotalCharges Churn  gender  ...  \\\n",
       "0           Electronic check           29.85        29.85    No  Female  ...   \n",
       "1               Mailed check           56.95       1889.5    No    Male  ...   \n",
       "2               Mailed check           53.85       108.15   Yes    Male  ...   \n",
       "3  Bank transfer (automatic)           42.30      1840.75    No    Male  ...   \n",
       "4           Electronic check           70.70       151.65   Yes  Female  ...   \n",
       "\n",
       "   Partner Dependents     MultipleLines InternetService OnlineSecurity  \\\n",
       "0      Yes         No  No phone service             DSL             No   \n",
       "1       No         No                No             DSL            Yes   \n",
       "2       No         No                No             DSL            Yes   \n",
       "3       No         No  No phone service             DSL            Yes   \n",
       "4       No         No                No     Fiber optic             No   \n",
       "\n",
       "  OnlineBackup DeviceProtection TechSupport StreamingTV StreamingMovies  \n",
       "0          Yes               No          No          No              No  \n",
       "1           No              Yes          No          No              No  \n",
       "2          Yes               No          No          No              No  \n",
       "3           No              Yes         Yes          No              No  \n",
       "4           No               No          No          No              No  \n",
       "\n",
       "[5 rows x 21 columns]"
      ]
     },
     "execution_count": 12,
     "metadata": {},
     "output_type": "execute_result"
    }
   ],
   "source": [
    "telecom.head()"
   ]
  },
  {
   "cell_type": "markdown",
   "id": "eff336d2",
   "metadata": {},
   "source": [
    "- telecom dataframe is consolidated dataframe with all required information."
   ]
  },
  {
   "cell_type": "markdown",
   "id": "d3bc59d8",
   "metadata": {},
   "source": [
    "### Inspecting merged datafram"
   ]
  },
  {
   "cell_type": "code",
   "execution_count": 13,
   "id": "c7dd867d",
   "metadata": {},
   "outputs": [
    {
     "data": {
      "text/plain": [
       "(7043, 21)"
      ]
     },
     "execution_count": 13,
     "metadata": {},
     "output_type": "execute_result"
    }
   ],
   "source": [
    "telecom.shape  #It has 7043 data points with 21 features including target variable."
   ]
  },
  {
   "cell_type": "code",
   "execution_count": 14,
   "id": "b1eebb49",
   "metadata": {},
   "outputs": [
    {
     "data": {
      "text/html": [
       "<div>\n",
       "<style scoped>\n",
       "    .dataframe tbody tr th:only-of-type {\n",
       "        vertical-align: middle;\n",
       "    }\n",
       "\n",
       "    .dataframe tbody tr th {\n",
       "        vertical-align: top;\n",
       "    }\n",
       "\n",
       "    .dataframe thead th {\n",
       "        text-align: right;\n",
       "    }\n",
       "</style>\n",
       "<table border=\"1\" class=\"dataframe\">\n",
       "  <thead>\n",
       "    <tr style=\"text-align: right;\">\n",
       "      <th></th>\n",
       "      <th>tenure</th>\n",
       "      <th>MonthlyCharges</th>\n",
       "      <th>SeniorCitizen</th>\n",
       "    </tr>\n",
       "  </thead>\n",
       "  <tbody>\n",
       "    <tr>\n",
       "      <th>count</th>\n",
       "      <td>7043.000000</td>\n",
       "      <td>7043.000000</td>\n",
       "      <td>7043.000000</td>\n",
       "    </tr>\n",
       "    <tr>\n",
       "      <th>mean</th>\n",
       "      <td>32.371149</td>\n",
       "      <td>64.761692</td>\n",
       "      <td>0.162147</td>\n",
       "    </tr>\n",
       "    <tr>\n",
       "      <th>std</th>\n",
       "      <td>24.559481</td>\n",
       "      <td>30.090047</td>\n",
       "      <td>0.368612</td>\n",
       "    </tr>\n",
       "    <tr>\n",
       "      <th>min</th>\n",
       "      <td>0.000000</td>\n",
       "      <td>18.250000</td>\n",
       "      <td>0.000000</td>\n",
       "    </tr>\n",
       "    <tr>\n",
       "      <th>25%</th>\n",
       "      <td>9.000000</td>\n",
       "      <td>35.500000</td>\n",
       "      <td>0.000000</td>\n",
       "    </tr>\n",
       "    <tr>\n",
       "      <th>50%</th>\n",
       "      <td>29.000000</td>\n",
       "      <td>70.350000</td>\n",
       "      <td>0.000000</td>\n",
       "    </tr>\n",
       "    <tr>\n",
       "      <th>75%</th>\n",
       "      <td>55.000000</td>\n",
       "      <td>89.850000</td>\n",
       "      <td>0.000000</td>\n",
       "    </tr>\n",
       "    <tr>\n",
       "      <th>max</th>\n",
       "      <td>72.000000</td>\n",
       "      <td>118.750000</td>\n",
       "      <td>1.000000</td>\n",
       "    </tr>\n",
       "  </tbody>\n",
       "</table>\n",
       "</div>"
      ],
      "text/plain": [
       "            tenure  MonthlyCharges  SeniorCitizen\n",
       "count  7043.000000     7043.000000    7043.000000\n",
       "mean     32.371149       64.761692       0.162147\n",
       "std      24.559481       30.090047       0.368612\n",
       "min       0.000000       18.250000       0.000000\n",
       "25%       9.000000       35.500000       0.000000\n",
       "50%      29.000000       70.350000       0.000000\n",
       "75%      55.000000       89.850000       0.000000\n",
       "max      72.000000      118.750000       1.000000"
      ]
     },
     "execution_count": 14,
     "metadata": {},
     "output_type": "execute_result"
    }
   ],
   "source": [
    "#Lets check the statistical summary of dataset.\n",
    "telecom.describe()"
   ]
  },
  {
   "cell_type": "markdown",
   "id": "455fb2db",
   "metadata": {},
   "source": [
    "- This show statistical summary of 3 columns only, as out of 21 columns, only three columns are numeric in nature. And, we know statstic work on numerical varibales only not on categorical variable.  "
   ]
  },
  {
   "cell_type": "code",
   "execution_count": 15,
   "id": "a9d72fc5",
   "metadata": {},
   "outputs": [
    {
     "name": "stdout",
     "output_type": "stream",
     "text": [
      "<class 'pandas.core.frame.DataFrame'>\n",
      "Int64Index: 7043 entries, 0 to 7042\n",
      "Data columns (total 21 columns):\n",
      " #   Column            Non-Null Count  Dtype  \n",
      "---  ------            --------------  -----  \n",
      " 0   customerID        7043 non-null   object \n",
      " 1   tenure            7043 non-null   int64  \n",
      " 2   PhoneService      7043 non-null   object \n",
      " 3   Contract          7043 non-null   object \n",
      " 4   PaperlessBilling  7043 non-null   object \n",
      " 5   PaymentMethod     7043 non-null   object \n",
      " 6   MonthlyCharges    7043 non-null   float64\n",
      " 7   TotalCharges      7043 non-null   object \n",
      " 8   Churn             7043 non-null   object \n",
      " 9   gender            7043 non-null   object \n",
      " 10  SeniorCitizen     7043 non-null   int64  \n",
      " 11  Partner           7043 non-null   object \n",
      " 12  Dependents        7043 non-null   object \n",
      " 13  MultipleLines     7043 non-null   object \n",
      " 14  InternetService   7043 non-null   object \n",
      " 15  OnlineSecurity    7043 non-null   object \n",
      " 16  OnlineBackup      7043 non-null   object \n",
      " 17  DeviceProtection  7043 non-null   object \n",
      " 18  TechSupport       7043 non-null   object \n",
      " 19  StreamingTV       7043 non-null   object \n",
      " 20  StreamingMovies   7043 non-null   object \n",
      "dtypes: float64(1), int64(2), object(18)\n",
      "memory usage: 1.2+ MB\n"
     ]
    }
   ],
   "source": [
    "telecom.info()"
   ]
  },
  {
   "cell_type": "markdown",
   "id": "cd0d3062",
   "metadata": {},
   "source": [
    "- Info shows same,i.e, tenure,  MonthlyCharges and SeniorCitizen columns are numeric.\n",
    "- Also, there are no columns with null value. "
   ]
  },
  {
   "cell_type": "markdown",
   "id": "02315547",
   "metadata": {},
   "source": [
    "#### Data Preparation \n",
    "- Converting columns with Yes/No to 1/0 "
   ]
  },
  {
   "cell_type": "code",
   "execution_count": 16,
   "id": "ff33cf1b",
   "metadata": {},
   "outputs": [
    {
     "data": {
      "text/html": [
       "<div>\n",
       "<style scoped>\n",
       "    .dataframe tbody tr th:only-of-type {\n",
       "        vertical-align: middle;\n",
       "    }\n",
       "\n",
       "    .dataframe tbody tr th {\n",
       "        vertical-align: top;\n",
       "    }\n",
       "\n",
       "    .dataframe thead th {\n",
       "        text-align: right;\n",
       "    }\n",
       "</style>\n",
       "<table border=\"1\" class=\"dataframe\">\n",
       "  <thead>\n",
       "    <tr style=\"text-align: right;\">\n",
       "      <th></th>\n",
       "      <th>customerID</th>\n",
       "      <th>tenure</th>\n",
       "      <th>PhoneService</th>\n",
       "      <th>Contract</th>\n",
       "      <th>PaperlessBilling</th>\n",
       "      <th>PaymentMethod</th>\n",
       "      <th>MonthlyCharges</th>\n",
       "      <th>TotalCharges</th>\n",
       "      <th>Churn</th>\n",
       "      <th>gender</th>\n",
       "      <th>SeniorCitizen</th>\n",
       "      <th>Partner</th>\n",
       "      <th>Dependents</th>\n",
       "      <th>MultipleLines</th>\n",
       "      <th>InternetService</th>\n",
       "      <th>OnlineSecurity</th>\n",
       "      <th>OnlineBackup</th>\n",
       "      <th>DeviceProtection</th>\n",
       "      <th>TechSupport</th>\n",
       "      <th>StreamingTV</th>\n",
       "      <th>StreamingMovies</th>\n",
       "    </tr>\n",
       "  </thead>\n",
       "  <tbody>\n",
       "    <tr>\n",
       "      <th>0</th>\n",
       "      <td>7590-VHVEG</td>\n",
       "      <td>1</td>\n",
       "      <td>No</td>\n",
       "      <td>Month-to-month</td>\n",
       "      <td>Yes</td>\n",
       "      <td>Electronic check</td>\n",
       "      <td>29.85</td>\n",
       "      <td>29.85</td>\n",
       "      <td>No</td>\n",
       "      <td>Female</td>\n",
       "      <td>0</td>\n",
       "      <td>Yes</td>\n",
       "      <td>No</td>\n",
       "      <td>No phone service</td>\n",
       "      <td>DSL</td>\n",
       "      <td>No</td>\n",
       "      <td>Yes</td>\n",
       "      <td>No</td>\n",
       "      <td>No</td>\n",
       "      <td>No</td>\n",
       "      <td>No</td>\n",
       "    </tr>\n",
       "    <tr>\n",
       "      <th>1</th>\n",
       "      <td>5575-GNVDE</td>\n",
       "      <td>34</td>\n",
       "      <td>Yes</td>\n",
       "      <td>One year</td>\n",
       "      <td>No</td>\n",
       "      <td>Mailed check</td>\n",
       "      <td>56.95</td>\n",
       "      <td>1889.5</td>\n",
       "      <td>No</td>\n",
       "      <td>Male</td>\n",
       "      <td>0</td>\n",
       "      <td>No</td>\n",
       "      <td>No</td>\n",
       "      <td>No</td>\n",
       "      <td>DSL</td>\n",
       "      <td>Yes</td>\n",
       "      <td>No</td>\n",
       "      <td>Yes</td>\n",
       "      <td>No</td>\n",
       "      <td>No</td>\n",
       "      <td>No</td>\n",
       "    </tr>\n",
       "    <tr>\n",
       "      <th>2</th>\n",
       "      <td>3668-QPYBK</td>\n",
       "      <td>2</td>\n",
       "      <td>Yes</td>\n",
       "      <td>Month-to-month</td>\n",
       "      <td>Yes</td>\n",
       "      <td>Mailed check</td>\n",
       "      <td>53.85</td>\n",
       "      <td>108.15</td>\n",
       "      <td>Yes</td>\n",
       "      <td>Male</td>\n",
       "      <td>0</td>\n",
       "      <td>No</td>\n",
       "      <td>No</td>\n",
       "      <td>No</td>\n",
       "      <td>DSL</td>\n",
       "      <td>Yes</td>\n",
       "      <td>Yes</td>\n",
       "      <td>No</td>\n",
       "      <td>No</td>\n",
       "      <td>No</td>\n",
       "      <td>No</td>\n",
       "    </tr>\n",
       "    <tr>\n",
       "      <th>3</th>\n",
       "      <td>7795-CFOCW</td>\n",
       "      <td>45</td>\n",
       "      <td>No</td>\n",
       "      <td>One year</td>\n",
       "      <td>No</td>\n",
       "      <td>Bank transfer (automatic)</td>\n",
       "      <td>42.30</td>\n",
       "      <td>1840.75</td>\n",
       "      <td>No</td>\n",
       "      <td>Male</td>\n",
       "      <td>0</td>\n",
       "      <td>No</td>\n",
       "      <td>No</td>\n",
       "      <td>No phone service</td>\n",
       "      <td>DSL</td>\n",
       "      <td>Yes</td>\n",
       "      <td>No</td>\n",
       "      <td>Yes</td>\n",
       "      <td>Yes</td>\n",
       "      <td>No</td>\n",
       "      <td>No</td>\n",
       "    </tr>\n",
       "    <tr>\n",
       "      <th>4</th>\n",
       "      <td>9237-HQITU</td>\n",
       "      <td>2</td>\n",
       "      <td>Yes</td>\n",
       "      <td>Month-to-month</td>\n",
       "      <td>Yes</td>\n",
       "      <td>Electronic check</td>\n",
       "      <td>70.70</td>\n",
       "      <td>151.65</td>\n",
       "      <td>Yes</td>\n",
       "      <td>Female</td>\n",
       "      <td>0</td>\n",
       "      <td>No</td>\n",
       "      <td>No</td>\n",
       "      <td>No</td>\n",
       "      <td>Fiber optic</td>\n",
       "      <td>No</td>\n",
       "      <td>No</td>\n",
       "      <td>No</td>\n",
       "      <td>No</td>\n",
       "      <td>No</td>\n",
       "      <td>No</td>\n",
       "    </tr>\n",
       "  </tbody>\n",
       "</table>\n",
       "</div>"
      ],
      "text/plain": [
       "   customerID  tenure PhoneService        Contract PaperlessBilling  \\\n",
       "0  7590-VHVEG       1           No  Month-to-month              Yes   \n",
       "1  5575-GNVDE      34          Yes        One year               No   \n",
       "2  3668-QPYBK       2          Yes  Month-to-month              Yes   \n",
       "3  7795-CFOCW      45           No        One year               No   \n",
       "4  9237-HQITU       2          Yes  Month-to-month              Yes   \n",
       "\n",
       "               PaymentMethod  MonthlyCharges TotalCharges Churn  gender  \\\n",
       "0           Electronic check           29.85        29.85    No  Female   \n",
       "1               Mailed check           56.95       1889.5    No    Male   \n",
       "2               Mailed check           53.85       108.15   Yes    Male   \n",
       "3  Bank transfer (automatic)           42.30      1840.75    No    Male   \n",
       "4           Electronic check           70.70       151.65   Yes  Female   \n",
       "\n",
       "   SeniorCitizen Partner Dependents     MultipleLines InternetService  \\\n",
       "0              0     Yes         No  No phone service             DSL   \n",
       "1              0      No         No                No             DSL   \n",
       "2              0      No         No                No             DSL   \n",
       "3              0      No         No  No phone service             DSL   \n",
       "4              0      No         No                No     Fiber optic   \n",
       "\n",
       "  OnlineSecurity OnlineBackup DeviceProtection TechSupport StreamingTV  \\\n",
       "0             No          Yes               No          No          No   \n",
       "1            Yes           No              Yes          No          No   \n",
       "2            Yes          Yes               No          No          No   \n",
       "3            Yes           No              Yes         Yes          No   \n",
       "4             No           No               No          No          No   \n",
       "\n",
       "  StreamingMovies  \n",
       "0              No  \n",
       "1              No  \n",
       "2              No  \n",
       "3              No  \n",
       "4              No  "
      ]
     },
     "execution_count": 16,
     "metadata": {},
     "output_type": "execute_result"
    }
   ],
   "source": [
    "#Get columns with only Yes and No as values\n",
    "pd.options.display.max_columns = None\n",
    "telecom.head()"
   ]
  },
  {
   "cell_type": "code",
   "execution_count": 17,
   "id": "90dfb4c6",
   "metadata": {},
   "outputs": [
    {
     "data": {
      "text/plain": [
       "customerID          7043\n",
       "tenure                73\n",
       "PhoneService           2\n",
       "Contract               3\n",
       "PaperlessBilling       2\n",
       "PaymentMethod          4\n",
       "MonthlyCharges      1585\n",
       "TotalCharges        6531\n",
       "Churn                  2\n",
       "gender                 2\n",
       "SeniorCitizen          2\n",
       "Partner                2\n",
       "Dependents             2\n",
       "MultipleLines          3\n",
       "InternetService        3\n",
       "OnlineSecurity         3\n",
       "OnlineBackup           3\n",
       "DeviceProtection       3\n",
       "TechSupport            3\n",
       "StreamingTV            3\n",
       "StreamingMovies        3\n",
       "dtype: int64"
      ]
     },
     "execution_count": 17,
     "metadata": {},
     "output_type": "execute_result"
    }
   ],
   "source": [
    "telecom.nunique(axis=0)"
   ]
  },
  {
   "cell_type": "code",
   "execution_count": 18,
   "id": "a48e7c1a",
   "metadata": {},
   "outputs": [],
   "source": [
    "#Columns with just Yes/No values\n",
    "col_names = ['PhoneService','PaperlessBilling','Churn','Partner','Dependents']"
   ]
  },
  {
   "cell_type": "markdown",
   "id": "e02763d6",
   "metadata": {},
   "source": [
    "- Use lambda function to convert all Yes to 1 and No to 0\n",
    "- Here we have not taken Senior Citizen as it is already in numeric form and Gender is Male/Female and not Yes/No"
   ]
  },
  {
   "cell_type": "code",
   "execution_count": 19,
   "id": "9ee1244c",
   "metadata": {},
   "outputs": [],
   "source": [
    "telecom[col_names] = telecom[col_names].apply(lambda x : x.map({'Yes': 1, 'No': 0}))"
   ]
  },
  {
   "cell_type": "code",
   "execution_count": 20,
   "id": "20b7ed29",
   "metadata": {},
   "outputs": [
    {
     "data": {
      "text/html": [
       "<div>\n",
       "<style scoped>\n",
       "    .dataframe tbody tr th:only-of-type {\n",
       "        vertical-align: middle;\n",
       "    }\n",
       "\n",
       "    .dataframe tbody tr th {\n",
       "        vertical-align: top;\n",
       "    }\n",
       "\n",
       "    .dataframe thead th {\n",
       "        text-align: right;\n",
       "    }\n",
       "</style>\n",
       "<table border=\"1\" class=\"dataframe\">\n",
       "  <thead>\n",
       "    <tr style=\"text-align: right;\">\n",
       "      <th></th>\n",
       "      <th>customerID</th>\n",
       "      <th>tenure</th>\n",
       "      <th>PhoneService</th>\n",
       "      <th>Contract</th>\n",
       "      <th>PaperlessBilling</th>\n",
       "      <th>PaymentMethod</th>\n",
       "      <th>MonthlyCharges</th>\n",
       "      <th>TotalCharges</th>\n",
       "      <th>Churn</th>\n",
       "      <th>gender</th>\n",
       "      <th>SeniorCitizen</th>\n",
       "      <th>Partner</th>\n",
       "      <th>Dependents</th>\n",
       "      <th>MultipleLines</th>\n",
       "      <th>InternetService</th>\n",
       "      <th>OnlineSecurity</th>\n",
       "      <th>OnlineBackup</th>\n",
       "      <th>DeviceProtection</th>\n",
       "      <th>TechSupport</th>\n",
       "      <th>StreamingTV</th>\n",
       "      <th>StreamingMovies</th>\n",
       "    </tr>\n",
       "  </thead>\n",
       "  <tbody>\n",
       "    <tr>\n",
       "      <th>0</th>\n",
       "      <td>7590-VHVEG</td>\n",
       "      <td>1</td>\n",
       "      <td>0</td>\n",
       "      <td>Month-to-month</td>\n",
       "      <td>1</td>\n",
       "      <td>Electronic check</td>\n",
       "      <td>29.85</td>\n",
       "      <td>29.85</td>\n",
       "      <td>0</td>\n",
       "      <td>Female</td>\n",
       "      <td>0</td>\n",
       "      <td>1</td>\n",
       "      <td>0</td>\n",
       "      <td>No phone service</td>\n",
       "      <td>DSL</td>\n",
       "      <td>No</td>\n",
       "      <td>Yes</td>\n",
       "      <td>No</td>\n",
       "      <td>No</td>\n",
       "      <td>No</td>\n",
       "      <td>No</td>\n",
       "    </tr>\n",
       "    <tr>\n",
       "      <th>1</th>\n",
       "      <td>5575-GNVDE</td>\n",
       "      <td>34</td>\n",
       "      <td>1</td>\n",
       "      <td>One year</td>\n",
       "      <td>0</td>\n",
       "      <td>Mailed check</td>\n",
       "      <td>56.95</td>\n",
       "      <td>1889.5</td>\n",
       "      <td>0</td>\n",
       "      <td>Male</td>\n",
       "      <td>0</td>\n",
       "      <td>0</td>\n",
       "      <td>0</td>\n",
       "      <td>No</td>\n",
       "      <td>DSL</td>\n",
       "      <td>Yes</td>\n",
       "      <td>No</td>\n",
       "      <td>Yes</td>\n",
       "      <td>No</td>\n",
       "      <td>No</td>\n",
       "      <td>No</td>\n",
       "    </tr>\n",
       "    <tr>\n",
       "      <th>2</th>\n",
       "      <td>3668-QPYBK</td>\n",
       "      <td>2</td>\n",
       "      <td>1</td>\n",
       "      <td>Month-to-month</td>\n",
       "      <td>1</td>\n",
       "      <td>Mailed check</td>\n",
       "      <td>53.85</td>\n",
       "      <td>108.15</td>\n",
       "      <td>1</td>\n",
       "      <td>Male</td>\n",
       "      <td>0</td>\n",
       "      <td>0</td>\n",
       "      <td>0</td>\n",
       "      <td>No</td>\n",
       "      <td>DSL</td>\n",
       "      <td>Yes</td>\n",
       "      <td>Yes</td>\n",
       "      <td>No</td>\n",
       "      <td>No</td>\n",
       "      <td>No</td>\n",
       "      <td>No</td>\n",
       "    </tr>\n",
       "    <tr>\n",
       "      <th>3</th>\n",
       "      <td>7795-CFOCW</td>\n",
       "      <td>45</td>\n",
       "      <td>0</td>\n",
       "      <td>One year</td>\n",
       "      <td>0</td>\n",
       "      <td>Bank transfer (automatic)</td>\n",
       "      <td>42.30</td>\n",
       "      <td>1840.75</td>\n",
       "      <td>0</td>\n",
       "      <td>Male</td>\n",
       "      <td>0</td>\n",
       "      <td>0</td>\n",
       "      <td>0</td>\n",
       "      <td>No phone service</td>\n",
       "      <td>DSL</td>\n",
       "      <td>Yes</td>\n",
       "      <td>No</td>\n",
       "      <td>Yes</td>\n",
       "      <td>Yes</td>\n",
       "      <td>No</td>\n",
       "      <td>No</td>\n",
       "    </tr>\n",
       "    <tr>\n",
       "      <th>4</th>\n",
       "      <td>9237-HQITU</td>\n",
       "      <td>2</td>\n",
       "      <td>1</td>\n",
       "      <td>Month-to-month</td>\n",
       "      <td>1</td>\n",
       "      <td>Electronic check</td>\n",
       "      <td>70.70</td>\n",
       "      <td>151.65</td>\n",
       "      <td>1</td>\n",
       "      <td>Female</td>\n",
       "      <td>0</td>\n",
       "      <td>0</td>\n",
       "      <td>0</td>\n",
       "      <td>No</td>\n",
       "      <td>Fiber optic</td>\n",
       "      <td>No</td>\n",
       "      <td>No</td>\n",
       "      <td>No</td>\n",
       "      <td>No</td>\n",
       "      <td>No</td>\n",
       "      <td>No</td>\n",
       "    </tr>\n",
       "  </tbody>\n",
       "</table>\n",
       "</div>"
      ],
      "text/plain": [
       "   customerID  tenure  PhoneService        Contract  PaperlessBilling  \\\n",
       "0  7590-VHVEG       1             0  Month-to-month                 1   \n",
       "1  5575-GNVDE      34             1        One year                 0   \n",
       "2  3668-QPYBK       2             1  Month-to-month                 1   \n",
       "3  7795-CFOCW      45             0        One year                 0   \n",
       "4  9237-HQITU       2             1  Month-to-month                 1   \n",
       "\n",
       "               PaymentMethod  MonthlyCharges TotalCharges  Churn  gender  \\\n",
       "0           Electronic check           29.85        29.85      0  Female   \n",
       "1               Mailed check           56.95       1889.5      0    Male   \n",
       "2               Mailed check           53.85       108.15      1    Male   \n",
       "3  Bank transfer (automatic)           42.30      1840.75      0    Male   \n",
       "4           Electronic check           70.70       151.65      1  Female   \n",
       "\n",
       "   SeniorCitizen  Partner  Dependents     MultipleLines InternetService  \\\n",
       "0              0        1           0  No phone service             DSL   \n",
       "1              0        0           0                No             DSL   \n",
       "2              0        0           0                No             DSL   \n",
       "3              0        0           0  No phone service             DSL   \n",
       "4              0        0           0                No     Fiber optic   \n",
       "\n",
       "  OnlineSecurity OnlineBackup DeviceProtection TechSupport StreamingTV  \\\n",
       "0             No          Yes               No          No          No   \n",
       "1            Yes           No              Yes          No          No   \n",
       "2            Yes          Yes               No          No          No   \n",
       "3            Yes           No              Yes         Yes          No   \n",
       "4             No           No               No          No          No   \n",
       "\n",
       "  StreamingMovies  \n",
       "0              No  \n",
       "1              No  \n",
       "2              No  \n",
       "3              No  \n",
       "4              No  "
      ]
     },
     "execution_count": 20,
     "metadata": {},
     "output_type": "execute_result"
    }
   ],
   "source": [
    "telecom.head()"
   ]
  },
  {
   "cell_type": "code",
   "execution_count": 21,
   "id": "d1e0e47a",
   "metadata": {},
   "outputs": [
    {
     "data": {
      "text/plain": [
       "Month-to-month    3875\n",
       "Two year          1695\n",
       "One year          1473\n",
       "Name: Contract, dtype: int64"
      ]
     },
     "execution_count": 21,
     "metadata": {},
     "output_type": "execute_result"
    }
   ],
   "source": [
    "telecom.Contract.value_counts()"
   ]
  },
  {
   "cell_type": "code",
   "execution_count": 22,
   "id": "49006d53",
   "metadata": {},
   "outputs": [
    {
     "data": {
      "text/plain": [
       "Electronic check             2365\n",
       "Mailed check                 1612\n",
       "Bank transfer (automatic)    1544\n",
       "Credit card (automatic)      1522\n",
       "Name: PaymentMethod, dtype: int64"
      ]
     },
     "execution_count": 22,
     "metadata": {},
     "output_type": "execute_result"
    }
   ],
   "source": [
    "telecom.PaymentMethod.value_counts()"
   ]
  },
  {
   "cell_type": "code",
   "execution_count": 23,
   "id": "3f56f386",
   "metadata": {},
   "outputs": [
    {
     "data": {
      "text/plain": [
       "No                     3473\n",
       "Yes                    2044\n",
       "No internet service    1526\n",
       "Name: TechSupport, dtype: int64"
      ]
     },
     "execution_count": 23,
     "metadata": {},
     "output_type": "execute_result"
    }
   ],
   "source": [
    "telecom.TechSupport.value_counts()"
   ]
  },
  {
   "cell_type": "markdown",
   "id": "39c4295f",
   "metadata": {},
   "source": [
    "- For other categorical columns there are multiple values. \n",
    "- Hence, we will be using **Dummy Variable** method to convert categorical into Numeric"
   ]
  },
  {
   "cell_type": "markdown",
   "id": "0f4e4020",
   "metadata": {},
   "source": [
    "- Focus on features which has Dtypes as objects.\n",
    "- Excluding feature TotalCharges for now, it should be continuos."
   ]
  },
  {
   "cell_type": "code",
   "execution_count": 24,
   "id": "06ec73d4",
   "metadata": {},
   "outputs": [],
   "source": [
    "# list of features \n",
    "dummy_1 = ['Contract','PaymentMethod','InternetService','gender','MultipleLines','OnlineSecurity','OnlineBackup',\n",
    "           'DeviceProtection','TechSupport','StreamingTV','StreamingMovies']"
   ]
  },
  {
   "cell_type": "markdown",
   "id": "596cefa5",
   "metadata": {},
   "source": [
    "- Writing a function to convert categorical features into numeric using get_dummies \n",
    "- Also, by not dropping first column, instead column with longest length of its name"
   ]
  },
  {
   "cell_type": "code",
   "execution_count": 25,
   "id": "fd488dc1",
   "metadata": {},
   "outputs": [],
   "source": [
    "def dummies_drop_maxlen_col(lst : list, df) :\n",
    "    \"\"\"\n",
    "    ****Prashik Bansod******\n",
    "    Two arguments :\n",
    "        1. List of columns names\n",
    "        2. Pandas dataframe\n",
    "    return : A dataframe with dummy variables without longest column name\n",
    "    \"\"\"\n",
    "    for i in lst:\n",
    "        i_tmp = pd.get_dummies(df[i],prefix=i)\n",
    "        final_nm = {}\n",
    "        for col_nm in i_tmp.columns:\n",
    "            final_nm[col_nm] = len(col_nm)\n",
    "        to_drop = max(final_nm, key=lambda x : final_nm[x])\n",
    "        i_tmp = i_tmp.drop([to_drop], axis = 1)\n",
    "        df = pd.concat([df,i_tmp], axis=1)\n",
    "    return df\n",
    "        "
   ]
  },
  {
   "cell_type": "code",
   "execution_count": 26,
   "id": "4b2051ce",
   "metadata": {},
   "outputs": [],
   "source": [
    "telecom = dummies_drop_maxlen_col(dummy_1, telecom)"
   ]
  },
  {
   "cell_type": "code",
   "execution_count": 27,
   "id": "d409ff15",
   "metadata": {},
   "outputs": [
    {
     "data": {
      "text/html": [
       "<div>\n",
       "<style scoped>\n",
       "    .dataframe tbody tr th:only-of-type {\n",
       "        vertical-align: middle;\n",
       "    }\n",
       "\n",
       "    .dataframe tbody tr th {\n",
       "        vertical-align: top;\n",
       "    }\n",
       "\n",
       "    .dataframe thead th {\n",
       "        text-align: right;\n",
       "    }\n",
       "</style>\n",
       "<table border=\"1\" class=\"dataframe\">\n",
       "  <thead>\n",
       "    <tr style=\"text-align: right;\">\n",
       "      <th></th>\n",
       "      <th>customerID</th>\n",
       "      <th>tenure</th>\n",
       "      <th>PhoneService</th>\n",
       "      <th>Contract</th>\n",
       "      <th>PaperlessBilling</th>\n",
       "      <th>PaymentMethod</th>\n",
       "      <th>MonthlyCharges</th>\n",
       "      <th>TotalCharges</th>\n",
       "      <th>Churn</th>\n",
       "      <th>gender</th>\n",
       "      <th>SeniorCitizen</th>\n",
       "      <th>Partner</th>\n",
       "      <th>Dependents</th>\n",
       "      <th>MultipleLines</th>\n",
       "      <th>InternetService</th>\n",
       "      <th>OnlineSecurity</th>\n",
       "      <th>OnlineBackup</th>\n",
       "      <th>DeviceProtection</th>\n",
       "      <th>TechSupport</th>\n",
       "      <th>StreamingTV</th>\n",
       "      <th>StreamingMovies</th>\n",
       "      <th>Contract_One year</th>\n",
       "      <th>Contract_Two year</th>\n",
       "      <th>PaymentMethod_Credit card (automatic)</th>\n",
       "      <th>PaymentMethod_Electronic check</th>\n",
       "      <th>PaymentMethod_Mailed check</th>\n",
       "      <th>InternetService_DSL</th>\n",
       "      <th>InternetService_No</th>\n",
       "      <th>gender_Male</th>\n",
       "      <th>MultipleLines_No</th>\n",
       "      <th>MultipleLines_Yes</th>\n",
       "      <th>OnlineSecurity_No</th>\n",
       "      <th>OnlineSecurity_Yes</th>\n",
       "      <th>OnlineBackup_No</th>\n",
       "      <th>OnlineBackup_Yes</th>\n",
       "      <th>DeviceProtection_No</th>\n",
       "      <th>DeviceProtection_Yes</th>\n",
       "      <th>TechSupport_No</th>\n",
       "      <th>TechSupport_Yes</th>\n",
       "      <th>StreamingTV_No</th>\n",
       "      <th>StreamingTV_Yes</th>\n",
       "      <th>StreamingMovies_No</th>\n",
       "      <th>StreamingMovies_Yes</th>\n",
       "    </tr>\n",
       "  </thead>\n",
       "  <tbody>\n",
       "    <tr>\n",
       "      <th>0</th>\n",
       "      <td>7590-VHVEG</td>\n",
       "      <td>1</td>\n",
       "      <td>0</td>\n",
       "      <td>Month-to-month</td>\n",
       "      <td>1</td>\n",
       "      <td>Electronic check</td>\n",
       "      <td>29.85</td>\n",
       "      <td>29.85</td>\n",
       "      <td>0</td>\n",
       "      <td>Female</td>\n",
       "      <td>0</td>\n",
       "      <td>1</td>\n",
       "      <td>0</td>\n",
       "      <td>No phone service</td>\n",
       "      <td>DSL</td>\n",
       "      <td>No</td>\n",
       "      <td>Yes</td>\n",
       "      <td>No</td>\n",
       "      <td>No</td>\n",
       "      <td>No</td>\n",
       "      <td>No</td>\n",
       "      <td>0</td>\n",
       "      <td>0</td>\n",
       "      <td>0</td>\n",
       "      <td>1</td>\n",
       "      <td>0</td>\n",
       "      <td>1</td>\n",
       "      <td>0</td>\n",
       "      <td>0</td>\n",
       "      <td>0</td>\n",
       "      <td>0</td>\n",
       "      <td>1</td>\n",
       "      <td>0</td>\n",
       "      <td>0</td>\n",
       "      <td>1</td>\n",
       "      <td>1</td>\n",
       "      <td>0</td>\n",
       "      <td>1</td>\n",
       "      <td>0</td>\n",
       "      <td>1</td>\n",
       "      <td>0</td>\n",
       "      <td>1</td>\n",
       "      <td>0</td>\n",
       "    </tr>\n",
       "    <tr>\n",
       "      <th>1</th>\n",
       "      <td>5575-GNVDE</td>\n",
       "      <td>34</td>\n",
       "      <td>1</td>\n",
       "      <td>One year</td>\n",
       "      <td>0</td>\n",
       "      <td>Mailed check</td>\n",
       "      <td>56.95</td>\n",
       "      <td>1889.5</td>\n",
       "      <td>0</td>\n",
       "      <td>Male</td>\n",
       "      <td>0</td>\n",
       "      <td>0</td>\n",
       "      <td>0</td>\n",
       "      <td>No</td>\n",
       "      <td>DSL</td>\n",
       "      <td>Yes</td>\n",
       "      <td>No</td>\n",
       "      <td>Yes</td>\n",
       "      <td>No</td>\n",
       "      <td>No</td>\n",
       "      <td>No</td>\n",
       "      <td>1</td>\n",
       "      <td>0</td>\n",
       "      <td>0</td>\n",
       "      <td>0</td>\n",
       "      <td>1</td>\n",
       "      <td>1</td>\n",
       "      <td>0</td>\n",
       "      <td>1</td>\n",
       "      <td>1</td>\n",
       "      <td>0</td>\n",
       "      <td>0</td>\n",
       "      <td>1</td>\n",
       "      <td>1</td>\n",
       "      <td>0</td>\n",
       "      <td>0</td>\n",
       "      <td>1</td>\n",
       "      <td>1</td>\n",
       "      <td>0</td>\n",
       "      <td>1</td>\n",
       "      <td>0</td>\n",
       "      <td>1</td>\n",
       "      <td>0</td>\n",
       "    </tr>\n",
       "  </tbody>\n",
       "</table>\n",
       "</div>"
      ],
      "text/plain": [
       "   customerID  tenure  PhoneService        Contract  PaperlessBilling  \\\n",
       "0  7590-VHVEG       1             0  Month-to-month                 1   \n",
       "1  5575-GNVDE      34             1        One year                 0   \n",
       "\n",
       "      PaymentMethod  MonthlyCharges TotalCharges  Churn  gender  \\\n",
       "0  Electronic check           29.85        29.85      0  Female   \n",
       "1      Mailed check           56.95       1889.5      0    Male   \n",
       "\n",
       "   SeniorCitizen  Partner  Dependents     MultipleLines InternetService  \\\n",
       "0              0        1           0  No phone service             DSL   \n",
       "1              0        0           0                No             DSL   \n",
       "\n",
       "  OnlineSecurity OnlineBackup DeviceProtection TechSupport StreamingTV  \\\n",
       "0             No          Yes               No          No          No   \n",
       "1            Yes           No              Yes          No          No   \n",
       "\n",
       "  StreamingMovies  Contract_One year  Contract_Two year  \\\n",
       "0              No                  0                  0   \n",
       "1              No                  1                  0   \n",
       "\n",
       "   PaymentMethod_Credit card (automatic)  PaymentMethod_Electronic check  \\\n",
       "0                                      0                               1   \n",
       "1                                      0                               0   \n",
       "\n",
       "   PaymentMethod_Mailed check  InternetService_DSL  InternetService_No  \\\n",
       "0                           0                    1                   0   \n",
       "1                           1                    1                   0   \n",
       "\n",
       "   gender_Male  MultipleLines_No  MultipleLines_Yes  OnlineSecurity_No  \\\n",
       "0            0                 0                  0                  1   \n",
       "1            1                 1                  0                  0   \n",
       "\n",
       "   OnlineSecurity_Yes  OnlineBackup_No  OnlineBackup_Yes  DeviceProtection_No  \\\n",
       "0                   0                0                 1                    1   \n",
       "1                   1                1                 0                    0   \n",
       "\n",
       "   DeviceProtection_Yes  TechSupport_No  TechSupport_Yes  StreamingTV_No  \\\n",
       "0                     0               1                0               1   \n",
       "1                     1               1                0               1   \n",
       "\n",
       "   StreamingTV_Yes  StreamingMovies_No  StreamingMovies_Yes  \n",
       "0                0                   1                    0  \n",
       "1                0                   1                    0  "
      ]
     },
     "execution_count": 27,
     "metadata": {},
     "output_type": "execute_result"
    }
   ],
   "source": [
    "telecom.head(2)"
   ]
  },
  {
   "cell_type": "code",
   "execution_count": 28,
   "id": "c6de70f9",
   "metadata": {},
   "outputs": [],
   "source": [
    "# Drop features which we converted using get_dummies"
   ]
  },
  {
   "cell_type": "code",
   "execution_count": 29,
   "id": "35f32a6b",
   "metadata": {},
   "outputs": [],
   "source": [
    "telecom = telecom.drop(dummy_1, axis=1)"
   ]
  },
  {
   "cell_type": "code",
   "execution_count": 30,
   "id": "5e486af7",
   "metadata": {},
   "outputs": [
    {
     "data": {
      "text/html": [
       "<div>\n",
       "<style scoped>\n",
       "    .dataframe tbody tr th:only-of-type {\n",
       "        vertical-align: middle;\n",
       "    }\n",
       "\n",
       "    .dataframe tbody tr th {\n",
       "        vertical-align: top;\n",
       "    }\n",
       "\n",
       "    .dataframe thead th {\n",
       "        text-align: right;\n",
       "    }\n",
       "</style>\n",
       "<table border=\"1\" class=\"dataframe\">\n",
       "  <thead>\n",
       "    <tr style=\"text-align: right;\">\n",
       "      <th></th>\n",
       "      <th>customerID</th>\n",
       "      <th>tenure</th>\n",
       "      <th>PhoneService</th>\n",
       "      <th>PaperlessBilling</th>\n",
       "      <th>MonthlyCharges</th>\n",
       "      <th>TotalCharges</th>\n",
       "      <th>Churn</th>\n",
       "      <th>SeniorCitizen</th>\n",
       "      <th>Partner</th>\n",
       "      <th>Dependents</th>\n",
       "      <th>Contract_One year</th>\n",
       "      <th>Contract_Two year</th>\n",
       "      <th>PaymentMethod_Credit card (automatic)</th>\n",
       "      <th>PaymentMethod_Electronic check</th>\n",
       "      <th>PaymentMethod_Mailed check</th>\n",
       "      <th>InternetService_DSL</th>\n",
       "      <th>InternetService_No</th>\n",
       "      <th>gender_Male</th>\n",
       "      <th>MultipleLines_No</th>\n",
       "      <th>MultipleLines_Yes</th>\n",
       "      <th>OnlineSecurity_No</th>\n",
       "      <th>OnlineSecurity_Yes</th>\n",
       "      <th>OnlineBackup_No</th>\n",
       "      <th>OnlineBackup_Yes</th>\n",
       "      <th>DeviceProtection_No</th>\n",
       "      <th>DeviceProtection_Yes</th>\n",
       "      <th>TechSupport_No</th>\n",
       "      <th>TechSupport_Yes</th>\n",
       "      <th>StreamingTV_No</th>\n",
       "      <th>StreamingTV_Yes</th>\n",
       "      <th>StreamingMovies_No</th>\n",
       "      <th>StreamingMovies_Yes</th>\n",
       "    </tr>\n",
       "  </thead>\n",
       "  <tbody>\n",
       "    <tr>\n",
       "      <th>0</th>\n",
       "      <td>7590-VHVEG</td>\n",
       "      <td>1</td>\n",
       "      <td>0</td>\n",
       "      <td>1</td>\n",
       "      <td>29.85</td>\n",
       "      <td>29.85</td>\n",
       "      <td>0</td>\n",
       "      <td>0</td>\n",
       "      <td>1</td>\n",
       "      <td>0</td>\n",
       "      <td>0</td>\n",
       "      <td>0</td>\n",
       "      <td>0</td>\n",
       "      <td>1</td>\n",
       "      <td>0</td>\n",
       "      <td>1</td>\n",
       "      <td>0</td>\n",
       "      <td>0</td>\n",
       "      <td>0</td>\n",
       "      <td>0</td>\n",
       "      <td>1</td>\n",
       "      <td>0</td>\n",
       "      <td>0</td>\n",
       "      <td>1</td>\n",
       "      <td>1</td>\n",
       "      <td>0</td>\n",
       "      <td>1</td>\n",
       "      <td>0</td>\n",
       "      <td>1</td>\n",
       "      <td>0</td>\n",
       "      <td>1</td>\n",
       "      <td>0</td>\n",
       "    </tr>\n",
       "    <tr>\n",
       "      <th>1</th>\n",
       "      <td>5575-GNVDE</td>\n",
       "      <td>34</td>\n",
       "      <td>1</td>\n",
       "      <td>0</td>\n",
       "      <td>56.95</td>\n",
       "      <td>1889.5</td>\n",
       "      <td>0</td>\n",
       "      <td>0</td>\n",
       "      <td>0</td>\n",
       "      <td>0</td>\n",
       "      <td>1</td>\n",
       "      <td>0</td>\n",
       "      <td>0</td>\n",
       "      <td>0</td>\n",
       "      <td>1</td>\n",
       "      <td>1</td>\n",
       "      <td>0</td>\n",
       "      <td>1</td>\n",
       "      <td>1</td>\n",
       "      <td>0</td>\n",
       "      <td>0</td>\n",
       "      <td>1</td>\n",
       "      <td>1</td>\n",
       "      <td>0</td>\n",
       "      <td>0</td>\n",
       "      <td>1</td>\n",
       "      <td>1</td>\n",
       "      <td>0</td>\n",
       "      <td>1</td>\n",
       "      <td>0</td>\n",
       "      <td>1</td>\n",
       "      <td>0</td>\n",
       "    </tr>\n",
       "  </tbody>\n",
       "</table>\n",
       "</div>"
      ],
      "text/plain": [
       "   customerID  tenure  PhoneService  PaperlessBilling  MonthlyCharges  \\\n",
       "0  7590-VHVEG       1             0                 1           29.85   \n",
       "1  5575-GNVDE      34             1                 0           56.95   \n",
       "\n",
       "  TotalCharges  Churn  SeniorCitizen  Partner  Dependents  Contract_One year  \\\n",
       "0        29.85      0              0        1           0                  0   \n",
       "1       1889.5      0              0        0           0                  1   \n",
       "\n",
       "   Contract_Two year  PaymentMethod_Credit card (automatic)  \\\n",
       "0                  0                                      0   \n",
       "1                  0                                      0   \n",
       "\n",
       "   PaymentMethod_Electronic check  PaymentMethod_Mailed check  \\\n",
       "0                               1                           0   \n",
       "1                               0                           1   \n",
       "\n",
       "   InternetService_DSL  InternetService_No  gender_Male  MultipleLines_No  \\\n",
       "0                    1                   0            0                 0   \n",
       "1                    1                   0            1                 1   \n",
       "\n",
       "   MultipleLines_Yes  OnlineSecurity_No  OnlineSecurity_Yes  OnlineBackup_No  \\\n",
       "0                  0                  1                   0                0   \n",
       "1                  0                  0                   1                1   \n",
       "\n",
       "   OnlineBackup_Yes  DeviceProtection_No  DeviceProtection_Yes  \\\n",
       "0                 1                    1                     0   \n",
       "1                 0                    0                     1   \n",
       "\n",
       "   TechSupport_No  TechSupport_Yes  StreamingTV_No  StreamingTV_Yes  \\\n",
       "0               1                0               1                0   \n",
       "1               1                0               1                0   \n",
       "\n",
       "   StreamingMovies_No  StreamingMovies_Yes  \n",
       "0                   1                    0  \n",
       "1                   1                    0  "
      ]
     },
     "execution_count": 30,
     "metadata": {},
     "output_type": "execute_result"
    }
   ],
   "source": [
    "telecom.head(2)"
   ]
  },
  {
   "cell_type": "code",
   "execution_count": 31,
   "id": "815ca93a",
   "metadata": {},
   "outputs": [
    {
     "name": "stdout",
     "output_type": "stream",
     "text": [
      "<class 'pandas.core.frame.DataFrame'>\n",
      "Int64Index: 7043 entries, 0 to 7042\n",
      "Data columns (total 32 columns):\n",
      " #   Column                                 Non-Null Count  Dtype  \n",
      "---  ------                                 --------------  -----  \n",
      " 0   customerID                             7043 non-null   object \n",
      " 1   tenure                                 7043 non-null   int64  \n",
      " 2   PhoneService                           7043 non-null   int64  \n",
      " 3   PaperlessBilling                       7043 non-null   int64  \n",
      " 4   MonthlyCharges                         7043 non-null   float64\n",
      " 5   TotalCharges                           7043 non-null   object \n",
      " 6   Churn                                  7043 non-null   int64  \n",
      " 7   SeniorCitizen                          7043 non-null   int64  \n",
      " 8   Partner                                7043 non-null   int64  \n",
      " 9   Dependents                             7043 non-null   int64  \n",
      " 10  Contract_One year                      7043 non-null   uint8  \n",
      " 11  Contract_Two year                      7043 non-null   uint8  \n",
      " 12  PaymentMethod_Credit card (automatic)  7043 non-null   uint8  \n",
      " 13  PaymentMethod_Electronic check         7043 non-null   uint8  \n",
      " 14  PaymentMethod_Mailed check             7043 non-null   uint8  \n",
      " 15  InternetService_DSL                    7043 non-null   uint8  \n",
      " 16  InternetService_No                     7043 non-null   uint8  \n",
      " 17  gender_Male                            7043 non-null   uint8  \n",
      " 18  MultipleLines_No                       7043 non-null   uint8  \n",
      " 19  MultipleLines_Yes                      7043 non-null   uint8  \n",
      " 20  OnlineSecurity_No                      7043 non-null   uint8  \n",
      " 21  OnlineSecurity_Yes                     7043 non-null   uint8  \n",
      " 22  OnlineBackup_No                        7043 non-null   uint8  \n",
      " 23  OnlineBackup_Yes                       7043 non-null   uint8  \n",
      " 24  DeviceProtection_No                    7043 non-null   uint8  \n",
      " 25  DeviceProtection_Yes                   7043 non-null   uint8  \n",
      " 26  TechSupport_No                         7043 non-null   uint8  \n",
      " 27  TechSupport_Yes                        7043 non-null   uint8  \n",
      " 28  StreamingTV_No                         7043 non-null   uint8  \n",
      " 29  StreamingTV_Yes                        7043 non-null   uint8  \n",
      " 30  StreamingMovies_No                     7043 non-null   uint8  \n",
      " 31  StreamingMovies_Yes                    7043 non-null   uint8  \n",
      "dtypes: float64(1), int64(7), object(2), uint8(22)\n",
      "memory usage: 756.6+ KB\n"
     ]
    }
   ],
   "source": [
    "telecom.info()"
   ]
  },
  {
   "cell_type": "markdown",
   "id": "3b8775ec",
   "metadata": {},
   "source": [
    "- Here we see 2 columns are still of type object:\n",
    "    - customerID : not required as a feature for model. It is more of as an unique identifier \n",
    "    - TotalCharges : This should be continuos, lets impect this columns and change it to float"
   ]
  },
  {
   "cell_type": "code",
   "execution_count": 32,
   "id": "d9647717",
   "metadata": {},
   "outputs": [],
   "source": [
    "# pd.to_numeric(telecom.TotalCharges) -> using this we saw at index 488, it has empty string with one space.\n",
    "## replacing it with 0 \n",
    "telecom['TotalCharges'] = telecom['TotalCharges'].replace(' ',0)"
   ]
  },
  {
   "cell_type": "code",
   "execution_count": 33,
   "id": "f2a7a42c",
   "metadata": {},
   "outputs": [],
   "source": [
    "#COnvert Dtype to numeric\n",
    "telecom['TotalCharges'] = pd.to_numeric(telecom['TotalCharges'])"
   ]
  },
  {
   "cell_type": "code",
   "execution_count": 34,
   "id": "e11f4456",
   "metadata": {},
   "outputs": [
    {
     "name": "stdout",
     "output_type": "stream",
     "text": [
      "<class 'pandas.core.frame.DataFrame'>\n",
      "Int64Index: 7043 entries, 0 to 7042\n",
      "Data columns (total 32 columns):\n",
      " #   Column                                 Non-Null Count  Dtype  \n",
      "---  ------                                 --------------  -----  \n",
      " 0   customerID                             7043 non-null   object \n",
      " 1   tenure                                 7043 non-null   int64  \n",
      " 2   PhoneService                           7043 non-null   int64  \n",
      " 3   PaperlessBilling                       7043 non-null   int64  \n",
      " 4   MonthlyCharges                         7043 non-null   float64\n",
      " 5   TotalCharges                           7043 non-null   float64\n",
      " 6   Churn                                  7043 non-null   int64  \n",
      " 7   SeniorCitizen                          7043 non-null   int64  \n",
      " 8   Partner                                7043 non-null   int64  \n",
      " 9   Dependents                             7043 non-null   int64  \n",
      " 10  Contract_One year                      7043 non-null   uint8  \n",
      " 11  Contract_Two year                      7043 non-null   uint8  \n",
      " 12  PaymentMethod_Credit card (automatic)  7043 non-null   uint8  \n",
      " 13  PaymentMethod_Electronic check         7043 non-null   uint8  \n",
      " 14  PaymentMethod_Mailed check             7043 non-null   uint8  \n",
      " 15  InternetService_DSL                    7043 non-null   uint8  \n",
      " 16  InternetService_No                     7043 non-null   uint8  \n",
      " 17  gender_Male                            7043 non-null   uint8  \n",
      " 18  MultipleLines_No                       7043 non-null   uint8  \n",
      " 19  MultipleLines_Yes                      7043 non-null   uint8  \n",
      " 20  OnlineSecurity_No                      7043 non-null   uint8  \n",
      " 21  OnlineSecurity_Yes                     7043 non-null   uint8  \n",
      " 22  OnlineBackup_No                        7043 non-null   uint8  \n",
      " 23  OnlineBackup_Yes                       7043 non-null   uint8  \n",
      " 24  DeviceProtection_No                    7043 non-null   uint8  \n",
      " 25  DeviceProtection_Yes                   7043 non-null   uint8  \n",
      " 26  TechSupport_No                         7043 non-null   uint8  \n",
      " 27  TechSupport_Yes                        7043 non-null   uint8  \n",
      " 28  StreamingTV_No                         7043 non-null   uint8  \n",
      " 29  StreamingTV_Yes                        7043 non-null   uint8  \n",
      " 30  StreamingMovies_No                     7043 non-null   uint8  \n",
      " 31  StreamingMovies_Yes                    7043 non-null   uint8  \n",
      "dtypes: float64(2), int64(7), object(1), uint8(22)\n",
      "memory usage: 756.6+ KB\n"
     ]
    }
   ],
   "source": [
    "telecom.info()"
   ]
  },
  {
   "cell_type": "markdown",
   "id": "c2e160b4",
   "metadata": {},
   "source": [
    "### Check outliers in continuous features"
   ]
  },
  {
   "cell_type": "code",
   "execution_count": 35,
   "id": "88111297",
   "metadata": {},
   "outputs": [],
   "source": [
    "con_feat = ['tenure','MonthlyCharges','TotalCharges']"
   ]
  },
  {
   "cell_type": "code",
   "execution_count": 36,
   "id": "23021b78",
   "metadata": {},
   "outputs": [],
   "source": [
    "#Create tmp dataframe to check outliers \n",
    "tmp_df = telecom[con_feat]"
   ]
  },
  {
   "cell_type": "code",
   "execution_count": 37,
   "id": "11bb59af",
   "metadata": {},
   "outputs": [
    {
     "data": {
      "text/html": [
       "<div>\n",
       "<style scoped>\n",
       "    .dataframe tbody tr th:only-of-type {\n",
       "        vertical-align: middle;\n",
       "    }\n",
       "\n",
       "    .dataframe tbody tr th {\n",
       "        vertical-align: top;\n",
       "    }\n",
       "\n",
       "    .dataframe thead th {\n",
       "        text-align: right;\n",
       "    }\n",
       "</style>\n",
       "<table border=\"1\" class=\"dataframe\">\n",
       "  <thead>\n",
       "    <tr style=\"text-align: right;\">\n",
       "      <th></th>\n",
       "      <th>tenure</th>\n",
       "      <th>MonthlyCharges</th>\n",
       "      <th>TotalCharges</th>\n",
       "    </tr>\n",
       "  </thead>\n",
       "  <tbody>\n",
       "    <tr>\n",
       "      <th>0</th>\n",
       "      <td>1</td>\n",
       "      <td>29.85</td>\n",
       "      <td>29.85</td>\n",
       "    </tr>\n",
       "    <tr>\n",
       "      <th>1</th>\n",
       "      <td>34</td>\n",
       "      <td>56.95</td>\n",
       "      <td>1889.50</td>\n",
       "    </tr>\n",
       "  </tbody>\n",
       "</table>\n",
       "</div>"
      ],
      "text/plain": [
       "   tenure  MonthlyCharges  TotalCharges\n",
       "0       1           29.85         29.85\n",
       "1      34           56.95       1889.50"
      ]
     },
     "execution_count": 37,
     "metadata": {},
     "output_type": "execute_result"
    }
   ],
   "source": [
    "tmp_df.head(2)"
   ]
  },
  {
   "cell_type": "code",
   "execution_count": 38,
   "id": "d1468ef2",
   "metadata": {},
   "outputs": [
    {
     "data": {
      "text/html": [
       "<div>\n",
       "<style scoped>\n",
       "    .dataframe tbody tr th:only-of-type {\n",
       "        vertical-align: middle;\n",
       "    }\n",
       "\n",
       "    .dataframe tbody tr th {\n",
       "        vertical-align: top;\n",
       "    }\n",
       "\n",
       "    .dataframe thead th {\n",
       "        text-align: right;\n",
       "    }\n",
       "</style>\n",
       "<table border=\"1\" class=\"dataframe\">\n",
       "  <thead>\n",
       "    <tr style=\"text-align: right;\">\n",
       "      <th></th>\n",
       "      <th>tenure</th>\n",
       "      <th>MonthlyCharges</th>\n",
       "      <th>TotalCharges</th>\n",
       "    </tr>\n",
       "  </thead>\n",
       "  <tbody>\n",
       "    <tr>\n",
       "      <th>count</th>\n",
       "      <td>7043.000000</td>\n",
       "      <td>7043.000000</td>\n",
       "      <td>7043.000000</td>\n",
       "    </tr>\n",
       "    <tr>\n",
       "      <th>mean</th>\n",
       "      <td>32.371149</td>\n",
       "      <td>64.761692</td>\n",
       "      <td>2279.734304</td>\n",
       "    </tr>\n",
       "    <tr>\n",
       "      <th>std</th>\n",
       "      <td>24.559481</td>\n",
       "      <td>30.090047</td>\n",
       "      <td>2266.794470</td>\n",
       "    </tr>\n",
       "    <tr>\n",
       "      <th>min</th>\n",
       "      <td>0.000000</td>\n",
       "      <td>18.250000</td>\n",
       "      <td>0.000000</td>\n",
       "    </tr>\n",
       "    <tr>\n",
       "      <th>25%</th>\n",
       "      <td>9.000000</td>\n",
       "      <td>35.500000</td>\n",
       "      <td>398.550000</td>\n",
       "    </tr>\n",
       "    <tr>\n",
       "      <th>50%</th>\n",
       "      <td>29.000000</td>\n",
       "      <td>70.350000</td>\n",
       "      <td>1394.550000</td>\n",
       "    </tr>\n",
       "    <tr>\n",
       "      <th>75%</th>\n",
       "      <td>55.000000</td>\n",
       "      <td>89.850000</td>\n",
       "      <td>3786.600000</td>\n",
       "    </tr>\n",
       "    <tr>\n",
       "      <th>max</th>\n",
       "      <td>72.000000</td>\n",
       "      <td>118.750000</td>\n",
       "      <td>8684.800000</td>\n",
       "    </tr>\n",
       "  </tbody>\n",
       "</table>\n",
       "</div>"
      ],
      "text/plain": [
       "            tenure  MonthlyCharges  TotalCharges\n",
       "count  7043.000000     7043.000000   7043.000000\n",
       "mean     32.371149       64.761692   2279.734304\n",
       "std      24.559481       30.090047   2266.794470\n",
       "min       0.000000       18.250000      0.000000\n",
       "25%       9.000000       35.500000    398.550000\n",
       "50%      29.000000       70.350000   1394.550000\n",
       "75%      55.000000       89.850000   3786.600000\n",
       "max      72.000000      118.750000   8684.800000"
      ]
     },
     "execution_count": 38,
     "metadata": {},
     "output_type": "execute_result"
    }
   ],
   "source": [
    "tmp_df.describe()"
   ]
  },
  {
   "cell_type": "code",
   "execution_count": 39,
   "id": "1944cd66",
   "metadata": {},
   "outputs": [
    {
     "data": {
      "text/plain": [
       "<AxesSubplot:>"
      ]
     },
     "execution_count": 39,
     "metadata": {},
     "output_type": "execute_result"
    },
    {
     "data": {
      "image/png": "[encoded data removed]",
      "text/plain": [
       "<Figure size 432x288 with 1 Axes>"
      ]
     },
     "metadata": {
      "needs_background": "light"
     },
     "output_type": "display_data"
    }
   ],
   "source": [
    "sns.boxplot(data=tmp_df[['tenure','MonthlyCharges']])"
   ]
  },
  {
   "cell_type": "code",
   "execution_count": 40,
   "id": "049735f1",
   "metadata": {},
   "outputs": [
    {
     "data": {
      "text/plain": [
       "<AxesSubplot:xlabel='TotalCharges'>"
      ]
     },
     "execution_count": 40,
     "metadata": {},
     "output_type": "execute_result"
    },
    {
     "data": {
      "image/png": "[encoded data removed]",
      "text/plain": [
       "<Figure size 432x288 with 1 Axes>"
      ]
     },
     "metadata": {
      "needs_background": "light"
     },
     "output_type": "display_data"
    }
   ],
   "source": [
    "sns.boxplot(tmp_df.TotalCharges)"
   ]
  },
  {
   "cell_type": "markdown",
   "id": "a938746e",
   "metadata": {},
   "source": [
    "- We dont see any outliers"
   ]
  },
  {
   "cell_type": "code",
   "execution_count": 41,
   "id": "0d768ed0",
   "metadata": {},
   "outputs": [],
   "source": [
    "#### Handling null values "
   ]
  },
  {
   "cell_type": "code",
   "execution_count": 42,
   "id": "a5e5f62a",
   "metadata": {},
   "outputs": [
    {
     "data": {
      "text/plain": [
       "customerID                               0\n",
       "tenure                                   0\n",
       "PhoneService                             0\n",
       "PaperlessBilling                         0\n",
       "MonthlyCharges                           0\n",
       "TotalCharges                             0\n",
       "Churn                                    0\n",
       "SeniorCitizen                            0\n",
       "Partner                                  0\n",
       "Dependents                               0\n",
       "Contract_One year                        0\n",
       "Contract_Two year                        0\n",
       "PaymentMethod_Credit card (automatic)    0\n",
       "PaymentMethod_Electronic check           0\n",
       "PaymentMethod_Mailed check               0\n",
       "InternetService_DSL                      0\n",
       "InternetService_No                       0\n",
       "gender_Male                              0\n",
       "MultipleLines_No                         0\n",
       "MultipleLines_Yes                        0\n",
       "OnlineSecurity_No                        0\n",
       "OnlineSecurity_Yes                       0\n",
       "OnlineBackup_No                          0\n",
       "OnlineBackup_Yes                         0\n",
       "DeviceProtection_No                      0\n",
       "DeviceProtection_Yes                     0\n",
       "TechSupport_No                           0\n",
       "TechSupport_Yes                          0\n",
       "StreamingTV_No                           0\n",
       "StreamingTV_Yes                          0\n",
       "StreamingMovies_No                       0\n",
       "StreamingMovies_Yes                      0\n",
       "dtype: int64"
      ]
     },
     "execution_count": 42,
     "metadata": {},
     "output_type": "execute_result"
    }
   ],
   "source": [
    "telecom.isnull().sum()"
   ]
  },
  {
   "cell_type": "markdown",
   "id": "9452f575",
   "metadata": {},
   "source": [
    "### Train Test Split"
   ]
  },
  {
   "cell_type": "code",
   "execution_count": null,
   "id": "b96f9c0e",
   "metadata": {},
   "outputs": [],
   "source": [
    "#Creating feature variables \n",
    "X = telecom.drop(['Churn','customerID'], axis=1)"
   ]
  },
  {
   "cell_type": "code",
   "execution_count": null,
   "id": "6ec336f3",
   "metadata": {},
   "outputs": [],
   "source": [
    "#Creating target varible\n",
    "y = telecom['Churn']"
   ]
  },
  {
   "cell_type": "code",
   "execution_count": null,
   "id": "aea8535d",
   "metadata": {},
   "outputs": [],
   "source": [
    "X.head()"
   ]
  },
  {
   "cell_type": "code",
   "execution_count": null,
   "id": "82df6ca6",
   "metadata": {},
   "outputs": [],
   "source": [
    "y.head()"
   ]
  },
  {
   "cell_type": "code",
   "execution_count": null,
   "id": "c0987ddd",
   "metadata": {},
   "outputs": [],
   "source": [
    "#Split data into train and test\n",
    "X_train,X_test,y_train, y_test = train_test_split(X,y, train_size=0.7, random_state=100)"
   ]
  },
  {
   "cell_type": "code",
   "execution_count": null,
   "id": "b4fcf66e",
   "metadata": {},
   "outputs": [],
   "source": [
    "X_train.shape"
   ]
  },
  {
   "cell_type": "code",
   "execution_count": null,
   "id": "14936d3d",
   "metadata": {},
   "outputs": [],
   "source": [
    "X_test.shape"
   ]
  },
  {
   "cell_type": "code",
   "execution_count": null,
   "id": "9955b85f",
   "metadata": {},
   "outputs": [],
   "source": [
    "telecom.shape"
   ]
  },
  {
   "cell_type": "markdown",
   "id": "f77088f9",
   "metadata": {},
   "source": [
    "#### Feature Scaling"
   ]
  },
  {
   "cell_type": "code",
   "execution_count": null,
   "id": "eea4335c",
   "metadata": {},
   "outputs": [],
   "source": [
    "#Using MinMaxScalar class \n",
    "# creating object\n",
    "scalar = MinMaxScaler()"
   ]
  },
  {
   "cell_type": "code",
   "execution_count": null,
   "id": "11de2d93",
   "metadata": {},
   "outputs": [],
   "source": [
    "#Standardizing the continuos columns of train dataset\n",
    "con_feat"
   ]
  },
  {
   "cell_type": "code",
   "execution_count": null,
   "id": "987afc37",
   "metadata": {},
   "outputs": [],
   "source": [
    "X_train[con_feat] = scalar.fit_transform(X_train[con_feat])"
   ]
  },
  {
   "cell_type": "code",
   "execution_count": null,
   "id": "d4eb5ebc",
   "metadata": {},
   "outputs": [],
   "source": [
    "X_train.head()"
   ]
  },
  {
   "cell_type": "code",
   "execution_count": null,
   "id": "b5ad54af",
   "metadata": {},
   "outputs": [],
   "source": [
    "X_train[con_feat].describe()"
   ]
  },
  {
   "cell_type": "markdown",
   "id": "3a93353c",
   "metadata": {},
   "source": [
    "#### Data imbalance"
   ]
  },
  {
   "cell_type": "code",
   "execution_count": null,
   "id": "254da1c6",
   "metadata": {},
   "outputs": [],
   "source": [
    "telecom.Churn.sum()"
   ]
  },
  {
   "cell_type": "code",
   "execution_count": null,
   "id": "8e2bc1ba",
   "metadata": {},
   "outputs": [],
   "source": [
    "len(telecom.Churn.index)"
   ]
  },
  {
   "cell_type": "code",
   "execution_count": null,
   "id": "f4c4ff0e",
   "metadata": {},
   "outputs": [],
   "source": [
    "round((telecom.Churn.sum()/len(telecom.Churn.index))*100)"
   ]
  },
  {
   "cell_type": "markdown",
   "id": "3df87b0d",
   "metadata": {},
   "source": [
    "- 27% is a churn Rate."
   ]
  },
  {
   "cell_type": "markdown",
   "id": "2d375ae4",
   "metadata": {},
   "source": [
    "### Looking at Correlations\n",
    "- among all the features"
   ]
  },
  {
   "cell_type": "code",
   "execution_count": null,
   "id": "86e1992d",
   "metadata": {},
   "outputs": [],
   "source": [
    "#Using heatmap\n",
    "plt.figure(figsize=(20,10))\n",
    "sns.heatmap(telecom.corr(), annot=True)\n",
    "plt.show()"
   ]
  },
  {
   "cell_type": "code",
   "execution_count": null,
   "id": "62770cd0",
   "metadata": {},
   "outputs": [],
   "source": [
    "#Listing down highly correalated variables\n",
    "corr_vars = ['MultipleLines_No','OnlineSecurity_No','OnlineBackup_No','DeviceProtection_No','TechSupport_No',\n",
    "             'StreamingTV_No','StreamingMovies_No']"
   ]
  },
  {
   "cell_type": "code",
   "execution_count": null,
   "id": "ff7b2cfc",
   "metadata": {},
   "outputs": [],
   "source": [
    "sns.heatmap(telecom[corr_vars].corr(), annot=True)"
   ]
  },
  {
   "cell_type": "code",
   "execution_count": null,
   "id": "c691f3c0",
   "metadata": {},
   "outputs": [],
   "source": [
    "#Dropping correlated features\n",
    "X_train = X_train.drop(corr_vars, axis=1)\n",
    "X_test = X_test.drop(corr_vars, axis=1)"
   ]
  },
  {
   "cell_type": "code",
   "execution_count": null,
   "id": "9a957729",
   "metadata": {},
   "outputs": [],
   "source": [
    "X_train.info()"
   ]
  },
  {
   "cell_type": "code",
   "execution_count": null,
   "id": "8994403f",
   "metadata": {},
   "outputs": [],
   "source": [
    "### For Review, check the correlation between similar dummy variables like between Yes_No"
   ]
  },
  {
   "cell_type": "code",
   "execution_count": null,
   "id": "d5197d6e",
   "metadata": {},
   "outputs": [],
   "source": [
    "new_lst=[]\n",
    "for x in telecom.columns:\n",
    "    try:\n",
    "        if x.split('_')[1] in ('Yes','No'):\n",
    "            new_lst.append(x)\n",
    "    except IndexError:\n",
    "        pass"
   ]
  },
  {
   "cell_type": "code",
   "execution_count": null,
   "id": "3df065f4",
   "metadata": {},
   "outputs": [],
   "source": [
    "plt.figure(figsize=(12,8))\n",
    "sns.heatmap(telecom[new_lst].corr(), annot=True)"
   ]
  },
  {
   "cell_type": "markdown",
   "id": "3481701c",
   "metadata": {},
   "source": [
    "- Here we can see all the similar yes_no pairs are highly correlated. Correlation is negative.\n",
    "- Eg: MultipleLines_Yes and MultipleLines_No has correlation as -0.82. viz. high. Business perspective, customer can take Multiple lines or not take multiple lines, hence it is inversly related."
   ]
  },
  {
   "cell_type": "markdown",
   "id": "2f020de9",
   "metadata": {},
   "source": [
    "### Model Training \n",
    "- We will be using statsmodel as we need to see the statistics of model also, unlike sklearn Logistic Regression"
   ]
  },
  {
   "cell_type": "code",
   "execution_count": null,
   "id": "2ceafb3c",
   "metadata": {},
   "outputs": [],
   "source": [
    "import statsmodels.api as sm"
   ]
  },
  {
   "cell_type": "code",
   "execution_count": null,
   "id": "4a89f43e",
   "metadata": {},
   "outputs": [],
   "source": [
    "def build_statsmodel(train_X,train_y):\n",
    "    \"\"\"\n",
    "    Function to take features dataframe and target data frame and returns model as output using statsmodel\n",
    "    \"\"\"\n",
    "    X_train_sm = sm.add_constant(train_X)\n",
    "    model = sm.GLM(train_y, X_train_sm, family=sm.families.Binomial())\n",
    "    model = model.fit()\n",
    "    return model, X_train_sm"
   ]
  },
  {
   "cell_type": "code",
   "execution_count": null,
   "id": "0083d112",
   "metadata": {},
   "outputs": [],
   "source": [
    "model_1, X_train_sm = build_statsmodel(X_train, y_train)"
   ]
  },
  {
   "cell_type": "code",
   "execution_count": null,
   "id": "b0b7d26a",
   "metadata": {},
   "outputs": [],
   "source": [
    "print(model_1.summary())"
   ]
  },
  {
   "cell_type": "markdown",
   "id": "70ad62f7",
   "metadata": {},
   "source": [
    "- Observations on Features for modelling\n",
    "    1. Considering the P-values, there are many features which are still insignificant. \n",
    "    2. Some of the coefficient are negative, which is fine.\n",
    "- Therefore, we have to further eleminate insignificant features.\n",
    "    1. First by using Automated approach,i.e. **RFE (Recursive Feature Elimination )** - Top 15 Features\n",
    "    2. Manual approach"
   ]
  },
  {
   "cell_type": "markdown",
   "id": "cbbd6efc",
   "metadata": {},
   "source": [
    "### Feature selection using RFE"
   ]
  },
  {
   "cell_type": "code",
   "execution_count": null,
   "id": "edf84d60",
   "metadata": {},
   "outputs": [],
   "source": [
    "from sklearn.linear_model import LogisticRegression\n",
    "from sklearn.feature_selection import RFE"
   ]
  },
  {
   "cell_type": "code",
   "execution_count": null,
   "id": "90aca01a",
   "metadata": {},
   "outputs": [],
   "source": [
    "logreg = LogisticRegression()"
   ]
  },
  {
   "cell_type": "code",
   "execution_count": null,
   "id": "aac3c828",
   "metadata": {},
   "outputs": [],
   "source": [
    "rfe = RFE(logreg, 15) \n",
    "#Creating a rfe variable with object of Logistic Regression and passing 15 features to choose "
   ]
  },
  {
   "cell_type": "code",
   "execution_count": null,
   "id": "94276103",
   "metadata": {},
   "outputs": [],
   "source": [
    "#fit training dataset\n",
    "rfe = rfe.fit(X_train, y_train)"
   ]
  },
  {
   "cell_type": "code",
   "execution_count": null,
   "id": "d5c890c9",
   "metadata": {},
   "outputs": [],
   "source": [
    "rfe.support_"
   ]
  },
  {
   "cell_type": "code",
   "execution_count": null,
   "id": "bee2bade",
   "metadata": {},
   "outputs": [],
   "source": [
    "list(zip(X_train.columns, rfe.support_, rfe.ranking_))"
   ]
  },
  {
   "cell_type": "code",
   "execution_count": null,
   "id": "93280d19",
   "metadata": {},
   "outputs": [],
   "source": [
    "#As we have asked RFE to choose 15 features, we can see 15 values as TRUE"
   ]
  },
  {
   "cell_type": "code",
   "execution_count": null,
   "id": "51cfc39d",
   "metadata": {},
   "outputs": [],
   "source": [
    "cols = X_train.columns[rfe.support_]"
   ]
  },
  {
   "cell_type": "code",
   "execution_count": null,
   "id": "ae8db7d1",
   "metadata": {},
   "outputs": [],
   "source": [
    "cols"
   ]
  },
  {
   "cell_type": "code",
   "execution_count": null,
   "id": "781f1e03",
   "metadata": {},
   "outputs": [],
   "source": [
    "len(cols)"
   ]
  },
  {
   "cell_type": "code",
   "execution_count": null,
   "id": "0924ad43",
   "metadata": {},
   "outputs": [],
   "source": [
    "X_train_rfe = X_train[cols]"
   ]
  },
  {
   "cell_type": "code",
   "execution_count": null,
   "id": "cfd9fa5a",
   "metadata": {},
   "outputs": [],
   "source": [
    "X_train_rfe.head()"
   ]
  },
  {
   "cell_type": "code",
   "execution_count": null,
   "id": "ec6cfbc7",
   "metadata": {},
   "outputs": [],
   "source": [
    "rfe_model, rfe_train_sm = build_statsmodel(X_train_rfe, y_train)"
   ]
  },
  {
   "cell_type": "code",
   "execution_count": null,
   "id": "b8a441e9",
   "metadata": {},
   "outputs": [],
   "source": [
    "print(rfe_model.summary())"
   ]
  },
  {
   "cell_type": "markdown",
   "id": "c6649af2",
   "metadata": {},
   "source": [
    "- **Observation** :\n",
    "    - By looking at P values of all features selected by RFE, all features seems to be significant"
   ]
  },
  {
   "cell_type": "code",
   "execution_count": null,
   "id": "1c1544f9",
   "metadata": {},
   "outputs": [],
   "source": [
    "#### Predict the target using this model \n",
    "y_train_pred = rfe_model.predict(rfe_train_sm)"
   ]
  },
  {
   "cell_type": "code",
   "execution_count": null,
   "id": "c0a6bf21",
   "metadata": {},
   "outputs": [],
   "source": [
    "y_train_pred[0:10]"
   ]
  },
  {
   "cell_type": "code",
   "execution_count": null,
   "id": "6adeb285",
   "metadata": {},
   "outputs": [],
   "source": [
    "y_train_pred = y_train_pred.values.reshape(-1)"
   ]
  },
  {
   "cell_type": "code",
   "execution_count": null,
   "id": "7057ab4b",
   "metadata": {},
   "outputs": [],
   "source": [
    "y_train_pred.shape"
   ]
  },
  {
   "cell_type": "code",
   "execution_count": null,
   "id": "03030ea4",
   "metadata": {},
   "outputs": [],
   "source": [
    "### Creating new dataframe with actual churn flag and the predicted probabilities\n",
    "y_train_pred_final = pd.DataFrame({'Churn':y_train.values, 'Churn_prob': y_train_pred, 'CustID':y_train.index})"
   ]
  },
  {
   "cell_type": "code",
   "execution_count": null,
   "id": "eadf116f",
   "metadata": {},
   "outputs": [],
   "source": [
    "y_train_pred_final.head()"
   ]
  },
  {
   "cell_type": "code",
   "execution_count": null,
   "id": "84bfbe5e",
   "metadata": {},
   "outputs": [],
   "source": [
    "# Now lets take threshold as 0.5, so if pred probability is greater than 0.5 Churn is 1 else 0 \n",
    "y_train_pred_final['predicted'] = y_train_pred_final.Churn_prob.apply(lambda x : 1 if x > 0.5 else 0)"
   ]
  },
  {
   "cell_type": "code",
   "execution_count": null,
   "id": "99785ba5",
   "metadata": {},
   "outputs": [],
   "source": [
    "y_train_pred_final.head(20)"
   ]
  },
  {
   "cell_type": "code",
   "execution_count": null,
   "id": "9713dd89",
   "metadata": {},
   "outputs": [],
   "source": [
    "y_train_pred_final.predicted.value_counts()"
   ]
  },
  {
   "cell_type": "code",
   "execution_count": null,
   "id": "bbac95e9",
   "metadata": {},
   "outputs": [],
   "source": [
    "y_train_pred_final.Churn.value_counts()"
   ]
  },
  {
   "cell_type": "markdown",
   "id": "8bde6d80",
   "metadata": {},
   "source": [
    "- Here we have choosen threshold as 0.5 at random. The predicted values definitly will have some errors, like:\n",
    "    - 'Churn' customers are predicted as 'Non-Churn'\n",
    "    - 'Non-Churn' customers are predicted as 'Churn'"
   ]
  },
  {
   "cell_type": "markdown",
   "id": "ff070537",
   "metadata": {},
   "source": [
    "- Lets use some of the metrics to see model performace \n",
    "    - The simplest model evaluation metric for classification models is **accuracy** - it is the percentage of correctly predicted labels\n",
    "    - **Accuracy** = (Correctly predicted labels)/(Total number of labels)"
   ]
  },
  {
   "cell_type": "code",
   "execution_count": null,
   "id": "e9245f5f",
   "metadata": {},
   "outputs": [],
   "source": [
    "len(y_train_pred_final[y_train_pred_final.Churn == y_train_pred_final.predicted])"
   ]
  },
  {
   "cell_type": "code",
   "execution_count": null,
   "id": "187d8a35",
   "metadata": {},
   "outputs": [],
   "source": [
    "len(y_train_pred_final)"
   ]
  },
  {
   "cell_type": "code",
   "execution_count": null,
   "id": "7a42a143",
   "metadata": {},
   "outputs": [],
   "source": [
    "4010/4930"
   ]
  },
  {
   "cell_type": "code",
   "execution_count": null,
   "id": "9483fe89",
   "metadata": {},
   "outputs": [],
   "source": [
    "from sklearn import metrics"
   ]
  },
  {
   "cell_type": "code",
   "execution_count": null,
   "id": "3a170914",
   "metadata": {},
   "outputs": [],
   "source": [
    "confusion = metrics.confusion_matrix(y_train_pred_final.Churn, y_train_pred_final.predicted)"
   ]
  },
  {
   "cell_type": "code",
   "execution_count": null,
   "id": "a6b82583",
   "metadata": {},
   "outputs": [],
   "source": [
    "confusion"
   ]
  },
  {
   "cell_type": "code",
   "execution_count": null,
   "id": "be2fa2e4",
   "metadata": {},
   "outputs": [],
   "source": [
    "#predicated     non-churn     churn\n",
    "#actuals\n",
    "#non-churn        3259         368\n",
    "#churn            552         751"
   ]
  },
  {
   "cell_type": "code",
   "execution_count": null,
   "id": "e3cd0b55",
   "metadata": {},
   "outputs": [],
   "source": [
    "print(metrics.accuracy_score(y_train_pred_final.Churn, y_train_pred_final.predicted))"
   ]
  },
  {
   "cell_type": "markdown",
   "id": "1ed28733",
   "metadata": {},
   "source": [
    "### Manual feature elimination\n",
    "- RFE has given 15 features. There are high value of correlations present between 15 features, i.e, there is still come multicollinearity among the features\n",
    "- Lets use VIF - Variation infaltion factor, to eliminate redundant features"
   ]
  },
  {
   "cell_type": "code",
   "execution_count": null,
   "id": "4d4ce402",
   "metadata": {},
   "outputs": [],
   "source": [
    "from statsmodels.stats.outliers_influence import variance_inflation_factor"
   ]
  },
  {
   "cell_type": "code",
   "execution_count": null,
   "id": "1350c439",
   "metadata": {},
   "outputs": [],
   "source": [
    "def calculate_vif(df):\n",
    "    vif = pd.DataFrame()\n",
    "    vif['Feature'] = df.columns\n",
    "    vif['VIF'] = [variance_inflation_factor(df.values,i) for i in range(df.shape[1])]\n",
    "    vif['VIF'] = round(vif['VIF'],2)\n",
    "    vif = vif.sort_values(by='VIF',ascending=False)\n",
    "    return vif"
   ]
  },
  {
   "cell_type": "code",
   "execution_count": null,
   "id": "0061ac8c",
   "metadata": {},
   "outputs": [],
   "source": [
    "calculate_vif(X_train_rfe)"
   ]
  },
  {
   "cell_type": "markdown",
   "id": "e5935290",
   "metadata": {},
   "source": [
    "- VIF of feature 'MonthlyCharges' is too high, hence dropping"
   ]
  },
  {
   "cell_type": "code",
   "execution_count": null,
   "id": "e5a22069",
   "metadata": {},
   "outputs": [],
   "source": [
    "X_train_rfe = X_train_rfe.drop('MonthlyCharges', axis=1) "
   ]
  },
  {
   "cell_type": "code",
   "execution_count": null,
   "id": "2803733e",
   "metadata": {},
   "outputs": [],
   "source": [
    "X_train_rfe.columns"
   ]
  },
  {
   "cell_type": "code",
   "execution_count": null,
   "id": "d29fee47",
   "metadata": {},
   "outputs": [],
   "source": [
    "#rebuild the model \n",
    "model_2, df = build_statsmodel(X_train_rfe, y_train)"
   ]
  },
  {
   "cell_type": "code",
   "execution_count": null,
   "id": "b2cb0531",
   "metadata": {},
   "outputs": [],
   "source": [
    "print(model_2.summary())"
   ]
  },
  {
   "cell_type": "code",
   "execution_count": null,
   "id": "2656987c",
   "metadata": {},
   "outputs": [],
   "source": [
    "y_train_pred = model_2.predict(df).values.reshape(-1)"
   ]
  },
  {
   "cell_type": "code",
   "execution_count": null,
   "id": "36961f02",
   "metadata": {},
   "outputs": [],
   "source": [
    "y_train_pred[0:10]"
   ]
  },
  {
   "cell_type": "code",
   "execution_count": null,
   "id": "52bb0585",
   "metadata": {},
   "outputs": [],
   "source": [
    "#Update the churn_prob column \n",
    "y_train_pred_final.head()"
   ]
  },
  {
   "cell_type": "code",
   "execution_count": null,
   "id": "32fe1910",
   "metadata": {},
   "outputs": [],
   "source": [
    "y_train_pred_final['Churn_prob'] = y_train_pred"
   ]
  },
  {
   "cell_type": "code",
   "execution_count": null,
   "id": "73157529",
   "metadata": {},
   "outputs": [],
   "source": [
    "y_train_pred_final.head()"
   ]
  },
  {
   "cell_type": "code",
   "execution_count": null,
   "id": "a4312434",
   "metadata": {},
   "outputs": [],
   "source": [
    "#update the predicted values based on new probablities \n",
    "y_train_pred_final['predicted'] = y_train_pred_final.Churn_prob.apply(lambda x : 1 if x>0.5 else 0)"
   ]
  },
  {
   "cell_type": "code",
   "execution_count": null,
   "id": "cc067264",
   "metadata": {},
   "outputs": [],
   "source": [
    "#get accuracy\n",
    "print(metrics.accuracy_score(y_train_pred_final.Churn, y_train_pred_final.predicted))"
   ]
  },
  {
   "cell_type": "markdown",
   "id": "5875781a",
   "metadata": {},
   "source": [
    "- So overall accuracy doesn't change much - Which means we hasn't loose much information"
   ]
  },
  {
   "cell_type": "code",
   "execution_count": null,
   "id": "9c82c8dc",
   "metadata": {},
   "outputs": [],
   "source": [
    "#Lets recheck the VIF values again for multicollinearity \n",
    "calculate_vif(X_train_rfe)"
   ]
  },
  {
   "cell_type": "markdown",
   "id": "7ca4b8b6",
   "metadata": {},
   "source": [
    "- Value of VIF is more for feature 'tenure', hence dropping"
   ]
  },
  {
   "cell_type": "code",
   "execution_count": null,
   "id": "f1172db5",
   "metadata": {},
   "outputs": [],
   "source": [
    "X_train_3 = X_train_rfe.drop('tenure', axis=1) "
   ]
  },
  {
   "cell_type": "code",
   "execution_count": null,
   "id": "90de0c28",
   "metadata": {},
   "outputs": [],
   "source": [
    "X_train_3.columns"
   ]
  },
  {
   "cell_type": "code",
   "execution_count": null,
   "id": "1633a547",
   "metadata": {},
   "outputs": [],
   "source": [
    "#re-build the model\n",
    "model_3, df = build_statsmodel(X_train_3, y_train)\n",
    "print(model_3.summary())"
   ]
  },
  {
   "cell_type": "code",
   "execution_count": null,
   "id": "e646fe20",
   "metadata": {},
   "outputs": [],
   "source": [
    "y_train_pred = model_3.predict(df).values.reshape(-1)"
   ]
  },
  {
   "cell_type": "code",
   "execution_count": null,
   "id": "4ee14f35",
   "metadata": {},
   "outputs": [],
   "source": [
    "y_train_pred_final['Churn_prob'] = y_train_pred"
   ]
  },
  {
   "cell_type": "code",
   "execution_count": null,
   "id": "9a06b6d5",
   "metadata": {},
   "outputs": [],
   "source": [
    "#update the predicted values based on new probablities \n",
    "y_train_pred_final['predicted'] = y_train_pred_final.Churn_prob.apply(lambda x : 1 if x>0.5 else 0)"
   ]
  },
  {
   "cell_type": "code",
   "execution_count": null,
   "id": "cc215600",
   "metadata": {},
   "outputs": [],
   "source": [
    "#get accuracy\n",
    "print(metrics.accuracy_score(y_train_pred_final.Churn, y_train_pred_final.predicted))"
   ]
  },
  {
   "cell_type": "code",
   "execution_count": null,
   "id": "14748925",
   "metadata": {},
   "outputs": [],
   "source": [
    "calculate_vif(X_train_3)"
   ]
  },
  {
   "cell_type": "markdown",
   "id": "b7221888",
   "metadata": {},
   "source": [
    "- Again we see feature 'PhoneService' has higher VIF, hence dropping"
   ]
  },
  {
   "cell_type": "code",
   "execution_count": null,
   "id": "e154a099",
   "metadata": {},
   "outputs": [],
   "source": [
    "X_train_4 = X_train_3.drop('PhoneService', axis=1)"
   ]
  },
  {
   "cell_type": "code",
   "execution_count": null,
   "id": "1d6de6d1",
   "metadata": {},
   "outputs": [],
   "source": [
    "#Rebuild the model\n",
    "model_4, df = build_statsmodel(X_train_4, y_train)\n",
    "print(model_4.summary())"
   ]
  },
  {
   "cell_type": "code",
   "execution_count": null,
   "id": "b9d347f6",
   "metadata": {},
   "outputs": [],
   "source": [
    "y_train_pred = model_4.predict(df).values.reshape(-1)"
   ]
  },
  {
   "cell_type": "code",
   "execution_count": null,
   "id": "73ed17ec",
   "metadata": {},
   "outputs": [],
   "source": [
    "y_train_pred_final['Churn_prob'] = y_train_pred"
   ]
  },
  {
   "cell_type": "code",
   "execution_count": null,
   "id": "40638cf4",
   "metadata": {},
   "outputs": [],
   "source": [
    "#update the predicted values based on new probablities \n",
    "y_train_pred_final['predicted'] = y_train_pred_final.Churn_prob.apply(lambda x : 1 if x>0.5 else 0)"
   ]
  },
  {
   "cell_type": "code",
   "execution_count": null,
   "id": "fdb3d065",
   "metadata": {},
   "outputs": [],
   "source": [
    "#get accuracy\n",
    "print(metrics.accuracy_score(y_train_pred_final.Churn, y_train_pred_final.predicted))"
   ]
  },
  {
   "cell_type": "markdown",
   "id": "aefb90e9",
   "metadata": {},
   "source": [
    "- Accurany hasn't changed much, hence no information is lost"
   ]
  },
  {
   "cell_type": "code",
   "execution_count": null,
   "id": "8ba64265",
   "metadata": {},
   "outputs": [],
   "source": [
    "#vif again\n",
    "calculate_vif(X_train_4)"
   ]
  },
  {
   "cell_type": "markdown",
   "id": "76f9a891",
   "metadata": {},
   "source": [
    "- Feature 'TotalCharges' has higher VIF, hence dropping"
   ]
  },
  {
   "cell_type": "code",
   "execution_count": null,
   "id": "dac2b0b3",
   "metadata": {},
   "outputs": [],
   "source": [
    "X_train_5 = X_train_4.drop('TotalCharges', axis=1)"
   ]
  },
  {
   "cell_type": "code",
   "execution_count": null,
   "id": "5875f46e",
   "metadata": {},
   "outputs": [],
   "source": [
    "#rebuild model\n",
    "model_5, df = build_statsmodel(X_train_5, y_train)\n",
    "print(model_5.summary())"
   ]
  },
  {
   "cell_type": "code",
   "execution_count": null,
   "id": "098c5c88",
   "metadata": {},
   "outputs": [],
   "source": [
    "y_train_pred = model_5.predict(df).values.reshape(-1)\n",
    "y_train_pred_final['Churn_prob'] = y_train_pred\n",
    "#update the predicted values based on new probablities \n",
    "y_train_pred_final['predicted'] = y_train_pred_final.Churn_prob.apply(lambda x : 1 if x>0.5 else 0)"
   ]
  },
  {
   "cell_type": "code",
   "execution_count": null,
   "id": "e1ff1783",
   "metadata": {},
   "outputs": [],
   "source": [
    "#get accuracy\n",
    "print(metrics.accuracy_score(y_train_pred_final.Churn, y_train_pred_final.predicted))"
   ]
  },
  {
   "cell_type": "code",
   "execution_count": null,
   "id": "d89bc397",
   "metadata": {},
   "outputs": [],
   "source": [
    "#vif again\n",
    "calculate_vif(X_train_5)"
   ]
  },
  {
   "cell_type": "markdown",
   "id": "03d77601",
   "metadata": {},
   "source": [
    "- Now all vif's are below 5. Hence Model_5 is final model"
   ]
  },
  {
   "cell_type": "code",
   "execution_count": null,
   "id": "add82389",
   "metadata": {},
   "outputs": [],
   "source": [
    "model_5.params"
   ]
  },
  {
   "cell_type": "markdown",
   "id": "71ee9611",
   "metadata": {},
   "source": [
    "### Metrics beyond accuracy"
   ]
  },
  {
   "cell_type": "code",
   "execution_count": null,
   "id": "90c24d30",
   "metadata": {},
   "outputs": [],
   "source": [
    "confusion"
   ]
  },
  {
   "cell_type": "code",
   "execution_count": null,
   "id": "1a067d8f",
   "metadata": {},
   "outputs": [],
   "source": [
    "TN = confusion[0,0]\n",
    "FP = confusion[0,1]\n",
    "FN = confusion[1,0]\n",
    "TP = confusion[1,1]\n",
    "\n",
    "# TN FP\n",
    "# FN TP"
   ]
  },
  {
   "cell_type": "markdown",
   "id": "8edc18db",
   "metadata": {},
   "source": [
    "- Sensitivity - Number of actual Yeses correctly predicted/Total number of actual Yeses\n",
    "        Sensitivity = TP/(TP+FN)\n",
    "\n",
    "- Specificity - Number of actual Noes correctly predicted/Total numer of actual Noes\n",
    "        Specificity = TN/(TN+FP)\n",
    "        \n",
    "- False Positive Rate \n",
    "        FPR = FP/(TN+FP)\n",
    "       \n",
    "- Positive Predictive Value\n",
    "        PPV = TP/(TP+FP)\n",
    "\n",
    "- Negative Predictive Value\n",
    "        NPV = TN/(TN+FN)"
   ]
  },
  {
   "cell_type": "code",
   "execution_count": null,
   "id": "4e4b7251",
   "metadata": {},
   "outputs": [],
   "source": [
    "sensitivity = TP/(TP+FN)\n",
    "specificity = TN/(TN+FP)\n",
    "FPR = FP/(TN+FP)\n",
    "PPV = TP/(TP+FP)\n",
    "NPV = TN/(TN+FN)"
   ]
  },
  {
   "cell_type": "code",
   "execution_count": null,
   "id": "aea8dfd9",
   "metadata": {},
   "outputs": [],
   "source": [
    "sensitivity, specificity, FPR, PPV, NPV"
   ]
  },
  {
   "cell_type": "markdown",
   "id": "227d3208",
   "metadata": {},
   "source": [
    "### ROC Curve \n",
    "- ROC (Receiver Operating Characteristic) Curve shows trade off between True Positive Rate (Sensitivity) and False Positive Rate (1 - Specificity) "
   ]
  },
  {
   "cell_type": "code",
   "execution_count": 43,
   "id": "a0947372",
   "metadata": {},
   "outputs": [],
   "source": [
    "def draw_roc(actuals, prob):\n",
    "    \"\"\"\n",
    "    Function to take actual and prob values and draw ROC curve \n",
    "    auc -> Area Under Curve\n",
    "    \"\"\"\n",
    "    fpr, tpr, thresholds = metrics.roc_curve(actuals, prob, drop_intermediate=True)\n",
    "    auc_score = metrics.roc_auc_score(actuals, prob)\n",
    "    plt.figure(figsize=(5,5))\n",
    "    plt.plot(fpr, tpr, label = f'Area Under Curve: {round(auc_score,2)}')\n",
    "    plt.plot([0,1],[0,1], 'k--')\n",
    "    plt.xlim([0.0, 1.0])\n",
    "    plt.ylim([0.0, 1.05])\n",
    "    plt.xlabel('False Positive Rate')\n",
    "    plt.ylabel('True Positive Rate')\n",
    "    plt.legend()\n",
    "    plt.show()"
   ]
  },
  {
   "cell_type": "code",
   "execution_count": null,
   "id": "f628b718",
   "metadata": {},
   "outputs": [],
   "source": [
    "draw_roc(y_train_pred_final.Churn, y_train_pred_final.Churn_prob)"
   ]
  },
  {
   "cell_type": "markdown",
   "id": "adce54a6",
   "metadata": {},
   "source": [
    "#### Finding Optimal cutoff point i.e. Threshold for max AUC"
   ]
  },
  {
   "cell_type": "code",
   "execution_count": null,
   "id": "00b2adb5",
   "metadata": {},
   "outputs": [],
   "source": [
    "#Lets create columns with different probability cutoffs (threshold)\n",
    "numbers = [float(x)/10 for x in range(10)]"
   ]
  },
  {
   "cell_type": "code",
   "execution_count": null,
   "id": "78dd3862",
   "metadata": {},
   "outputs": [],
   "source": [
    "numbers"
   ]
  },
  {
   "cell_type": "code",
   "execution_count": null,
   "id": "ce9369e2",
   "metadata": {},
   "outputs": [],
   "source": [
    "for i in numbers:\n",
    "    y_train_pred_final[i] = y_train_pred_final.Churn_prob.map(lambda x: 1 if x > i else 0)\n",
    "y_train_pred_final.head()"
   ]
  },
  {
   "cell_type": "code",
   "execution_count": null,
   "id": "d7dcf639",
   "metadata": {},
   "outputs": [],
   "source": [
    "#Now lets calculate 3 metrics ofor each cut-off (threshold) value, which are, Sensitivity, Specificity and Accuracy"
   ]
  },
  {
   "cell_type": "code",
   "execution_count": null,
   "id": "02280c15",
   "metadata": {},
   "outputs": [],
   "source": [
    "cutoff_df = pd.DataFrame(columns=['prob', 'accuracy', 'sensitivity', 'specificity'])\n",
    "cutoff_df.head()"
   ]
  },
  {
   "cell_type": "code",
   "execution_count": null,
   "id": "d29b7fa3",
   "metadata": {},
   "outputs": [],
   "source": [
    "for i in numbers:\n",
    "    confusion = metrics.confusion_matrix(y_train_pred_final.Churn, y_train_pred_final[i])\n",
    "    TN = confusion[0,0]\n",
    "    FP = confusion[0,1]\n",
    "    FN = confusion[1,0]\n",
    "    TP = confusion[1,1]\n",
    "    accuracy = metrics.accuracy_score(y_train_pred_final.Churn, y_train_pred_final[i])\n",
    "    sens = TP/(TP+FN)\n",
    "    spec = TN/(TN+FP)\n",
    "    cutoff_df.loc[i] = [i, accuracy, sens, spec]"
   ]
  },
  {
   "cell_type": "code",
   "execution_count": null,
   "id": "bbfb404e",
   "metadata": {},
   "outputs": [],
   "source": [
    "print(cutoff_df)"
   ]
  },
  {
   "cell_type": "code",
   "execution_count": null,
   "id": "f41d7ef8",
   "metadata": {},
   "outputs": [],
   "source": [
    "cutoff_df.plot.line(x='prob', y=['accuracy','sensitivity','specificity'])"
   ]
  },
  {
   "cell_type": "markdown",
   "id": "86ce62a2",
   "metadata": {},
   "source": [
    "#### From above curve,  0.3 is the optimum point to take ia as a cutoff probability "
   ]
  },
  {
   "cell_type": "code",
   "execution_count": null,
   "id": "c2279210",
   "metadata": {},
   "outputs": [],
   "source": [
    "cutoff_df.loc[0.3]"
   ]
  },
  {
   "cell_type": "markdown",
   "id": "bd9bae51",
   "metadata": {},
   "source": [
    "### Precision and Recall\n",
    "- Precision - Out of total Yeses predicted, how many are actually Yes\n",
    "    - Precision = TP/(TP + FP)\n",
    "- Recall - Out of total Yeses actual, how may yeses are predicted\n",
    "    - Recall = TP/(TP + FN)"
   ]
  },
  {
   "cell_type": "code",
   "execution_count": null,
   "id": "b902e22f",
   "metadata": {},
   "outputs": [],
   "source": [
    "#Create new confusion metrix with threshold as 0.3\n",
    "y_train_pred = model_5.predict(df).values.reshape(-1)\n",
    "y_train_pred_final['Churn_prob_final'] = y_train_pred\n",
    "#update the predicted values based on new probablities \n",
    "y_train_pred_final['predicted_final'] = y_train_pred_final.Churn_prob_final.apply(lambda x : 1 if x>0.3 else 0)"
   ]
  },
  {
   "cell_type": "code",
   "execution_count": null,
   "id": "56df7885",
   "metadata": {},
   "outputs": [],
   "source": [
    "confusion = metrics.confusion_matrix(y_train_pred_final.Churn, y_train_pred_final.predicted_final)"
   ]
  },
  {
   "cell_type": "code",
   "execution_count": null,
   "id": "513dfabe",
   "metadata": {},
   "outputs": [],
   "source": [
    "confusion"
   ]
  },
  {
   "cell_type": "code",
   "execution_count": null,
   "id": "403e06e6",
   "metadata": {},
   "outputs": [],
   "source": [
    "precision = confusion[1,1]/(confusion[1,1] + confusion[0,1])\n",
    "recall = confusion[1,1]/(confusion[1,1] + confusion[1,0])"
   ]
  },
  {
   "cell_type": "code",
   "execution_count": null,
   "id": "858ad5ac",
   "metadata": {},
   "outputs": [],
   "source": [
    "precision, recall"
   ]
  },
  {
   "cell_type": "code",
   "execution_count": null,
   "id": "bf53b4fa",
   "metadata": {},
   "outputs": [],
   "source": [
    "#Using inbuild methods for precision and recall\n",
    "from sklearn.metrics import precision_score, recall_score, precision_recall_curve"
   ]
  },
  {
   "cell_type": "code",
   "execution_count": null,
   "id": "a3988778",
   "metadata": {},
   "outputs": [],
   "source": [
    "precision_final_model = precision_score(y_train_pred_final.Churn, y_train_pred_final.predicted_final)\n",
    "recall_final_model = recall_score(y_train_pred_final.Churn, y_train_pred_final.predicted_final)"
   ]
  },
  {
   "cell_type": "code",
   "execution_count": null,
   "id": "47dc5907",
   "metadata": {},
   "outputs": [],
   "source": [
    "precision_final_model, recall_final_model"
   ]
  },
  {
   "cell_type": "code",
   "execution_count": null,
   "id": "a52cac2e",
   "metadata": {},
   "outputs": [],
   "source": [
    "precision_base_model = precision_score(y_train_pred_final.Churn, y_train_pred_final.predicted)\n",
    "recall_base_model = recall_score(y_train_pred_final.Churn, y_train_pred_final.predicted)"
   ]
  },
  {
   "cell_type": "code",
   "execution_count": null,
   "id": "b19368f2",
   "metadata": {},
   "outputs": [],
   "source": [
    "precision_base_model, recall_base_model"
   ]
  },
  {
   "cell_type": "markdown",
   "id": "6b0012de",
   "metadata": {},
   "source": [
    "#### Plot Precision Recall Curve"
   ]
  },
  {
   "cell_type": "code",
   "execution_count": null,
   "id": "2cbb6387",
   "metadata": {},
   "outputs": [],
   "source": [
    "p, r, threshold = precision_recall_curve(y_train_pred_final.Churn, y_train_pred_final.Churn_prob)"
   ]
  },
  {
   "cell_type": "code",
   "execution_count": null,
   "id": "8c628c1c",
   "metadata": {},
   "outputs": [],
   "source": [
    "plt.plot(threshold, p[:-1],\"g-\", label='Precision')\n",
    "plt.plot(threshold, r[:-1], \"r-\", label = 'Recall')\n",
    "plt.legend()\n",
    "plt.show()"
   ]
  },
  {
   "cell_type": "code",
   "execution_count": null,
   "id": "c8562160",
   "metadata": {},
   "outputs": [],
   "source": [
    "p, r, threshold = precision_recall_curve(y_train_pred_final.Churn, y_train_pred_final.Churn_prob_final)\n",
    "plt.plot(threshold, p[:-1],\"g-\", label='Precision')\n",
    "plt.plot(threshold, r[:-1], \"r-\", label = 'Recall')\n",
    "plt.legend()\n",
    "plt.show()"
   ]
  },
  {
   "cell_type": "markdown",
   "id": "cbc001e0",
   "metadata": {},
   "source": [
    "### Making prediction on test set"
   ]
  },
  {
   "cell_type": "code",
   "execution_count": null,
   "id": "cc4ae514",
   "metadata": {},
   "outputs": [],
   "source": [
    "#Making predictions on test set using final model, which is model no 5 in this case"
   ]
  },
  {
   "cell_type": "code",
   "execution_count": null,
   "id": "0417c329",
   "metadata": {},
   "outputs": [],
   "source": [
    "#1. Scaling the features using object of train set.\n",
    "X_test.head()"
   ]
  },
  {
   "cell_type": "code",
   "execution_count": null,
   "id": "34b98911",
   "metadata": {},
   "outputs": [],
   "source": [
    "con_feat"
   ]
  },
  {
   "cell_type": "code",
   "execution_count": null,
   "id": "b5fe05b5",
   "metadata": {},
   "outputs": [],
   "source": [
    "X_test[con_feat] = scalar.transform(X_test[con_feat])"
   ]
  },
  {
   "cell_type": "code",
   "execution_count": null,
   "id": "5da27075",
   "metadata": {},
   "outputs": [],
   "source": [
    "X_test[con_feat].describe()"
   ]
  },
  {
   "cell_type": "code",
   "execution_count": null,
   "id": "580cbe07",
   "metadata": {},
   "outputs": [],
   "source": [
    "#Use columns same as what we used to build final model, model#5\n",
    "final_cols = X_train_5.columns"
   ]
  },
  {
   "cell_type": "code",
   "execution_count": null,
   "id": "55c12da4",
   "metadata": {},
   "outputs": [],
   "source": [
    "X_test=X_test[final_cols]"
   ]
  },
  {
   "cell_type": "code",
   "execution_count": null,
   "id": "f7d8dafd",
   "metadata": {},
   "outputs": [],
   "source": [
    "#Add constant\n",
    "X_test_sm = sm.add_constant(X_test)"
   ]
  },
  {
   "cell_type": "code",
   "execution_count": null,
   "id": "b2d24f11",
   "metadata": {},
   "outputs": [],
   "source": [
    "X_test_sm.head()"
   ]
  },
  {
   "cell_type": "code",
   "execution_count": null,
   "id": "58ed2c15",
   "metadata": {},
   "outputs": [],
   "source": [
    "#Predict the target using final model\n",
    "y_test_pred = model_5.predict(X_test_sm)"
   ]
  },
  {
   "cell_type": "code",
   "execution_count": null,
   "id": "6c8854ad",
   "metadata": {},
   "outputs": [],
   "source": [
    "#converting y_test_pred into dataframe\n",
    "y_pred_1 = pd.DataFrame(y_test_pred)"
   ]
  },
  {
   "cell_type": "code",
   "execution_count": null,
   "id": "b299f0ae",
   "metadata": {},
   "outputs": [],
   "source": [
    "y_pred_1.head()"
   ]
  },
  {
   "cell_type": "code",
   "execution_count": null,
   "id": "82732a32",
   "metadata": {},
   "outputs": [],
   "source": [
    "y_test_df = pd.DataFrame(y_test)"
   ]
  },
  {
   "cell_type": "code",
   "execution_count": null,
   "id": "db55ae58",
   "metadata": {},
   "outputs": [],
   "source": [
    "y_test_df.head()"
   ]
  },
  {
   "cell_type": "code",
   "execution_count": null,
   "id": "ae3a6829",
   "metadata": {},
   "outputs": [],
   "source": [
    "y_test_df['Cust_ID'] = y_test_df.index"
   ]
  },
  {
   "cell_type": "code",
   "execution_count": null,
   "id": "f3a62d59",
   "metadata": {},
   "outputs": [],
   "source": [
    "y_test_df.head()"
   ]
  },
  {
   "cell_type": "code",
   "execution_count": null,
   "id": "84626dd6",
   "metadata": {},
   "outputs": [],
   "source": [
    "#Removing index of both dataframes to append them side by side \n",
    "y_pred_1.reset_index(drop=True,inplace=True)\n",
    "y_test_df.reset_index(drop=True, inplace=True)"
   ]
  },
  {
   "cell_type": "code",
   "execution_count": null,
   "id": "3be1e0fd",
   "metadata": {},
   "outputs": [],
   "source": [
    "y_pred_final = pd.concat([y_pred_1, y_test_df], axis=1)"
   ]
  },
  {
   "cell_type": "code",
   "execution_count": null,
   "id": "eb46ad19",
   "metadata": {},
   "outputs": [],
   "source": [
    "y_pred_final.columns = ['Churn_prob','Churn','Cust_ID']\n",
    "y_pred_final.head()"
   ]
  },
  {
   "cell_type": "code",
   "execution_count": null,
   "id": "e3eeb11c",
   "metadata": {},
   "outputs": [],
   "source": [
    "#Now use agreed threshold\n",
    "y_pred_final['pred'] = y_pred_final.Churn_prob.apply(lambda x : 1 if x>0.3 else 0)"
   ]
  },
  {
   "cell_type": "code",
   "execution_count": null,
   "id": "07aff21a",
   "metadata": {},
   "outputs": [],
   "source": [
    "y_pred_final.head(3)"
   ]
  },
  {
   "cell_type": "code",
   "execution_count": null,
   "id": "d77f6724",
   "metadata": {},
   "outputs": [],
   "source": [
    "precision = precision_score(y_pred_final.Churn, y_pred_final.pred)\n",
    "recall = recall_score(y_pred_final.Churn, y_pred_final.pred)\n"
   ]
  },
  {
   "cell_type": "code",
   "execution_count": null,
   "id": "4b33cb3a",
   "metadata": {},
   "outputs": [],
   "source": [
    "precision, recall"
   ]
  },
  {
   "cell_type": "code",
   "execution_count": null,
   "id": "cfcb2506",
   "metadata": {},
   "outputs": [],
   "source": [
    "metrics.accuracy_score(y_pred_final.Churn, y_pred_final.pred)"
   ]
  },
  {
   "cell_type": "code",
   "execution_count": null,
   "id": "36afd7b9",
   "metadata": {},
   "outputs": [],
   "source": [
    "y_pred_final.pred.value_counts()"
   ]
  },
  {
   "cell_type": "code",
   "execution_count": null,
   "id": "f31e70a3",
   "metadata": {},
   "outputs": [],
   "source": [
    "y_pred_final.Churn.value_counts()"
   ]
  },
  {
   "cell_type": "code",
   "execution_count": null,
   "id": "bfc59e73",
   "metadata": {},
   "outputs": [],
   "source": [
    "def get_all_metrics(actual, pred):\n",
    "    precision = str(round(precision_score(actual, pred),3)*100)+'%'\n",
    "    recall = str(round(recall_score(actual, pred),3)*100)+'%'\n",
    "    acc = str(round(metrics.accuracy_score(actual, pred),2)*100)+'%'\n",
    "    confusion = metrics.confusion_matrix(actual, pred)\n",
    "    TN = confusion[0,0]\n",
    "    FP = confusion[0,1]\n",
    "    FN = confusion[1,0]\n",
    "    TP = confusion[1,1]\n",
    "    sens = str(round(TP/(TP+FN),3)*100)+'%'\n",
    "    spec = str(round(TN/(TN+FP),3)*100)+'%'\n",
    "    print(f\"\"\"Precision            : {precision} -> Total number of actual 1's from all predicted 1's \"\"\")\n",
    "    print(f\"\"\"Recall/Sensitivity   : {recall} -> Total numbers of predicted 1's from actual no. of 1's\"\"\")\n",
    "    print(f\"\"\"Specificity          : {spec} -> Total numbers of predicted 0's from actual no. of 0's\"\"\")\n",
    "    print(f\"\"\"Accuracy             : {acc} -> Total predicted 1's and 0's from actual 1's and 0's\"\"\")"
   ]
  },
  {
   "cell_type": "code",
   "execution_count": null,
   "id": "3df9c08c",
   "metadata": {},
   "outputs": [],
   "source": [
    "get_all_metrics(y_pred_final.Churn, y_pred_final.pred)"
   ]
  },
  {
   "cell_type": "code",
   "execution_count": null,
   "id": "8a1c22be",
   "metadata": {},
   "outputs": [],
   "source": []
  },
  {
   "cell_type": "code",
   "execution_count": null,
   "id": "532655df",
   "metadata": {},
   "outputs": [],
   "source": []
  },
  {
   "cell_type": "code",
   "execution_count": null,
   "id": "7db11f05",
   "metadata": {},
   "outputs": [],
   "source": []
  },
  {
   "cell_type": "code",
   "execution_count": null,
   "id": "51c773e7",
   "metadata": {},
   "outputs": [],
   "source": []
  },
  {
   "cell_type": "code",
   "execution_count": null,
   "id": "b1c31717",
   "metadata": {},
   "outputs": [],
   "source": []
  },
  {
   "cell_type": "code",
   "execution_count": null,
   "id": "5dc74cef",
   "metadata": {},
   "outputs": [],
   "source": []
  },
  {
   "cell_type": "code",
   "execution_count": null,
   "id": "e8599c24",
   "metadata": {},
   "outputs": [],
   "source": []
  },
  {
   "cell_type": "code",
   "execution_count": null,
   "id": "89d6bc9c",
   "metadata": {},
   "outputs": [],
   "source": []
  },
  {
   "cell_type": "code",
   "execution_count": null,
   "id": "2d3b06e5",
   "metadata": {},
   "outputs": [],
   "source": []
  }
 ],
 "metadata": {
  "kernelspec": {
   "display_name": "Python 3 (ipykernel)",
   "language": "python",
   "name": "python3"
  },
  "language_info": {
   "codemirror_mode": {
    "name": "ipython",
    "version": 3
   },
   "file_extension": ".py",
   "mimetype": "text/x-python",
   "name": "python",
   "nbconvert_exporter": "python",
   "pygments_lexer": "ipython3",
   "version": "3.9.7"
  }
 },
 "nbformat": 4,
 "nbformat_minor": 5
}
