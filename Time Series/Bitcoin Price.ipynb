{
 "cells": [
  {
   "cell_type": "code",
   "execution_count": 1,
   "id": "b764e8d1",
   "metadata": {},
   "outputs": [],
   "source": [
    "import pandas as pd\n",
    "import numpy as np \n",
    "import matplotlib.pyplot as plt\n",
    "%matplotlib inline\n",
    "\n",
    "import warnings \n",
    "warnings.filterwarnings('ignore')\n",
    "\n",
    "from sklearn.metrics import mean_squared_error, mean_absolute_percentage_error"
   ]
  },
  {
   "cell_type": "code",
   "execution_count": 2,
   "id": "f687850e",
   "metadata": {},
   "outputs": [
    {
     "data": {
      "text/html": [
       "<div>\n",
       "<style scoped>\n",
       "    .dataframe tbody tr th:only-of-type {\n",
       "        vertical-align: middle;\n",
       "    }\n",
       "\n",
       "    .dataframe tbody tr th {\n",
       "        vertical-align: top;\n",
       "    }\n",
       "\n",
       "    .dataframe thead th {\n",
       "        text-align: right;\n",
       "    }\n",
       "</style>\n",
       "<table border=\"1\" class=\"dataframe\">\n",
       "  <thead>\n",
       "    <tr style=\"text-align: right;\">\n",
       "      <th></th>\n",
       "      <th>price</th>\n",
       "    </tr>\n",
       "    <tr>\n",
       "      <th>months</th>\n",
       "      <th></th>\n",
       "    </tr>\n",
       "  </thead>\n",
       "  <tbody>\n",
       "    <tr>\n",
       "      <th>0</th>\n",
       "      <td>217.4</td>\n",
       "    </tr>\n",
       "    <tr>\n",
       "      <th>1</th>\n",
       "      <td>255.7</td>\n",
       "    </tr>\n",
       "    <tr>\n",
       "      <th>2</th>\n",
       "      <td>244.3</td>\n",
       "    </tr>\n",
       "    <tr>\n",
       "      <th>3</th>\n",
       "      <td>236.1</td>\n",
       "    </tr>\n",
       "    <tr>\n",
       "      <th>4</th>\n",
       "      <td>228.7</td>\n",
       "    </tr>\n",
       "    <tr>\n",
       "      <th>5</th>\n",
       "      <td>262.9</td>\n",
       "    </tr>\n",
       "    <tr>\n",
       "      <th>6</th>\n",
       "      <td>284.5</td>\n",
       "    </tr>\n",
       "    <tr>\n",
       "      <th>7</th>\n",
       "      <td>231.4</td>\n",
       "    </tr>\n",
       "    <tr>\n",
       "      <th>8</th>\n",
       "      <td>236.5</td>\n",
       "    </tr>\n",
       "    <tr>\n",
       "      <th>9</th>\n",
       "      <td>316.0</td>\n",
       "    </tr>\n",
       "    <tr>\n",
       "      <th>10</th>\n",
       "      <td>376.9</td>\n",
       "    </tr>\n",
       "    <tr>\n",
       "      <th>11</th>\n",
       "      <td>429.0</td>\n",
       "    </tr>\n",
       "    <tr>\n",
       "      <th>12</th>\n",
       "      <td>365.5</td>\n",
       "    </tr>\n",
       "    <tr>\n",
       "      <th>13</th>\n",
       "      <td>439.2</td>\n",
       "    </tr>\n",
       "    <tr>\n",
       "      <th>14</th>\n",
       "      <td>416.0</td>\n",
       "    </tr>\n",
       "    <tr>\n",
       "      <th>15</th>\n",
       "      <td>446.6</td>\n",
       "    </tr>\n",
       "    <tr>\n",
       "      <th>16</th>\n",
       "      <td>530.7</td>\n",
       "    </tr>\n",
       "    <tr>\n",
       "      <th>17</th>\n",
       "      <td>674.7</td>\n",
       "    </tr>\n",
       "    <tr>\n",
       "      <th>18</th>\n",
       "      <td>623.7</td>\n",
       "    </tr>\n",
       "    <tr>\n",
       "      <th>19</th>\n",
       "      <td>576.2</td>\n",
       "    </tr>\n",
       "    <tr>\n",
       "      <th>20</th>\n",
       "      <td>611.1</td>\n",
       "    </tr>\n",
       "    <tr>\n",
       "      <th>21</th>\n",
       "      <td>704.1</td>\n",
       "    </tr>\n",
       "    <tr>\n",
       "      <th>22</th>\n",
       "      <td>739.0</td>\n",
       "    </tr>\n",
       "    <tr>\n",
       "      <th>23</th>\n",
       "      <td>966.6</td>\n",
       "    </tr>\n",
       "    <tr>\n",
       "      <th>24</th>\n",
       "      <td>966.2</td>\n",
       "    </tr>\n",
       "    <tr>\n",
       "      <th>25</th>\n",
       "      <td>1189.1</td>\n",
       "    </tr>\n",
       "    <tr>\n",
       "      <th>26</th>\n",
       "      <td>1081.7</td>\n",
       "    </tr>\n",
       "    <tr>\n",
       "      <th>27</th>\n",
       "      <td>1435.2</td>\n",
       "    </tr>\n",
       "    <tr>\n",
       "      <th>28</th>\n",
       "      <td>2191.8</td>\n",
       "    </tr>\n",
       "    <tr>\n",
       "      <th>29</th>\n",
       "      <td>2420.7</td>\n",
       "    </tr>\n",
       "    <tr>\n",
       "      <th>30</th>\n",
       "      <td>2856.0</td>\n",
       "    </tr>\n",
       "    <tr>\n",
       "      <th>31</th>\n",
       "      <td>4268.8</td>\n",
       "    </tr>\n",
       "  </tbody>\n",
       "</table>\n",
       "</div>"
      ],
      "text/plain": [
       "         price\n",
       "months        \n",
       "0        217.4\n",
       "1        255.7\n",
       "2        244.3\n",
       "3        236.1\n",
       "4        228.7\n",
       "5        262.9\n",
       "6        284.5\n",
       "7        231.4\n",
       "8        236.5\n",
       "9        316.0\n",
       "10       376.9\n",
       "11       429.0\n",
       "12       365.5\n",
       "13       439.2\n",
       "14       416.0\n",
       "15       446.6\n",
       "16       530.7\n",
       "17       674.7\n",
       "18       623.7\n",
       "19       576.2\n",
       "20       611.1\n",
       "21       704.1\n",
       "22       739.0\n",
       "23       966.6\n",
       "24       966.2\n",
       "25      1189.1\n",
       "26      1081.7\n",
       "27      1435.2\n",
       "28      2191.8\n",
       "29      2420.7\n",
       "30      2856.0\n",
       "31      4268.8"
      ]
     },
     "execution_count": 2,
     "metadata": {},
     "output_type": "execute_result"
    }
   ],
   "source": [
    "data = pd.read_csv('bitcoinfinal+(4).csv', header=None)\n",
    "data.columns=['months','price']\n",
    "data.set_index('months', inplace=True)\n",
    "data.head(50)"
   ]
  },
  {
   "cell_type": "code",
   "execution_count": 3,
   "id": "80bdd636",
   "metadata": {
    "scrolled": true
   },
   "outputs": [
    {
     "data": {
      "text/plain": [
       "[<matplotlib.lines.Line2D at 0x7fa93001fd30>]"
      ]
     },
     "execution_count": 3,
     "metadata": {},
     "output_type": "execute_result"
    },
    {
     "data": {
      "image/png": "[encoded data removed]",
      "text/plain": [
       "<Figure size 1080x288 with 1 Axes>"
      ]
     },
     "metadata": {
      "needs_background": "light"
     },
     "output_type": "display_data"
    }
   ],
   "source": [
    "plt.figure(figsize=(15,4))\n",
    "plt.plot(data['price'])"
   ]
  },
  {
   "cell_type": "code",
   "execution_count": 4,
   "id": "b8183d23",
   "metadata": {},
   "outputs": [],
   "source": [
    "train = data[:29]\n",
    "test = data[29:]"
   ]
  },
  {
   "cell_type": "code",
   "execution_count": 5,
   "id": "f7642d70",
   "metadata": {},
   "outputs": [
    {
     "data": {
      "text/plain": [
       "(32, 1)"
      ]
     },
     "execution_count": 5,
     "metadata": {},
     "output_type": "execute_result"
    }
   ],
   "source": [
    "data.shape"
   ]
  },
  {
   "cell_type": "code",
   "execution_count": 6,
   "id": "2a81537f",
   "metadata": {},
   "outputs": [
    {
     "data": {
      "text/html": [
       "<div>\n",
       "<style scoped>\n",
       "    .dataframe tbody tr th:only-of-type {\n",
       "        vertical-align: middle;\n",
       "    }\n",
       "\n",
       "    .dataframe tbody tr th {\n",
       "        vertical-align: top;\n",
       "    }\n",
       "\n",
       "    .dataframe thead th {\n",
       "        text-align: right;\n",
       "    }\n",
       "</style>\n",
       "<table border=\"1\" class=\"dataframe\">\n",
       "  <thead>\n",
       "    <tr style=\"text-align: right;\">\n",
       "      <th></th>\n",
       "      <th>price</th>\n",
       "    </tr>\n",
       "    <tr>\n",
       "      <th>months</th>\n",
       "      <th></th>\n",
       "    </tr>\n",
       "  </thead>\n",
       "  <tbody>\n",
       "    <tr>\n",
       "      <th>0</th>\n",
       "      <td>217.4</td>\n",
       "    </tr>\n",
       "    <tr>\n",
       "      <th>1</th>\n",
       "      <td>255.7</td>\n",
       "    </tr>\n",
       "    <tr>\n",
       "      <th>2</th>\n",
       "      <td>244.3</td>\n",
       "    </tr>\n",
       "    <tr>\n",
       "      <th>3</th>\n",
       "      <td>236.1</td>\n",
       "    </tr>\n",
       "    <tr>\n",
       "      <th>4</th>\n",
       "      <td>228.7</td>\n",
       "    </tr>\n",
       "    <tr>\n",
       "      <th>5</th>\n",
       "      <td>262.9</td>\n",
       "    </tr>\n",
       "    <tr>\n",
       "      <th>6</th>\n",
       "      <td>284.5</td>\n",
       "    </tr>\n",
       "    <tr>\n",
       "      <th>7</th>\n",
       "      <td>231.4</td>\n",
       "    </tr>\n",
       "    <tr>\n",
       "      <th>8</th>\n",
       "      <td>236.5</td>\n",
       "    </tr>\n",
       "    <tr>\n",
       "      <th>9</th>\n",
       "      <td>316.0</td>\n",
       "    </tr>\n",
       "    <tr>\n",
       "      <th>10</th>\n",
       "      <td>376.9</td>\n",
       "    </tr>\n",
       "    <tr>\n",
       "      <th>11</th>\n",
       "      <td>429.0</td>\n",
       "    </tr>\n",
       "    <tr>\n",
       "      <th>12</th>\n",
       "      <td>365.5</td>\n",
       "    </tr>\n",
       "    <tr>\n",
       "      <th>13</th>\n",
       "      <td>439.2</td>\n",
       "    </tr>\n",
       "    <tr>\n",
       "      <th>14</th>\n",
       "      <td>416.0</td>\n",
       "    </tr>\n",
       "    <tr>\n",
       "      <th>15</th>\n",
       "      <td>446.6</td>\n",
       "    </tr>\n",
       "    <tr>\n",
       "      <th>16</th>\n",
       "      <td>530.7</td>\n",
       "    </tr>\n",
       "    <tr>\n",
       "      <th>17</th>\n",
       "      <td>674.7</td>\n",
       "    </tr>\n",
       "    <tr>\n",
       "      <th>18</th>\n",
       "      <td>623.7</td>\n",
       "    </tr>\n",
       "    <tr>\n",
       "      <th>19</th>\n",
       "      <td>576.2</td>\n",
       "    </tr>\n",
       "    <tr>\n",
       "      <th>20</th>\n",
       "      <td>611.1</td>\n",
       "    </tr>\n",
       "    <tr>\n",
       "      <th>21</th>\n",
       "      <td>704.1</td>\n",
       "    </tr>\n",
       "    <tr>\n",
       "      <th>22</th>\n",
       "      <td>739.0</td>\n",
       "    </tr>\n",
       "    <tr>\n",
       "      <th>23</th>\n",
       "      <td>966.6</td>\n",
       "    </tr>\n",
       "    <tr>\n",
       "      <th>24</th>\n",
       "      <td>966.2</td>\n",
       "    </tr>\n",
       "    <tr>\n",
       "      <th>25</th>\n",
       "      <td>1189.1</td>\n",
       "    </tr>\n",
       "    <tr>\n",
       "      <th>26</th>\n",
       "      <td>1081.7</td>\n",
       "    </tr>\n",
       "    <tr>\n",
       "      <th>27</th>\n",
       "      <td>1435.2</td>\n",
       "    </tr>\n",
       "    <tr>\n",
       "      <th>28</th>\n",
       "      <td>2191.8</td>\n",
       "    </tr>\n",
       "  </tbody>\n",
       "</table>\n",
       "</div>"
      ],
      "text/plain": [
       "         price\n",
       "months        \n",
       "0        217.4\n",
       "1        255.7\n",
       "2        244.3\n",
       "3        236.1\n",
       "4        228.7\n",
       "5        262.9\n",
       "6        284.5\n",
       "7        231.4\n",
       "8        236.5\n",
       "9        316.0\n",
       "10       376.9\n",
       "11       429.0\n",
       "12       365.5\n",
       "13       439.2\n",
       "14       416.0\n",
       "15       446.6\n",
       "16       530.7\n",
       "17       674.7\n",
       "18       623.7\n",
       "19       576.2\n",
       "20       611.1\n",
       "21       704.1\n",
       "22       739.0\n",
       "23       966.6\n",
       "24       966.2\n",
       "25      1189.1\n",
       "26      1081.7\n",
       "27      1435.2\n",
       "28      2191.8"
      ]
     },
     "execution_count": 6,
     "metadata": {},
     "output_type": "execute_result"
    }
   ],
   "source": [
    "train.head(50)"
   ]
  },
  {
   "cell_type": "code",
   "execution_count": 7,
   "id": "c19988aa",
   "metadata": {},
   "outputs": [
    {
     "data": {
      "text/plain": [
       "((29, 1), (3, 1))"
      ]
     },
     "execution_count": 7,
     "metadata": {},
     "output_type": "execute_result"
    }
   ],
   "source": [
    "train.shape, test.shape"
   ]
  },
  {
   "cell_type": "code",
   "execution_count": 8,
   "id": "012991ad",
   "metadata": {},
   "outputs": [
    {
     "data": {
      "text/html": [
       "<div>\n",
       "<style scoped>\n",
       "    .dataframe tbody tr th:only-of-type {\n",
       "        vertical-align: middle;\n",
       "    }\n",
       "\n",
       "    .dataframe tbody tr th {\n",
       "        vertical-align: top;\n",
       "    }\n",
       "\n",
       "    .dataframe thead th {\n",
       "        text-align: right;\n",
       "    }\n",
       "</style>\n",
       "<table border=\"1\" class=\"dataframe\">\n",
       "  <thead>\n",
       "    <tr style=\"text-align: right;\">\n",
       "      <th></th>\n",
       "      <th>price</th>\n",
       "    </tr>\n",
       "    <tr>\n",
       "      <th>months</th>\n",
       "      <th></th>\n",
       "    </tr>\n",
       "  </thead>\n",
       "  <tbody>\n",
       "    <tr>\n",
       "      <th>29</th>\n",
       "      <td>2420.7</td>\n",
       "    </tr>\n",
       "    <tr>\n",
       "      <th>30</th>\n",
       "      <td>2856.0</td>\n",
       "    </tr>\n",
       "    <tr>\n",
       "      <th>31</th>\n",
       "      <td>4268.8</td>\n",
       "    </tr>\n",
       "  </tbody>\n",
       "</table>\n",
       "</div>"
      ],
      "text/plain": [
       "         price\n",
       "months        \n",
       "29      2420.7\n",
       "30      2856.0\n",
       "31      4268.8"
      ]
     },
     "execution_count": 8,
     "metadata": {},
     "output_type": "execute_result"
    }
   ],
   "source": [
    "test.head(50)"
   ]
  },
  {
   "cell_type": "code",
   "execution_count": 9,
   "id": "e3a947d5",
   "metadata": {},
   "outputs": [
    {
     "data": {
      "image/png": "[encoded data removed]",
      "text/plain": [
       "<Figure size 1080x288 with 1 Axes>"
      ]
     },
     "metadata": {
      "needs_background": "light"
     },
     "output_type": "display_data"
    }
   ],
   "source": [
    "plt.figure(figsize=(15,4))\n",
    "plt.plot(train['price'], label = 'Train')\n",
    "plt.plot(test['price'],label = 'Test')\n",
    "plt.legend(loc='best')\n",
    "plt.show()"
   ]
  },
  {
   "cell_type": "code",
   "execution_count": 10,
   "id": "c5fbe139",
   "metadata": {},
   "outputs": [],
   "source": [
    "y_hat_fore = test.copy()\n",
    "y_hat_fore['naive'] = train['price'][28]\n",
    "y_hat_fore['simple_avg'] = train['price'].mean()"
   ]
  },
  {
   "cell_type": "code",
   "execution_count": 11,
   "id": "4347bbcd",
   "metadata": {},
   "outputs": [
    {
     "data": {
      "text/html": [
       "<div>\n",
       "<style scoped>\n",
       "    .dataframe tbody tr th:only-of-type {\n",
       "        vertical-align: middle;\n",
       "    }\n",
       "\n",
       "    .dataframe tbody tr th {\n",
       "        vertical-align: top;\n",
       "    }\n",
       "\n",
       "    .dataframe thead th {\n",
       "        text-align: right;\n",
       "    }\n",
       "</style>\n",
       "<table border=\"1\" class=\"dataframe\">\n",
       "  <thead>\n",
       "    <tr style=\"text-align: right;\">\n",
       "      <th></th>\n",
       "      <th>price</th>\n",
       "      <th>naive</th>\n",
       "      <th>simple_avg</th>\n",
       "    </tr>\n",
       "    <tr>\n",
       "      <th>months</th>\n",
       "      <th></th>\n",
       "      <th></th>\n",
       "      <th></th>\n",
       "    </tr>\n",
       "  </thead>\n",
       "  <tbody>\n",
       "    <tr>\n",
       "      <th>29</th>\n",
       "      <td>2420.7</td>\n",
       "      <td>2191.8</td>\n",
       "      <td>595.751724</td>\n",
       "    </tr>\n",
       "    <tr>\n",
       "      <th>30</th>\n",
       "      <td>2856.0</td>\n",
       "      <td>2191.8</td>\n",
       "      <td>595.751724</td>\n",
       "    </tr>\n",
       "    <tr>\n",
       "      <th>31</th>\n",
       "      <td>4268.8</td>\n",
       "      <td>2191.8</td>\n",
       "      <td>595.751724</td>\n",
       "    </tr>\n",
       "  </tbody>\n",
       "</table>\n",
       "</div>"
      ],
      "text/plain": [
       "         price   naive  simple_avg\n",
       "months                            \n",
       "29      2420.7  2191.8  595.751724\n",
       "30      2856.0  2191.8  595.751724\n",
       "31      4268.8  2191.8  595.751724"
      ]
     },
     "execution_count": 11,
     "metadata": {},
     "output_type": "execute_result"
    }
   ],
   "source": [
    "y_hat_fore.head()"
   ]
  },
  {
   "cell_type": "code",
   "execution_count": 12,
   "id": "d6863cd6",
   "metadata": {},
   "outputs": [
    {
     "data": {
      "image/png": "[encoded data removed]",
      "text/plain": [
       "<Figure size 1080x288 with 1 Axes>"
      ]
     },
     "metadata": {
      "needs_background": "light"
     },
     "output_type": "display_data"
    }
   ],
   "source": [
    "plt.figure(figsize=(15,4))\n",
    "plt.plot(train['price'], label = 'Train')\n",
    "plt.plot(test['price'],label = 'Test')\n",
    "plt.plot(y_hat_fore['naive'], label = 'Naive')\n",
    "plt.plot(y_hat_fore['simple_avg'], label='Avg')\n",
    "plt.legend(loc='best')\n",
    "plt.show()"
   ]
  },
  {
   "cell_type": "code",
   "execution_count": 13,
   "id": "56d5c3df",
   "metadata": {},
   "outputs": [],
   "source": [
    "def rsme_mape(col_name):\n",
    "    rsme = np.sqrt(mean_squared_error(y_hat_fore['price'], y_hat_fore[col_name])).round(2)\n",
    "    mape = mean_absolute_percentage_error(y_hat_fore['price'], y_hat_fore[col_name]).round(2)\n",
    "    return rsme, mape"
   ]
  },
  {
   "cell_type": "code",
   "execution_count": 14,
   "id": "4c3fd403",
   "metadata": {},
   "outputs": [
    {
     "data": {
      "text/plain": [
       "(1265.9, 0.27)"
      ]
     },
     "execution_count": 14,
     "metadata": {},
     "output_type": "execute_result"
    }
   ],
   "source": [
    "rsme, mape = rsme_mape('naive')\n",
    "rsme,mape"
   ]
  },
  {
   "cell_type": "code",
   "execution_count": 15,
   "id": "7c2aa3fd",
   "metadata": {},
   "outputs": [
    {
     "data": {
      "text/plain": [
       "(2703.73, 0.8)"
      ]
     },
     "execution_count": 15,
     "metadata": {},
     "output_type": "execute_result"
    }
   ],
   "source": [
    "rsme, mape = rsme_mape('simple_avg')\n",
    "rsme,mape"
   ]
  },
  {
   "cell_type": "code",
   "execution_count": 16,
   "id": "c16e2d2e",
   "metadata": {},
   "outputs": [],
   "source": [
    "from statsmodels.tsa.holtwinters import SimpleExpSmoothing "
   ]
  },
  {
   "cell_type": "code",
   "execution_count": 63,
   "id": "39dd669c",
   "metadata": {},
   "outputs": [
    {
     "data": {
      "text/plain": [
       "{'smoothing_level': 0.995,\n",
       " 'smoothing_trend': nan,\n",
       " 'smoothing_seasonal': nan,\n",
       " 'damping_trend': nan,\n",
       " 'initial_level': 217.4,\n",
       " 'initial_trend': nan,\n",
       " 'initial_seasons': array([], dtype=float64),\n",
       " 'use_boxcox': False,\n",
       " 'lamda': None,\n",
       " 'remove_bias': False}"
      ]
     },
     "execution_count": 63,
     "metadata": {},
     "output_type": "execute_result"
    }
   ],
   "source": [
    "model = SimpleExpSmoothing(train['price'])\n",
    "model_fit = model.fit(optimized=True)\n",
    "model_fit.params"
   ]
  },
  {
   "cell_type": "code",
   "execution_count": 64,
   "id": "3b39115e",
   "metadata": {},
   "outputs": [],
   "source": [
    "y_hat_fore['ses_forecast'] = model_fit.forecast(3)"
   ]
  },
  {
   "cell_type": "code",
   "execution_count": 65,
   "id": "a576c11e",
   "metadata": {},
   "outputs": [
    {
     "data": {
      "text/plain": [
       "(1268.86, 0.27)"
      ]
     },
     "execution_count": 65,
     "metadata": {},
     "output_type": "execute_result"
    }
   ],
   "source": [
    "rsme, mape = rsme_mape('ses_forecast')\n",
    "rsme,mape"
   ]
  },
  {
   "cell_type": "code",
   "execution_count": 66,
   "id": "38f9ac7a",
   "metadata": {},
   "outputs": [
    {
     "data": {
      "image/png": "[encoded data removed]",
      "text/plain": [
       "<Figure size 1080x288 with 1 Axes>"
      ]
     },
     "metadata": {
      "needs_background": "light"
     },
     "output_type": "display_data"
    }
   ],
   "source": [
    "plt.figure(figsize=(15,4))\n",
    "plt.plot(train['price'], label = 'Train')\n",
    "plt.plot(test['price'],label = 'Test')\n",
    "plt.plot(y_hat_fore['ses_forecast'], label = 'holt')\n",
    "plt.legend(loc='best')\n",
    "plt.show()"
   ]
  },
  {
   "cell_type": "code",
   "execution_count": 25,
   "id": "ff7c9cd0",
   "metadata": {},
   "outputs": [],
   "source": []
  },
  {
   "cell_type": "code",
   "execution_count": 52,
   "id": "df8fc06d",
   "metadata": {},
   "outputs": [],
   "source": [
    "y_hat_avg = data.copy()\n",
    "y_hat_avg['roll_12'] = data['price'].rolling(12).mean()\n",
    "y_hat_avg['roll_06'] = data['price'].rolling(6).mean()\n",
    "y_hat_avg['roll_03'] = data['price'].rolling(3).mean()\n",
    "y_hat_avg = y_hat_avg.fillna(0)"
   ]
  },
  {
   "cell_type": "code",
   "execution_count": 53,
   "id": "cc5835eb",
   "metadata": {},
   "outputs": [],
   "source": [
    "rsme_12 = np.sqrt(mean_squared_error(y_hat_avg['price'], y_hat_avg['roll_12'])).round(2)\n",
    "mape_12 = mean_absolute_percentage_error(y_hat_avg['price'], y_hat_avg['roll_12']).round(2)\n",
    "\n",
    "rsme_06 = np.sqrt(mean_squared_error(y_hat_avg['price'], y_hat_avg['roll_06'])).round(2)\n",
    "mape_06 = mean_absolute_percentage_error(y_hat_avg['price'], y_hat_avg['roll_06']).round(2)\n",
    "\n",
    "rsme_03 = np.sqrt(mean_squared_error(y_hat_avg['price'], y_hat_avg['roll_03'])).round(2)\n",
    "mape_03 = mean_absolute_percentage_error(y_hat_avg['price'], y_hat_avg['roll_03']).round(2)"
   ]
  },
  {
   "cell_type": "code",
   "execution_count": 54,
   "id": "23c2247c",
   "metadata": {},
   "outputs": [
    {
     "data": {
      "text/plain": [
       "(675.28, 0.58)"
      ]
     },
     "execution_count": 54,
     "metadata": {},
     "output_type": "execute_result"
    }
   ],
   "source": [
    "rsme_12, mape_12"
   ]
  },
  {
   "cell_type": "code",
   "execution_count": 55,
   "id": "352bb693",
   "metadata": {},
   "outputs": [
    {
     "data": {
      "text/plain": [
       "(463.92, 0.32)"
      ]
     },
     "execution_count": 55,
     "metadata": {},
     "output_type": "execute_result"
    }
   ],
   "source": [
    "rsme_06, mape_06"
   ]
  },
  {
   "cell_type": "code",
   "execution_count": 56,
   "id": "112dc09b",
   "metadata": {},
   "outputs": [
    {
     "data": {
      "text/plain": [
       "(257.34, 0.16)"
      ]
     },
     "execution_count": 56,
     "metadata": {},
     "output_type": "execute_result"
    }
   ],
   "source": [
    "rsme_03, mape_03"
   ]
  },
  {
   "cell_type": "code",
   "execution_count": 68,
   "id": "090c7e42",
   "metadata": {},
   "outputs": [],
   "source": [
    "from statsmodels.tsa.holtwinters import ExponentialSmoothing"
   ]
  },
  {
   "cell_type": "code",
   "execution_count": 75,
   "id": "e90054a3",
   "metadata": {},
   "outputs": [],
   "source": [
    "model = ExponentialSmoothing(np.array(train['price']))\n",
    "model_fit = model.fit(optimized=True)"
   ]
  },
  {
   "cell_type": "code",
   "execution_count": 76,
   "id": "5d137d76",
   "metadata": {},
   "outputs": [
    {
     "data": {
      "text/plain": [
       "{'smoothing_level': 0.995,\n",
       " 'smoothing_trend': nan,\n",
       " 'smoothing_seasonal': nan,\n",
       " 'damping_trend': nan,\n",
       " 'initial_level': 217.4,\n",
       " 'initial_trend': nan,\n",
       " 'initial_seasons': array([], dtype=float64),\n",
       " 'use_boxcox': False,\n",
       " 'lamda': None,\n",
       " 'remove_bias': False}"
      ]
     },
     "execution_count": 76,
     "metadata": {},
     "output_type": "execute_result"
    }
   ],
   "source": [
    "model_fit.params"
   ]
  },
  {
   "cell_type": "code",
   "execution_count": 77,
   "id": "76810783",
   "metadata": {},
   "outputs": [
    {
     "data": {
      "text/html": [
       "<div>\n",
       "<style scoped>\n",
       "    .dataframe tbody tr th:only-of-type {\n",
       "        vertical-align: middle;\n",
       "    }\n",
       "\n",
       "    .dataframe tbody tr th {\n",
       "        vertical-align: top;\n",
       "    }\n",
       "\n",
       "    .dataframe thead th {\n",
       "        text-align: right;\n",
       "    }\n",
       "</style>\n",
       "<table border=\"1\" class=\"dataframe\">\n",
       "  <thead>\n",
       "    <tr style=\"text-align: right;\">\n",
       "      <th></th>\n",
       "      <th>name</th>\n",
       "      <th>param</th>\n",
       "      <th>optimized</th>\n",
       "    </tr>\n",
       "  </thead>\n",
       "  <tbody>\n",
       "    <tr>\n",
       "      <th>smoothing_level</th>\n",
       "      <td>alpha</td>\n",
       "      <td>0.995</td>\n",
       "      <td>True</td>\n",
       "    </tr>\n",
       "    <tr>\n",
       "      <th>initial_level</th>\n",
       "      <td>l.0</td>\n",
       "      <td>217.400</td>\n",
       "      <td>True</td>\n",
       "    </tr>\n",
       "  </tbody>\n",
       "</table>\n",
       "</div>"
      ],
      "text/plain": [
       "                  name    param  optimized\n",
       "smoothing_level  alpha    0.995       True\n",
       "initial_level      l.0  217.400       True"
      ]
     },
     "execution_count": 77,
     "metadata": {},
     "output_type": "execute_result"
    }
   ],
   "source": [
    "model_fit.params_formatted"
   ]
  },
  {
   "cell_type": "code",
   "execution_count": 78,
   "id": "5b89824b",
   "metadata": {},
   "outputs": [],
   "source": [
    "y_hat_new = test.copy()\n",
    "y_hat_new['forecast'] = model_fit.forecast(3)"
   ]
  },
  {
   "cell_type": "code",
   "execution_count": 79,
   "id": "66e23454",
   "metadata": {},
   "outputs": [
    {
     "data": {
      "text/plain": [
       "0.27"
      ]
     },
     "execution_count": 79,
     "metadata": {},
     "output_type": "execute_result"
    }
   ],
   "source": [
    "mean_absolute_percentage_error(y_hat_new['price'], y_hat_new['forecast']).round(2)"
   ]
  },
  {
   "cell_type": "code",
   "execution_count": 88,
   "id": "44c6b603",
   "metadata": {},
   "outputs": [],
   "source": [
    "model = ExponentialSmoothing(np.array(train['price']), \n",
    "                             seasonal_periods=3, \n",
    "                             trend='additive', \n",
    "                             seasonal=None)\n",
    "model_fit = model.fit(smoothing_level=0.9, \n",
    "                      smoothing_slope=0.01, \n",
    "                      optimized=False)"
   ]
  },
  {
   "cell_type": "code",
   "execution_count": 89,
   "id": "0edc072c",
   "metadata": {},
   "outputs": [],
   "source": [
    "y_hat_holt = test.copy()\n",
    "y_hat_holt['holt_forecast'] = model_fit.forecast(3)"
   ]
  },
  {
   "cell_type": "code",
   "execution_count": 90,
   "id": "bc441b3c",
   "metadata": {},
   "outputs": [
    {
     "data": {
      "image/png": "[encoded data removed]",
      "text/plain": [
       "<Figure size 864x288 with 1 Axes>"
      ]
     },
     "metadata": {
      "needs_background": "light"
     },
     "output_type": "display_data"
    }
   ],
   "source": [
    "plt.figure(figsize=(12,4))\n",
    "plt.plot(train['price'], label='Train')\n",
    "plt.plot(test['price'], label = 'Test')\n",
    "plt.plot(y_hat_holt['holt_forecast'], label = 'holt')\n",
    "plt.legend(loc='best')\n",
    "plt.show()"
   ]
  },
  {
   "cell_type": "code",
   "execution_count": 91,
   "id": "ab9960e1",
   "metadata": {},
   "outputs": [
    {
     "data": {
      "text/plain": [
       "0.27"
      ]
     },
     "execution_count": 91,
     "metadata": {},
     "output_type": "execute_result"
    }
   ],
   "source": [
    "mean_absolute_percentage_error(y_hat_holt['price'], y_hat_holt['holt_forecast']).round(2)"
   ]
  },
  {
   "cell_type": "code",
   "execution_count": 92,
   "id": "a1dff1b7",
   "metadata": {},
   "outputs": [],
   "source": [
    "model = ExponentialSmoothing(np.array(train['price']), \n",
    "                             seasonal_periods=3, \n",
    "                             trend='multiplicative', \n",
    "                             seasonal=None)\n",
    "model_fit = model.fit(smoothing_level=0.9, \n",
    "                      smoothing_slope=0.01, \n",
    "                      optimized=False)"
   ]
  },
  {
   "cell_type": "code",
   "execution_count": 93,
   "id": "877f2733",
   "metadata": {},
   "outputs": [],
   "source": [
    "y_hat_holt = test.copy()\n",
    "y_hat_holt['holt_forecast'] = model_fit.forecast(3)"
   ]
  },
  {
   "cell_type": "code",
   "execution_count": 94,
   "id": "dbddb0c1",
   "metadata": {},
   "outputs": [
    {
     "data": {
      "image/png": "[encoded data removed]",
      "text/plain": [
       "<Figure size 864x288 with 1 Axes>"
      ]
     },
     "metadata": {
      "needs_background": "light"
     },
     "output_type": "display_data"
    }
   ],
   "source": [
    "plt.figure(figsize=(12,4))\n",
    "plt.plot(train['price'], label='Train')\n",
    "plt.plot(test['price'], label = 'Test')\n",
    "plt.plot(y_hat_holt['holt_forecast'], label = 'holt')\n",
    "plt.legend(loc='best')\n",
    "plt.show()"
   ]
  },
  {
   "cell_type": "code",
   "execution_count": 95,
   "id": "1922de84",
   "metadata": {},
   "outputs": [
    {
     "data": {
      "text/plain": [
       "0.08"
      ]
     },
     "execution_count": 95,
     "metadata": {},
     "output_type": "execute_result"
    }
   ],
   "source": [
    "mean_absolute_percentage_error(y_hat_holt['price'], y_hat_holt['holt_forecast']).round(2)"
   ]
  },
  {
   "cell_type": "code",
   "execution_count": null,
   "id": "5e6aa0d7",
   "metadata": {},
   "outputs": [],
   "source": []
  }
 ],
 "metadata": {
  "kernelspec": {
   "display_name": "Python 3 (ipykernel)",
   "language": "python",
   "name": "python3"
  },
  "language_info": {
   "codemirror_mode": {
    "name": "ipython",
    "version": 3
   },
   "file_extension": ".py",
   "mimetype": "text/x-python",
   "name": "python",
   "nbconvert_exporter": "python",
   "pygments_lexer": "ipython3",
   "version": "3.9.7"
  }
 },
 "nbformat": 4,
 "nbformat_minor": 5
}
